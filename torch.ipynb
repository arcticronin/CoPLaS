{
 "cells": [
  {
   "cell_type": "code",
   "execution_count": 1,
   "id": "5bd3083d-0d8c-44a6-b559-2db4f01893f8",
   "metadata": {},
   "outputs": [],
   "source": [
    "import numpy as np\n",
    "import pandas as pd"
   ]
  },
  {
   "cell_type": "code",
   "execution_count": 14,
   "id": "4ecb4da9-05c5-43c5-893b-a1dc6866713e",
   "metadata": {},
   "outputs": [],
   "source": [
    "data = pd.read_csv(\"DaniDatasets/preprocessed.csv\", index_col=0)"
   ]
  },
  {
   "cell_type": "code",
   "execution_count": 28,
   "id": "12e778a2-7e22-4954-b131-8ec53cbd9053",
   "metadata": {},
   "outputs": [
    {
     "data": {
      "text/plain": [
       "10.3842148041016"
      ]
     },
     "execution_count": 28,
     "metadata": {},
     "output_type": "execute_result"
    }
   ],
   "source": [
    "data[\"rna_median_ARHGAP26\"].max()"
   ]
  },
  {
   "cell_type": "code",
   "execution_count": 11,
   "id": "18d64ddc-fb83-446e-b344-c2720e5c5be1",
   "metadata": {},
   "outputs": [
    {
     "data": {
      "text/plain": [
       "(319, 8379)"
      ]
     },
     "execution_count": 11,
     "metadata": {},
     "output_type": "execute_result"
    }
   ],
   "source": [
    "data.shape"
   ]
  },
  {
   "cell_type": "code",
   "execution_count": 12,
   "id": "8bd71353-bebe-45bf-ad8d-c4385863831f",
   "metadata": {},
   "outputs": [],
   "source": [
    "data2 = pd.read_csv(\"processed/BLCA_data_preprocessed.csv\")"
   ]
  },
  {
   "cell_type": "code",
   "execution_count": 13,
   "id": "19a66c6d-f4ee-44d8-94b4-54a8f3a5e7a6",
   "metadata": {},
   "outputs": [
    {
     "data": {
      "text/plain": [
       "(330, 84758)"
      ]
     },
     "execution_count": 13,
     "metadata": {},
     "output_type": "execute_result"
    }
   ],
   "source": [
    "data2.shape"
   ]
  },
  {
   "cell_type": "code",
   "execution_count": null,
   "id": "a26a3248-5d77-416d-b2a0-5951014e3d55",
   "metadata": {},
   "outputs": [],
   "source": []
  }
 ],
 "metadata": {
  "kernelspec": {
   "display_name": "Python 3 (ipykernel)",
   "language": "python",
   "name": "python3"
  },
  "language_info": {
   "codemirror_mode": {
    "name": "ipython",
    "version": 3
   },
   "file_extension": ".py",
   "mimetype": "text/x-python",
   "name": "python",
   "nbconvert_exporter": "python",
   "pygments_lexer": "ipython3",
   "version": "3.12.0"
  }
 },
 "nbformat": 4,
 "nbformat_minor": 5
}
