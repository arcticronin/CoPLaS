{
 "cells": [
  {
   "cell_type": "code",
   "execution_count": 17,
   "id": "2dbbfcf2-3965-4b75-bc0d-2d118917b9bb",
   "metadata": {},
   "outputs": [],
   "source": [
    "from sksurv.datasets import load_breast_cancer"
   ]
  },
  {
   "cell_type": "code",
   "execution_count": 18,
   "id": "1aa3f52f-6706-4747-8660-478a6748ec33",
   "metadata": {},
   "outputs": [],
   "source": [
    "import os\n",
    "\n",
    "import numpy as np\n",
    "import pandas as pd\n",
    "from sklearn.model_selection import train_test_split\n",
    "from sklearn.preprocessing import StandardScaler\n",
    "from lifelines import CoxPHFitter\n",
    "\n",
    "from sklearn import linear_model\n",
    "#from sklearn.linear_model import LassoCV\n",
    "#from sklearn.model_selection import cross_val_score\n",
    "\n",
    "from sksurv.linear_model import CoxPHSurvivalAnalysis \n",
    "\n",
    "from sksurv.linear_model import  CoxnetSurvivalAnalysis\n",
    "## elastic net but can be applyed wuth lasso\n",
    "\n",
    "from lifelines.utils import concordance_index\n",
    "from lifelines.utils import k_fold_cross_validation\n",
    "from lifelines import CoxPHFitter\n",
    "\n",
    "from sklearn.model_selection import GridSearchCV\n",
    "\n",
    "## hot one encoding\n",
    "from sklearn.compose import ColumnTransformer\n",
    "from sklearn.preprocessing import Normalizer\n",
    "from sklearn.pipeline import make_pipeline\n",
    "from sklearn.preprocessing import OneHotEncoder\n",
    "\n",
    "## Scoring\n",
    "from sklearn.metrics import make_scorer\n",
    "from lifelines.utils import concordance_index"
   ]
  },
  {
   "cell_type": "code",
   "execution_count": 19,
   "id": "1f60a8ee",
   "metadata": {},
   "outputs": [],
   "source": [
    "#torch.arange(10)"
   ]
  },
  {
   "cell_type": "code",
   "execution_count": 20,
   "id": "21cb753f-9e54-481e-99e5-78e76cb50ef9",
   "metadata": {},
   "outputs": [],
   "source": [
    "# "
   ]
  },
  {
   "cell_type": "code",
   "execution_count": 21,
   "id": "eef3394e-3853-47a0-b7ce-6d49c4f11b84",
   "metadata": {},
   "outputs": [
    {
     "data": {
      "text/plain": [
       "'/home/ronin/Dev/miniconda3/notebooks/thesis_notebook'"
      ]
     },
     "execution_count": 21,
     "metadata": {},
     "output_type": "execute_result"
    }
   ],
   "source": [
    "os.getcwd()"
   ]
  },
  {
   "cell_type": "code",
   "execution_count": 22,
   "id": "774b2ee3-1249-431c-9fdb-e7e1691b4932",
   "metadata": {},
   "outputs": [],
   "source": [
    "data = pd.read_csv(\"processed/BLCA_data_preprocessed.csv\")"
   ]
  },
  {
   "cell_type": "code",
   "execution_count": 23,
   "id": "341bba47-267c-423b-a6bf-463ea90727e6",
   "metadata": {},
   "outputs": [],
   "source": [
    "modality_list = [\"clinical\",\n",
    "\"gex\",\n",
    "\"rppa\",\n",
    "\"mirna\",\n",
    "\"mutation\",\n",
    "\"meth\",\n",
    "\"cnv\"]"
   ]
  },
  {
   "cell_type": "code",
   "execution_count": 25,
   "id": "a8dcc131-cd99-4ef7-9b31-c7fc4bb9a2cf",
   "metadata": {},
   "outputs": [],
   "source": [
    "omic = 0 # 0 is clinical\n",
    "modalities_to_keep = modality_list[omic]\n",
    "modality_mask = [col for col in data.columns if col.rsplit(\"_\")[0] in modalities_to_keep]"
   ]
  },
  {
   "cell_type": "code",
   "execution_count": 26,
   "id": "f0f667d6-85aa-47c7-9b15-f998272b187b",
   "metadata": {},
   "outputs": [],
   "source": [
    "X = data[modality_mask]\n",
    "y = data[['OS', 'OS_days']].rename(columns={'OS_days' : 'time'}).rename(columns={'OS' : 'event'})\n",
    "y['event'] = y['event'].astype(bool)\n",
    "y = np.array(y.to_records(index=False))"
   ]
  },
  {
   "cell_type": "code",
   "execution_count": 1,
   "id": "68441d42-6725-47de-8658-dedb17ff145a",
   "metadata": {},
   "outputs": [
    {
     "ename": "NameError",
     "evalue": "name 'X' is not defined",
     "output_type": "error",
     "traceback": [
      "\u001b[0;31m---------------------------------------------------------------------------\u001b[0m",
      "\u001b[0;31mNameError\u001b[0m                                 Traceback (most recent call last)",
      "Cell \u001b[0;32mIn[1], line 1\u001b[0m\n\u001b[0;32m----> 1\u001b[0m \u001b[43mX\u001b[49m[\u001b[38;5;124m\"\u001b[39m\u001b[38;5;124mclinical_gender\u001b[39m\u001b[38;5;124m\"\u001b[39m]\n",
      "\u001b[0;31mNameError\u001b[0m: name 'X' is not defined"
     ]
    }
   ],
   "source": [
    "X[\"clinical_gender\"]"
   ]
  },
  {
   "cell_type": "code",
   "execution_count": 28,
   "id": "7a8be960-39a8-42c7-8421-06952931f1f5",
   "metadata": {},
   "outputs": [
    {
     "data": {
      "text/plain": [
       "array([nan])"
      ]
     },
     "execution_count": 28,
     "metadata": {},
     "output_type": "execute_result"
    }
   ],
   "source": [
    "X[\"clinical_clinical_stage\"].unique()"
   ]
  },
  {
   "cell_type": "code",
   "execution_count": 29,
   "id": "239270f0-6b99-425d-8e57-835021ed17e9",
   "metadata": {},
   "outputs": [],
   "source": [
    "X = data[modality_mask]"
   ]
  },
  {
   "cell_type": "code",
   "execution_count": 30,
   "id": "8f905c0e-92c6-4bda-9e90-bdc57a4f670f",
   "metadata": {},
   "outputs": [
    {
     "data": {
      "text/plain": [
       "clinical_age_at_initial_pathologic_diagnosis      int64\n",
       "clinical_gender                                  object\n",
       "clinical_race                                    object\n",
       "clinical_ajcc_pathologic_tumor_stage             object\n",
       "clinical_clinical_stage                         float64\n",
       "clinical_histological_type                       object\n",
       "dtype: object"
      ]
     },
     "execution_count": 30,
     "metadata": {},
     "output_type": "execute_result"
    }
   ],
   "source": [
    "X.dtypes"
   ]
  },
  {
   "cell_type": "code",
   "execution_count": 129,
   "id": "83b6d192-4a9c-4321-8326-18288614f1f7",
   "metadata": {},
   "outputs": [],
   "source": [
    "#X[\"clinical_gender\"].unique()"
   ]
  },
  {
   "cell_type": "code",
   "execution_count": 130,
   "id": "7a42370f-8ae5-447f-b124-8e55f6408d57",
   "metadata": {},
   "outputs": [],
   "source": [
    "#X[\"clinical_race\"].unique()"
   ]
  },
  {
   "cell_type": "code",
   "execution_count": 31,
   "id": "e523e24a-9898-4019-a6cd-3c64a549bcef",
   "metadata": {},
   "outputs": [],
   "source": [
    "if omic == 0:\n",
    "    ct = ColumnTransformer(\n",
    "        [\n",
    "            (\n",
    "                \"numerical\",\n",
    "                make_pipeline(StandardScaler()),\n",
    "                np.where(X.dtypes != \"object\")[0],\n",
    "            ),\n",
    "            (\n",
    "                \"categorical\",\n",
    "                make_pipeline(\n",
    "                    OneHotEncoder(\n",
    "                        sparse=False, handle_unknown=\"ignore\"\n",
    "                    ),\n",
    "                    StandardScaler(),\n",
    "                ),\n",
    "                np.where(X.dtypes == \"object\")[0],\n",
    "            ),\n",
    "        ]\n",
    "    )\n",
    "else:\n",
    "    ct = ColumnTransformer(\n",
    "        [\n",
    "            (\n",
    "                \"numerical\",\n",
    "                make_pipeline(StandardScaler()),\n",
    "                np.where(X_train.dtypes != \"object\")[0],\n",
    "            )\n",
    "        ]\n",
    "    )"
   ]
  },
  {
   "cell_type": "code",
   "execution_count": 32,
   "id": "de595033-0435-41bc-884b-e7d142788c12",
   "metadata": {},
   "outputs": [
    {
     "name": "stderr",
     "output_type": "stream",
     "text": [
      "/home/ronin/Dev/miniconda3/lib/python3.10/site-packages/sklearn/utils/extmath.py:1047: RuntimeWarning: invalid value encountered in divide\n",
      "  updated_mean = (last_sum + new_sum) / updated_sample_count\n",
      "/home/ronin/Dev/miniconda3/lib/python3.10/site-packages/sklearn/utils/extmath.py:1052: RuntimeWarning: invalid value encountered in divide\n",
      "  T = new_sum / new_sample_count\n",
      "/home/ronin/Dev/miniconda3/lib/python3.10/site-packages/sklearn/utils/extmath.py:1072: RuntimeWarning: invalid value encountered in divide\n",
      "  new_unnormalized_variance -= correction**2 / new_sample_count\n",
      "/home/ronin/Dev/miniconda3/lib/python3.10/site-packages/sklearn/preprocessing/_encoders.py:868: FutureWarning: `sparse` was renamed to `sparse_output` in version 1.2 and will be removed in 1.4. `sparse_output` is ignored unless you leave `sparse` to its default value.\n",
      "  warnings.warn(\n"
     ]
    },
    {
     "data": {
      "text/html": [
       "<div>\n",
       "<style scoped>\n",
       "    .dataframe tbody tr th:only-of-type {\n",
       "        vertical-align: middle;\n",
       "    }\n",
       "\n",
       "    .dataframe tbody tr th {\n",
       "        vertical-align: top;\n",
       "    }\n",
       "\n",
       "    .dataframe thead th {\n",
       "        text-align: right;\n",
       "    }\n",
       "</style>\n",
       "<table border=\"1\" class=\"dataframe\">\n",
       "  <thead>\n",
       "    <tr style=\"text-align: right;\">\n",
       "      <th></th>\n",
       "      <th>0</th>\n",
       "      <th>1</th>\n",
       "      <th>2</th>\n",
       "      <th>3</th>\n",
       "      <th>4</th>\n",
       "      <th>5</th>\n",
       "      <th>6</th>\n",
       "      <th>7</th>\n",
       "      <th>8</th>\n",
       "      <th>9</th>\n",
       "      <th>10</th>\n",
       "      <th>11</th>\n",
       "      <th>12</th>\n",
       "      <th>13</th>\n",
       "      <th>14</th>\n",
       "    </tr>\n",
       "  </thead>\n",
       "  <tbody>\n",
       "    <tr>\n",
       "      <th>0</th>\n",
       "      <td>-0.271433</td>\n",
       "      <td>0.0</td>\n",
       "      <td>-0.575018</td>\n",
       "      <td>0.575018</td>\n",
       "      <td>-0.360745</td>\n",
       "      <td>-0.24717</td>\n",
       "      <td>0.518875</td>\n",
       "      <td>-0.202508</td>\n",
       "      <td>-0.078087</td>\n",
       "      <td>-0.664114</td>\n",
       "      <td>-0.731357</td>\n",
       "      <td>1.414214</td>\n",
       "      <td>-0.078087</td>\n",
       "      <td>0.095783</td>\n",
       "      <td>-0.095783</td>\n",
       "    </tr>\n",
       "    <tr>\n",
       "      <th>1</th>\n",
       "      <td>-0.650176</td>\n",
       "      <td>0.0</td>\n",
       "      <td>1.739077</td>\n",
       "      <td>-1.739077</td>\n",
       "      <td>-0.360745</td>\n",
       "      <td>-0.24717</td>\n",
       "      <td>0.518875</td>\n",
       "      <td>-0.202508</td>\n",
       "      <td>-0.078087</td>\n",
       "      <td>-0.664114</td>\n",
       "      <td>-0.731357</td>\n",
       "      <td>1.414214</td>\n",
       "      <td>-0.078087</td>\n",
       "      <td>0.095783</td>\n",
       "      <td>-0.095783</td>\n",
       "    </tr>\n",
       "    <tr>\n",
       "      <th>2</th>\n",
       "      <td>1.054169</td>\n",
       "      <td>0.0</td>\n",
       "      <td>1.739077</td>\n",
       "      <td>-1.739077</td>\n",
       "      <td>-0.360745</td>\n",
       "      <td>-0.24717</td>\n",
       "      <td>0.518875</td>\n",
       "      <td>-0.202508</td>\n",
       "      <td>-0.078087</td>\n",
       "      <td>-0.664114</td>\n",
       "      <td>1.367320</td>\n",
       "      <td>-0.707107</td>\n",
       "      <td>-0.078087</td>\n",
       "      <td>0.095783</td>\n",
       "      <td>-0.095783</td>\n",
       "    </tr>\n",
       "    <tr>\n",
       "      <th>3</th>\n",
       "      <td>0.296682</td>\n",
       "      <td>0.0</td>\n",
       "      <td>-0.575018</td>\n",
       "      <td>0.575018</td>\n",
       "      <td>-0.360745</td>\n",
       "      <td>-0.24717</td>\n",
       "      <td>0.518875</td>\n",
       "      <td>-0.202508</td>\n",
       "      <td>-0.078087</td>\n",
       "      <td>-0.664114</td>\n",
       "      <td>1.367320</td>\n",
       "      <td>-0.707107</td>\n",
       "      <td>-0.078087</td>\n",
       "      <td>0.095783</td>\n",
       "      <td>-0.095783</td>\n",
       "    </tr>\n",
       "    <tr>\n",
       "      <th>4</th>\n",
       "      <td>-0.744862</td>\n",
       "      <td>0.0</td>\n",
       "      <td>-0.575018</td>\n",
       "      <td>0.575018</td>\n",
       "      <td>-0.360745</td>\n",
       "      <td>-0.24717</td>\n",
       "      <td>0.518875</td>\n",
       "      <td>-0.202508</td>\n",
       "      <td>-0.078087</td>\n",
       "      <td>1.505765</td>\n",
       "      <td>-0.731357</td>\n",
       "      <td>-0.707107</td>\n",
       "      <td>-0.078087</td>\n",
       "      <td>0.095783</td>\n",
       "      <td>-0.095783</td>\n",
       "    </tr>\n",
       "    <tr>\n",
       "      <th>...</th>\n",
       "      <td>...</td>\n",
       "      <td>...</td>\n",
       "      <td>...</td>\n",
       "      <td>...</td>\n",
       "      <td>...</td>\n",
       "      <td>...</td>\n",
       "      <td>...</td>\n",
       "      <td>...</td>\n",
       "      <td>...</td>\n",
       "      <td>...</td>\n",
       "      <td>...</td>\n",
       "      <td>...</td>\n",
       "      <td>...</td>\n",
       "      <td>...</td>\n",
       "      <td>...</td>\n",
       "    </tr>\n",
       "    <tr>\n",
       "      <th>325</th>\n",
       "      <td>-0.271433</td>\n",
       "      <td>0.0</td>\n",
       "      <td>-0.575018</td>\n",
       "      <td>0.575018</td>\n",
       "      <td>-0.360745</td>\n",
       "      <td>-0.24717</td>\n",
       "      <td>0.518875</td>\n",
       "      <td>-0.202508</td>\n",
       "      <td>-0.078087</td>\n",
       "      <td>-0.664114</td>\n",
       "      <td>1.367320</td>\n",
       "      <td>-0.707107</td>\n",
       "      <td>-0.078087</td>\n",
       "      <td>0.095783</td>\n",
       "      <td>-0.095783</td>\n",
       "    </tr>\n",
       "    <tr>\n",
       "      <th>326</th>\n",
       "      <td>1.432913</td>\n",
       "      <td>0.0</td>\n",
       "      <td>-0.575018</td>\n",
       "      <td>0.575018</td>\n",
       "      <td>-0.360745</td>\n",
       "      <td>-0.24717</td>\n",
       "      <td>0.518875</td>\n",
       "      <td>-0.202508</td>\n",
       "      <td>-0.078087</td>\n",
       "      <td>1.505765</td>\n",
       "      <td>-0.731357</td>\n",
       "      <td>-0.707107</td>\n",
       "      <td>-0.078087</td>\n",
       "      <td>0.095783</td>\n",
       "      <td>-0.095783</td>\n",
       "    </tr>\n",
       "    <tr>\n",
       "      <th>327</th>\n",
       "      <td>-0.839548</td>\n",
       "      <td>0.0</td>\n",
       "      <td>1.739077</td>\n",
       "      <td>-1.739077</td>\n",
       "      <td>-0.360745</td>\n",
       "      <td>-0.24717</td>\n",
       "      <td>-1.927248</td>\n",
       "      <td>4.938078</td>\n",
       "      <td>-0.078087</td>\n",
       "      <td>-0.664114</td>\n",
       "      <td>1.367320</td>\n",
       "      <td>-0.707107</td>\n",
       "      <td>-0.078087</td>\n",
       "      <td>0.095783</td>\n",
       "      <td>-0.095783</td>\n",
       "    </tr>\n",
       "    <tr>\n",
       "      <th>328</th>\n",
       "      <td>0.107311</td>\n",
       "      <td>0.0</td>\n",
       "      <td>-0.575018</td>\n",
       "      <td>0.575018</td>\n",
       "      <td>-0.360745</td>\n",
       "      <td>-0.24717</td>\n",
       "      <td>0.518875</td>\n",
       "      <td>-0.202508</td>\n",
       "      <td>-0.078087</td>\n",
       "      <td>-0.664114</td>\n",
       "      <td>1.367320</td>\n",
       "      <td>-0.707107</td>\n",
       "      <td>-0.078087</td>\n",
       "      <td>0.095783</td>\n",
       "      <td>-0.095783</td>\n",
       "    </tr>\n",
       "    <tr>\n",
       "      <th>329</th>\n",
       "      <td>-0.460804</td>\n",
       "      <td>0.0</td>\n",
       "      <td>-0.575018</td>\n",
       "      <td>0.575018</td>\n",
       "      <td>-0.360745</td>\n",
       "      <td>-0.24717</td>\n",
       "      <td>0.518875</td>\n",
       "      <td>-0.202508</td>\n",
       "      <td>-0.078087</td>\n",
       "      <td>-0.664114</td>\n",
       "      <td>-0.731357</td>\n",
       "      <td>1.414214</td>\n",
       "      <td>-0.078087</td>\n",
       "      <td>0.095783</td>\n",
       "      <td>-0.095783</td>\n",
       "    </tr>\n",
       "  </tbody>\n",
       "</table>\n",
       "<p>330 rows × 15 columns</p>\n",
       "</div>"
      ],
      "text/plain": [
       "           0    1         2         3         4        5         6         7   \\\n",
       "0   -0.271433  0.0 -0.575018  0.575018 -0.360745 -0.24717  0.518875 -0.202508   \n",
       "1   -0.650176  0.0  1.739077 -1.739077 -0.360745 -0.24717  0.518875 -0.202508   \n",
       "2    1.054169  0.0  1.739077 -1.739077 -0.360745 -0.24717  0.518875 -0.202508   \n",
       "3    0.296682  0.0 -0.575018  0.575018 -0.360745 -0.24717  0.518875 -0.202508   \n",
       "4   -0.744862  0.0 -0.575018  0.575018 -0.360745 -0.24717  0.518875 -0.202508   \n",
       "..        ...  ...       ...       ...       ...      ...       ...       ...   \n",
       "325 -0.271433  0.0 -0.575018  0.575018 -0.360745 -0.24717  0.518875 -0.202508   \n",
       "326  1.432913  0.0 -0.575018  0.575018 -0.360745 -0.24717  0.518875 -0.202508   \n",
       "327 -0.839548  0.0  1.739077 -1.739077 -0.360745 -0.24717 -1.927248  4.938078   \n",
       "328  0.107311  0.0 -0.575018  0.575018 -0.360745 -0.24717  0.518875 -0.202508   \n",
       "329 -0.460804  0.0 -0.575018  0.575018 -0.360745 -0.24717  0.518875 -0.202508   \n",
       "\n",
       "           8         9         10        11        12        13        14  \n",
       "0   -0.078087 -0.664114 -0.731357  1.414214 -0.078087  0.095783 -0.095783  \n",
       "1   -0.078087 -0.664114 -0.731357  1.414214 -0.078087  0.095783 -0.095783  \n",
       "2   -0.078087 -0.664114  1.367320 -0.707107 -0.078087  0.095783 -0.095783  \n",
       "3   -0.078087 -0.664114  1.367320 -0.707107 -0.078087  0.095783 -0.095783  \n",
       "4   -0.078087  1.505765 -0.731357 -0.707107 -0.078087  0.095783 -0.095783  \n",
       "..        ...       ...       ...       ...       ...       ...       ...  \n",
       "325 -0.078087 -0.664114  1.367320 -0.707107 -0.078087  0.095783 -0.095783  \n",
       "326 -0.078087  1.505765 -0.731357 -0.707107 -0.078087  0.095783 -0.095783  \n",
       "327 -0.078087 -0.664114  1.367320 -0.707107 -0.078087  0.095783 -0.095783  \n",
       "328 -0.078087 -0.664114  1.367320 -0.707107 -0.078087  0.095783 -0.095783  \n",
       "329 -0.078087 -0.664114 -0.731357  1.414214 -0.078087  0.095783 -0.095783  \n",
       "\n",
       "[330 rows x 15 columns]"
      ]
     },
     "execution_count": 32,
     "metadata": {},
     "output_type": "execute_result"
    }
   ],
   "source": [
    "Xt = pd.DataFrame(ct.fit_transform(X)).fillna(0)\n",
    "Xt"
   ]
  },
  {
   "cell_type": "code",
   "execution_count": 47,
   "id": "5167f1fe-942e-4e28-b941-9fbc31e95e6c",
   "metadata": {},
   "outputs": [],
   "source": [
    "Xt = pd.DataFrame(OneHotEncoder().fit_transform(X))"
   ]
  },
  {
   "cell_type": "code",
   "execution_count": 133,
   "id": "2de14c47-890f-4690-8e27-bebc8c0e1992",
   "metadata": {},
   "outputs": [
    {
     "name": "stdout",
     "output_type": "stream",
     "text": [
      "mean:  -0.0 ; std =  1.00152\n"
     ]
    }
   ],
   "source": [
    "column1 = Xt[Xt.columns[0]]\n",
    "mean = round(column1.mean(),5)\n",
    "std = round(column1.std(),5)\n",
    "print(\"mean: \", mean, \"; std = \", std)"
   ]
  },
  {
   "cell_type": "code",
   "execution_count": 134,
   "id": "e671deda-05ba-4468-8119-685d2963d65b",
   "metadata": {},
   "outputs": [
    {
     "data": {
      "text/plain": [
       "0      float64\n",
       "1      float64\n",
       "2      float64\n",
       "3      float64\n",
       "4      float64\n",
       "        ...   \n",
       "954    float64\n",
       "955    float64\n",
       "956    float64\n",
       "957    float64\n",
       "958    float64\n",
       "Length: 959, dtype: object"
      ]
     },
     "execution_count": 134,
     "metadata": {},
     "output_type": "execute_result"
    }
   ],
   "source": [
    "Xt.dtypes"
   ]
  },
  {
   "cell_type": "code",
   "execution_count": 105,
   "id": "f37ca176-f33f-41aa-be1f-9345a15630ed",
   "metadata": {},
   "outputs": [],
   "source": [
    "param_grid = {\n",
    "    'l1_ratio': [0.01]*15, # 0 è L2, 1 è L1   [0.1, 0.5, 0.9],  # Specify a range of l1_ratio values to search over\n",
    "    'penalty_factor': [np.logspace(-3, 3, 15)]  # Specify a range of penalty_factor values to search over\n",
    "}"
   ]
  },
  {
   "cell_type": "markdown",
   "id": "bce006d6-1d77-433c-bbcf-46abd75dacf1",
   "metadata": {},
   "source": [
    "## Pipeline del metodo (nested CV)\n",
    "\n",
    "- (?) vedi metodo automatico PredefinedSplit:\n",
    "\n",
    "coeff\n",
    "- for(k split prima divisione a 5 outer split)\n",
    "    - gridSearchCV() oppure a mano (inner altri 5)\n",
    "        - preproc -> va fittato nel training \n",
    "        - gridsearchCV coxNet sul train set (4/5), -> best lambda \n",
    "    - evluation sul test (concordance) (1/5),\n"
   ]
  },
  {
   "cell_type": "markdown",
   "id": "0789b3b5-0375-48ce-a625-300f2d67559d",
   "metadata": {},
   "source": [
    "1) prendo train/test split\n",
    "    X, y-> Xtrain,Ytrain, Xtest,Ytest\n",
    "    \n",
    "(gridSearchCV)->average lamda\n",
    "\n",
    "2) Metodo(hparams).fit(Xtrain, ytrain) -> comprende anche preproc, fitta anche preproc\n",
    "\n",
    "3) scorer(metodo.predict(Xtest), ytest)\n",
    "\n",
    "    "
   ]
  },
  {
   "cell_type": "code",
   "execution_count": 106,
   "id": "f087b967-1276-44d9-8441-5f25f08b83ca",
   "metadata": {},
   "outputs": [],
   "source": [
    "coxnet = CoxnetSurvivalAnalysis()"
   ]
  },
  {
   "cell_type": "code",
   "execution_count": 107,
   "id": "b79332cb-a67c-4420-9e5d-13feace6996c",
   "metadata": {},
   "outputs": [
    {
     "data": {
      "text/plain": [
       "dtype((numpy.record, [('event', '?'), ('time', '<i8')]))"
      ]
     },
     "execution_count": 107,
     "metadata": {},
     "output_type": "execute_result"
    }
   ],
   "source": [
    "y.dtype"
   ]
  },
  {
   "cell_type": "code",
   "execution_count": 108,
   "id": "ebeefd1a-34dc-4219-af11-3b71179b7b6d",
   "metadata": {},
   "outputs": [],
   "source": [
    "#event_times (iterable) – a length-n iterable of observed survival times.\n",
    "#predicted_scores (iterable) – a length-n iterable of predicted scores - these could be survival times, or hazards, etc. See https://stats.stackexchange.com/questions/352183/use-median-survival-time-to-calculate-cph-c-statistic/352435#352435\n",
    "#event_observed (iterable, optional) – a length-n iterable censoring flags, 1 if observed, 0 if not. Default None assumes all observed.\n",
    "\n",
    "def scorer2 (model, X, y):\n",
    "    rev_y = np.rec.fromrecords(y)\n",
    "    y_censorings = rev_y[0].view()\n",
    "    y_times = rev_y[1].view()\n",
    "    y_predicted = model.predict(X)\n",
    "    concordance_index(y_predicted, y_times, y_censorings)\n",
    "    \n",
    "#in make scorer score_funccallable\n",
    "#Score function (or loss function) with signature score_func(y, y_pred, **kwargs).\n",
    "\n"
   ]
  },
  {
   "cell_type": "code",
   "execution_count": 109,
   "id": "17940dab-e0fd-43f0-8a84-713440d28443",
   "metadata": {},
   "outputs": [],
   "source": [
    "def scorer3 (y, y_pred):\n",
    "    y_censorings = list( np.rec.fromrecords(y)[0].view())\n",
    "    y_times = list( np.rec.fromrecords(y)[1].view())\n",
    "    return concordance_index(y_times, y_pred, y_censorings)"
   ]
  },
  {
   "cell_type": "code",
   "execution_count": 110,
   "id": "de5c63c3-445c-436b-990e-2d25eb29d506",
   "metadata": {},
   "outputs": [
    {
     "data": {
      "text/html": [
       "<style>#sk-container-id-8 {color: black;background-color: white;}#sk-container-id-8 pre{padding: 0;}#sk-container-id-8 div.sk-toggleable {background-color: white;}#sk-container-id-8 label.sk-toggleable__label {cursor: pointer;display: block;width: 100%;margin-bottom: 0;padding: 0.3em;box-sizing: border-box;text-align: center;}#sk-container-id-8 label.sk-toggleable__label-arrow:before {content: \"▸\";float: left;margin-right: 0.25em;color: #696969;}#sk-container-id-8 label.sk-toggleable__label-arrow:hover:before {color: black;}#sk-container-id-8 div.sk-estimator:hover label.sk-toggleable__label-arrow:before {color: black;}#sk-container-id-8 div.sk-toggleable__content {max-height: 0;max-width: 0;overflow: hidden;text-align: left;background-color: #f0f8ff;}#sk-container-id-8 div.sk-toggleable__content pre {margin: 0.2em;color: black;border-radius: 0.25em;background-color: #f0f8ff;}#sk-container-id-8 input.sk-toggleable__control:checked~div.sk-toggleable__content {max-height: 200px;max-width: 100%;overflow: auto;}#sk-container-id-8 input.sk-toggleable__control:checked~label.sk-toggleable__label-arrow:before {content: \"▾\";}#sk-container-id-8 div.sk-estimator input.sk-toggleable__control:checked~label.sk-toggleable__label {background-color: #d4ebff;}#sk-container-id-8 div.sk-label input.sk-toggleable__control:checked~label.sk-toggleable__label {background-color: #d4ebff;}#sk-container-id-8 input.sk-hidden--visually {border: 0;clip: rect(1px 1px 1px 1px);clip: rect(1px, 1px, 1px, 1px);height: 1px;margin: -1px;overflow: hidden;padding: 0;position: absolute;width: 1px;}#sk-container-id-8 div.sk-estimator {font-family: monospace;background-color: #f0f8ff;border: 1px dotted black;border-radius: 0.25em;box-sizing: border-box;margin-bottom: 0.5em;}#sk-container-id-8 div.sk-estimator:hover {background-color: #d4ebff;}#sk-container-id-8 div.sk-parallel-item::after {content: \"\";width: 100%;border-bottom: 1px solid gray;flex-grow: 1;}#sk-container-id-8 div.sk-label:hover label.sk-toggleable__label {background-color: #d4ebff;}#sk-container-id-8 div.sk-serial::before {content: \"\";position: absolute;border-left: 1px solid gray;box-sizing: border-box;top: 0;bottom: 0;left: 50%;z-index: 0;}#sk-container-id-8 div.sk-serial {display: flex;flex-direction: column;align-items: center;background-color: white;padding-right: 0.2em;padding-left: 0.2em;position: relative;}#sk-container-id-8 div.sk-item {position: relative;z-index: 1;}#sk-container-id-8 div.sk-parallel {display: flex;align-items: stretch;justify-content: center;background-color: white;position: relative;}#sk-container-id-8 div.sk-item::before, #sk-container-id-8 div.sk-parallel-item::before {content: \"\";position: absolute;border-left: 1px solid gray;box-sizing: border-box;top: 0;bottom: 0;left: 50%;z-index: -1;}#sk-container-id-8 div.sk-parallel-item {display: flex;flex-direction: column;z-index: 1;position: relative;background-color: white;}#sk-container-id-8 div.sk-parallel-item:first-child::after {align-self: flex-end;width: 50%;}#sk-container-id-8 div.sk-parallel-item:last-child::after {align-self: flex-start;width: 50%;}#sk-container-id-8 div.sk-parallel-item:only-child::after {width: 0;}#sk-container-id-8 div.sk-dashed-wrapped {border: 1px dashed gray;margin: 0 0.4em 0.5em 0.4em;box-sizing: border-box;padding-bottom: 0.4em;background-color: white;}#sk-container-id-8 div.sk-label label {font-family: monospace;font-weight: bold;display: inline-block;line-height: 1.2em;}#sk-container-id-8 div.sk-label-container {text-align: center;}#sk-container-id-8 div.sk-container {/* jupyter's `normalize.less` sets `[hidden] { display: none; }` but bootstrap.min.css set `[hidden] { display: none !important; }` so we also need the `!important` here to be able to override the default hidden behavior on the sphinx rendered scikit-learn.org. See: https://github.com/scikit-learn/scikit-learn/issues/21755 */display: inline-block !important;position: relative;}#sk-container-id-8 div.sk-text-repr-fallback {display: none;}</style><div id=\"sk-container-id-8\" class=\"sk-top-container\"><div class=\"sk-text-repr-fallback\"><pre>GridSearchCV(cv=5, estimator=CoxnetSurvivalAnalysis(),\n",
       "             param_grid={&#x27;l1_ratio&#x27;: [0.01, 0.01, 0.01, 0.01, 0.01, 0.01, 0.01,\n",
       "                                      0.01, 0.01, 0.01, 0.01, 0.01, 0.01, 0.01,\n",
       "                                      0.01],\n",
       "                         &#x27;penalty_factor&#x27;: [array([1.00000000e-03, 2.68269580e-03, 7.19685673e-03, 1.93069773e-02,\n",
       "       5.17947468e-02, 1.38949549e-01, 3.72759372e-01, 1.00000000e+00,\n",
       "       2.68269580e+00, 7.19685673e+00, 1.93069773e+01, 5.17947468e+01,\n",
       "       1.38949549e+02, 3.72759372e+02, 1.00000000e+03])]},\n",
       "             scoring=make_scorer(scorer3))</pre><b>In a Jupyter environment, please rerun this cell to show the HTML representation or trust the notebook. <br />On GitHub, the HTML representation is unable to render, please try loading this page with nbviewer.org.</b></div><div class=\"sk-container\" hidden><div class=\"sk-item sk-dashed-wrapped\"><div class=\"sk-label-container\"><div class=\"sk-label sk-toggleable\"><input class=\"sk-toggleable__control sk-hidden--visually\" id=\"sk-estimator-id-18\" type=\"checkbox\" ><label for=\"sk-estimator-id-18\" class=\"sk-toggleable__label sk-toggleable__label-arrow\">GridSearchCV</label><div class=\"sk-toggleable__content\"><pre>GridSearchCV(cv=5, estimator=CoxnetSurvivalAnalysis(),\n",
       "             param_grid={&#x27;l1_ratio&#x27;: [0.01, 0.01, 0.01, 0.01, 0.01, 0.01, 0.01,\n",
       "                                      0.01, 0.01, 0.01, 0.01, 0.01, 0.01, 0.01,\n",
       "                                      0.01],\n",
       "                         &#x27;penalty_factor&#x27;: [array([1.00000000e-03, 2.68269580e-03, 7.19685673e-03, 1.93069773e-02,\n",
       "       5.17947468e-02, 1.38949549e-01, 3.72759372e-01, 1.00000000e+00,\n",
       "       2.68269580e+00, 7.19685673e+00, 1.93069773e+01, 5.17947468e+01,\n",
       "       1.38949549e+02, 3.72759372e+02, 1.00000000e+03])]},\n",
       "             scoring=make_scorer(scorer3))</pre></div></div></div><div class=\"sk-parallel\"><div class=\"sk-parallel-item\"><div class=\"sk-item\"><div class=\"sk-label-container\"><div class=\"sk-label sk-toggleable\"><input class=\"sk-toggleable__control sk-hidden--visually\" id=\"sk-estimator-id-19\" type=\"checkbox\" ><label for=\"sk-estimator-id-19\" class=\"sk-toggleable__label sk-toggleable__label-arrow\">estimator: CoxnetSurvivalAnalysis</label><div class=\"sk-toggleable__content\"><pre>CoxnetSurvivalAnalysis()</pre></div></div></div><div class=\"sk-serial\"><div class=\"sk-item\"><div class=\"sk-estimator sk-toggleable\"><input class=\"sk-toggleable__control sk-hidden--visually\" id=\"sk-estimator-id-20\" type=\"checkbox\" ><label for=\"sk-estimator-id-20\" class=\"sk-toggleable__label sk-toggleable__label-arrow\">CoxnetSurvivalAnalysis</label><div class=\"sk-toggleable__content\"><pre>CoxnetSurvivalAnalysis()</pre></div></div></div></div></div></div></div></div></div></div>"
      ],
      "text/plain": [
       "GridSearchCV(cv=5, estimator=CoxnetSurvivalAnalysis(),\n",
       "             param_grid={'l1_ratio': [0.01, 0.01, 0.01, 0.01, 0.01, 0.01, 0.01,\n",
       "                                      0.01, 0.01, 0.01, 0.01, 0.01, 0.01, 0.01,\n",
       "                                      0.01],\n",
       "                         'penalty_factor': [array([1.00000000e-03, 2.68269580e-03, 7.19685673e-03, 1.93069773e-02,\n",
       "       5.17947468e-02, 1.38949549e-01, 3.72759372e-01, 1.00000000e+00,\n",
       "       2.68269580e+00, 7.19685673e+00, 1.93069773e+01, 5.17947468e+01,\n",
       "       1.38949549e+02, 3.72759372e+02, 1.00000000e+03])]},\n",
       "             scoring=make_scorer(scorer3))"
      ]
     },
     "execution_count": 110,
     "metadata": {},
     "output_type": "execute_result"
    }
   ],
   "source": [
    "grid_search = GridSearchCV(coxnet, param_grid, cv = 5, scoring = make_scorer(scorer3), refit=True)\n",
    "grid_search.fit(Xt, y)"
   ]
  },
  {
   "cell_type": "code",
   "execution_count": 111,
   "id": "7f35fc0e-10af-4745-95cb-20214c734aa4",
   "metadata": {},
   "outputs": [
    {
     "ename": "NameError",
     "evalue": "name 'gridsearch' is not defined",
     "output_type": "error",
     "traceback": [
      "\u001b[0;31m---------------------------------------------------------------------------\u001b[0m",
      "\u001b[0;31mNameError\u001b[0m                                 Traceback (most recent call last)",
      "Cell \u001b[0;32mIn[111], line 1\u001b[0m\n\u001b[0;32m----> 1\u001b[0m \u001b[43mgridsearch\u001b[49m()\n",
      "\u001b[0;31mNameError\u001b[0m: name 'gridsearch' is not defined"
     ]
    }
   ],
   "source": [
    "gridsearch()"
   ]
  },
  {
   "cell_type": "code",
   "execution_count": 63,
   "id": "25399eab-2817-4ade-97b4-dbe2e5f0453b",
   "metadata": {},
   "outputs": [],
   "source": [
    "scoring = make_scorer(\n",
    "                    scorer3,\n",
    "                    greater_is_better=True,\n",
    "                    )"
   ]
  },
  {
   "cell_type": "code",
   "execution_count": 64,
   "id": "872489b9-09f4-4195-8ff5-c95e6abc518b",
   "metadata": {},
   "outputs": [
    {
     "data": {
      "text/plain": [
       "{'mean_fit_time': array([0.00748811, 0.01270957, 0.00448699, 0.00378599, 0.00377278,\n",
       "        0.00427589, 0.00394621, 0.00378799, 0.00379381, 0.00379171,\n",
       "        0.00379057, 0.00378666, 0.00375657, 0.00379782, 0.00377183]),\n",
       " 'std_fit_time': array([1.79075413e-03, 1.10747694e-02, 1.31449728e-03, 5.60389367e-05,\n",
       "        5.48307582e-05, 1.05362753e-03, 1.26983141e-04, 7.50926936e-05,\n",
       "        7.56959427e-05, 4.88050693e-05, 6.69893248e-05, 6.31548450e-05,\n",
       "        6.12141547e-05, 9.50686304e-05, 9.10041437e-05]),\n",
       " 'mean_score_time': array([0.0053575 , 0.00602393, 0.0026217 , 0.00212445, 0.00210376,\n",
       "        0.00274811, 0.00226407, 0.00209994, 0.0021121 , 0.00210223,\n",
       "        0.00211067, 0.00210638, 0.00208459, 0.00213242, 0.00209303]),\n",
       " 'std_score_time': array([1.03707887e-03, 3.39632910e-03, 1.07394221e-03, 5.43323667e-05,\n",
       "        2.97385105e-05, 1.09644866e-03, 2.11762808e-04, 3.91016355e-05,\n",
       "        5.10806784e-05, 4.94295479e-05, 3.91611933e-05, 6.00020322e-05,\n",
       "        4.40801330e-05, 7.39022220e-05, 4.30313239e-05]),\n",
       " 'param_l1_ratio': masked_array(data=[0.01, 0.01, 0.01, 0.01, 0.01, 0.01, 0.01, 0.01, 0.01,\n",
       "                    0.01, 0.01, 0.01, 0.01, 0.01, 0.01],\n",
       "              mask=[False, False, False, False, False, False, False, False,\n",
       "                    False, False, False, False, False, False, False],\n",
       "        fill_value='?',\n",
       "             dtype=object),\n",
       " 'param_penalty_factor': masked_array(data=[array([1.00000000e-03, 2.68269580e-03, 7.19685673e-03, 1.93069773e-02,\n",
       "                           5.17947468e-02, 1.38949549e-01, 3.72759372e-01, 1.00000000e+00,\n",
       "                           2.68269580e+00, 7.19685673e+00, 1.93069773e+01, 5.17947468e+01,\n",
       "                           1.38949549e+02, 3.72759372e+02, 1.00000000e+03])               ,\n",
       "                    array([1.00000000e-03, 2.68269580e-03, 7.19685673e-03, 1.93069773e-02,\n",
       "                           5.17947468e-02, 1.38949549e-01, 3.72759372e-01, 1.00000000e+00,\n",
       "                           2.68269580e+00, 7.19685673e+00, 1.93069773e+01, 5.17947468e+01,\n",
       "                           1.38949549e+02, 3.72759372e+02, 1.00000000e+03])               ,\n",
       "                    array([1.00000000e-03, 2.68269580e-03, 7.19685673e-03, 1.93069773e-02,\n",
       "                           5.17947468e-02, 1.38949549e-01, 3.72759372e-01, 1.00000000e+00,\n",
       "                           2.68269580e+00, 7.19685673e+00, 1.93069773e+01, 5.17947468e+01,\n",
       "                           1.38949549e+02, 3.72759372e+02, 1.00000000e+03])               ,\n",
       "                    array([1.00000000e-03, 2.68269580e-03, 7.19685673e-03, 1.93069773e-02,\n",
       "                           5.17947468e-02, 1.38949549e-01, 3.72759372e-01, 1.00000000e+00,\n",
       "                           2.68269580e+00, 7.19685673e+00, 1.93069773e+01, 5.17947468e+01,\n",
       "                           1.38949549e+02, 3.72759372e+02, 1.00000000e+03])               ,\n",
       "                    array([1.00000000e-03, 2.68269580e-03, 7.19685673e-03, 1.93069773e-02,\n",
       "                           5.17947468e-02, 1.38949549e-01, 3.72759372e-01, 1.00000000e+00,\n",
       "                           2.68269580e+00, 7.19685673e+00, 1.93069773e+01, 5.17947468e+01,\n",
       "                           1.38949549e+02, 3.72759372e+02, 1.00000000e+03])               ,\n",
       "                    array([1.00000000e-03, 2.68269580e-03, 7.19685673e-03, 1.93069773e-02,\n",
       "                           5.17947468e-02, 1.38949549e-01, 3.72759372e-01, 1.00000000e+00,\n",
       "                           2.68269580e+00, 7.19685673e+00, 1.93069773e+01, 5.17947468e+01,\n",
       "                           1.38949549e+02, 3.72759372e+02, 1.00000000e+03])               ,\n",
       "                    array([1.00000000e-03, 2.68269580e-03, 7.19685673e-03, 1.93069773e-02,\n",
       "                           5.17947468e-02, 1.38949549e-01, 3.72759372e-01, 1.00000000e+00,\n",
       "                           2.68269580e+00, 7.19685673e+00, 1.93069773e+01, 5.17947468e+01,\n",
       "                           1.38949549e+02, 3.72759372e+02, 1.00000000e+03])               ,\n",
       "                    array([1.00000000e-03, 2.68269580e-03, 7.19685673e-03, 1.93069773e-02,\n",
       "                           5.17947468e-02, 1.38949549e-01, 3.72759372e-01, 1.00000000e+00,\n",
       "                           2.68269580e+00, 7.19685673e+00, 1.93069773e+01, 5.17947468e+01,\n",
       "                           1.38949549e+02, 3.72759372e+02, 1.00000000e+03])               ,\n",
       "                    array([1.00000000e-03, 2.68269580e-03, 7.19685673e-03, 1.93069773e-02,\n",
       "                           5.17947468e-02, 1.38949549e-01, 3.72759372e-01, 1.00000000e+00,\n",
       "                           2.68269580e+00, 7.19685673e+00, 1.93069773e+01, 5.17947468e+01,\n",
       "                           1.38949549e+02, 3.72759372e+02, 1.00000000e+03])               ,\n",
       "                    array([1.00000000e-03, 2.68269580e-03, 7.19685673e-03, 1.93069773e-02,\n",
       "                           5.17947468e-02, 1.38949549e-01, 3.72759372e-01, 1.00000000e+00,\n",
       "                           2.68269580e+00, 7.19685673e+00, 1.93069773e+01, 5.17947468e+01,\n",
       "                           1.38949549e+02, 3.72759372e+02, 1.00000000e+03])               ,\n",
       "                    array([1.00000000e-03, 2.68269580e-03, 7.19685673e-03, 1.93069773e-02,\n",
       "                           5.17947468e-02, 1.38949549e-01, 3.72759372e-01, 1.00000000e+00,\n",
       "                           2.68269580e+00, 7.19685673e+00, 1.93069773e+01, 5.17947468e+01,\n",
       "                           1.38949549e+02, 3.72759372e+02, 1.00000000e+03])               ,\n",
       "                    array([1.00000000e-03, 2.68269580e-03, 7.19685673e-03, 1.93069773e-02,\n",
       "                           5.17947468e-02, 1.38949549e-01, 3.72759372e-01, 1.00000000e+00,\n",
       "                           2.68269580e+00, 7.19685673e+00, 1.93069773e+01, 5.17947468e+01,\n",
       "                           1.38949549e+02, 3.72759372e+02, 1.00000000e+03])               ,\n",
       "                    array([1.00000000e-03, 2.68269580e-03, 7.19685673e-03, 1.93069773e-02,\n",
       "                           5.17947468e-02, 1.38949549e-01, 3.72759372e-01, 1.00000000e+00,\n",
       "                           2.68269580e+00, 7.19685673e+00, 1.93069773e+01, 5.17947468e+01,\n",
       "                           1.38949549e+02, 3.72759372e+02, 1.00000000e+03])               ,\n",
       "                    array([1.00000000e-03, 2.68269580e-03, 7.19685673e-03, 1.93069773e-02,\n",
       "                           5.17947468e-02, 1.38949549e-01, 3.72759372e-01, 1.00000000e+00,\n",
       "                           2.68269580e+00, 7.19685673e+00, 1.93069773e+01, 5.17947468e+01,\n",
       "                           1.38949549e+02, 3.72759372e+02, 1.00000000e+03])               ,\n",
       "                    array([1.00000000e-03, 2.68269580e-03, 7.19685673e-03, 1.93069773e-02,\n",
       "                           5.17947468e-02, 1.38949549e-01, 3.72759372e-01, 1.00000000e+00,\n",
       "                           2.68269580e+00, 7.19685673e+00, 1.93069773e+01, 5.17947468e+01,\n",
       "                           1.38949549e+02, 3.72759372e+02, 1.00000000e+03])               ],\n",
       "              mask=[False, False, False, False, False, False, False, False,\n",
       "                    False, False, False, False, False, False, False],\n",
       "        fill_value='?',\n",
       "             dtype=object),\n",
       " 'params': [{'l1_ratio': 0.01,\n",
       "   'penalty_factor': array([1.00000000e-03, 2.68269580e-03, 7.19685673e-03, 1.93069773e-02,\n",
       "          5.17947468e-02, 1.38949549e-01, 3.72759372e-01, 1.00000000e+00,\n",
       "          2.68269580e+00, 7.19685673e+00, 1.93069773e+01, 5.17947468e+01,\n",
       "          1.38949549e+02, 3.72759372e+02, 1.00000000e+03])},\n",
       "  {'l1_ratio': 0.01,\n",
       "   'penalty_factor': array([1.00000000e-03, 2.68269580e-03, 7.19685673e-03, 1.93069773e-02,\n",
       "          5.17947468e-02, 1.38949549e-01, 3.72759372e-01, 1.00000000e+00,\n",
       "          2.68269580e+00, 7.19685673e+00, 1.93069773e+01, 5.17947468e+01,\n",
       "          1.38949549e+02, 3.72759372e+02, 1.00000000e+03])},\n",
       "  {'l1_ratio': 0.01,\n",
       "   'penalty_factor': array([1.00000000e-03, 2.68269580e-03, 7.19685673e-03, 1.93069773e-02,\n",
       "          5.17947468e-02, 1.38949549e-01, 3.72759372e-01, 1.00000000e+00,\n",
       "          2.68269580e+00, 7.19685673e+00, 1.93069773e+01, 5.17947468e+01,\n",
       "          1.38949549e+02, 3.72759372e+02, 1.00000000e+03])},\n",
       "  {'l1_ratio': 0.01,\n",
       "   'penalty_factor': array([1.00000000e-03, 2.68269580e-03, 7.19685673e-03, 1.93069773e-02,\n",
       "          5.17947468e-02, 1.38949549e-01, 3.72759372e-01, 1.00000000e+00,\n",
       "          2.68269580e+00, 7.19685673e+00, 1.93069773e+01, 5.17947468e+01,\n",
       "          1.38949549e+02, 3.72759372e+02, 1.00000000e+03])},\n",
       "  {'l1_ratio': 0.01,\n",
       "   'penalty_factor': array([1.00000000e-03, 2.68269580e-03, 7.19685673e-03, 1.93069773e-02,\n",
       "          5.17947468e-02, 1.38949549e-01, 3.72759372e-01, 1.00000000e+00,\n",
       "          2.68269580e+00, 7.19685673e+00, 1.93069773e+01, 5.17947468e+01,\n",
       "          1.38949549e+02, 3.72759372e+02, 1.00000000e+03])},\n",
       "  {'l1_ratio': 0.01,\n",
       "   'penalty_factor': array([1.00000000e-03, 2.68269580e-03, 7.19685673e-03, 1.93069773e-02,\n",
       "          5.17947468e-02, 1.38949549e-01, 3.72759372e-01, 1.00000000e+00,\n",
       "          2.68269580e+00, 7.19685673e+00, 1.93069773e+01, 5.17947468e+01,\n",
       "          1.38949549e+02, 3.72759372e+02, 1.00000000e+03])},\n",
       "  {'l1_ratio': 0.01,\n",
       "   'penalty_factor': array([1.00000000e-03, 2.68269580e-03, 7.19685673e-03, 1.93069773e-02,\n",
       "          5.17947468e-02, 1.38949549e-01, 3.72759372e-01, 1.00000000e+00,\n",
       "          2.68269580e+00, 7.19685673e+00, 1.93069773e+01, 5.17947468e+01,\n",
       "          1.38949549e+02, 3.72759372e+02, 1.00000000e+03])},\n",
       "  {'l1_ratio': 0.01,\n",
       "   'penalty_factor': array([1.00000000e-03, 2.68269580e-03, 7.19685673e-03, 1.93069773e-02,\n",
       "          5.17947468e-02, 1.38949549e-01, 3.72759372e-01, 1.00000000e+00,\n",
       "          2.68269580e+00, 7.19685673e+00, 1.93069773e+01, 5.17947468e+01,\n",
       "          1.38949549e+02, 3.72759372e+02, 1.00000000e+03])},\n",
       "  {'l1_ratio': 0.01,\n",
       "   'penalty_factor': array([1.00000000e-03, 2.68269580e-03, 7.19685673e-03, 1.93069773e-02,\n",
       "          5.17947468e-02, 1.38949549e-01, 3.72759372e-01, 1.00000000e+00,\n",
       "          2.68269580e+00, 7.19685673e+00, 1.93069773e+01, 5.17947468e+01,\n",
       "          1.38949549e+02, 3.72759372e+02, 1.00000000e+03])},\n",
       "  {'l1_ratio': 0.01,\n",
       "   'penalty_factor': array([1.00000000e-03, 2.68269580e-03, 7.19685673e-03, 1.93069773e-02,\n",
       "          5.17947468e-02, 1.38949549e-01, 3.72759372e-01, 1.00000000e+00,\n",
       "          2.68269580e+00, 7.19685673e+00, 1.93069773e+01, 5.17947468e+01,\n",
       "          1.38949549e+02, 3.72759372e+02, 1.00000000e+03])},\n",
       "  {'l1_ratio': 0.01,\n",
       "   'penalty_factor': array([1.00000000e-03, 2.68269580e-03, 7.19685673e-03, 1.93069773e-02,\n",
       "          5.17947468e-02, 1.38949549e-01, 3.72759372e-01, 1.00000000e+00,\n",
       "          2.68269580e+00, 7.19685673e+00, 1.93069773e+01, 5.17947468e+01,\n",
       "          1.38949549e+02, 3.72759372e+02, 1.00000000e+03])},\n",
       "  {'l1_ratio': 0.01,\n",
       "   'penalty_factor': array([1.00000000e-03, 2.68269580e-03, 7.19685673e-03, 1.93069773e-02,\n",
       "          5.17947468e-02, 1.38949549e-01, 3.72759372e-01, 1.00000000e+00,\n",
       "          2.68269580e+00, 7.19685673e+00, 1.93069773e+01, 5.17947468e+01,\n",
       "          1.38949549e+02, 3.72759372e+02, 1.00000000e+03])},\n",
       "  {'l1_ratio': 0.01,\n",
       "   'penalty_factor': array([1.00000000e-03, 2.68269580e-03, 7.19685673e-03, 1.93069773e-02,\n",
       "          5.17947468e-02, 1.38949549e-01, 3.72759372e-01, 1.00000000e+00,\n",
       "          2.68269580e+00, 7.19685673e+00, 1.93069773e+01, 5.17947468e+01,\n",
       "          1.38949549e+02, 3.72759372e+02, 1.00000000e+03])},\n",
       "  {'l1_ratio': 0.01,\n",
       "   'penalty_factor': array([1.00000000e-03, 2.68269580e-03, 7.19685673e-03, 1.93069773e-02,\n",
       "          5.17947468e-02, 1.38949549e-01, 3.72759372e-01, 1.00000000e+00,\n",
       "          2.68269580e+00, 7.19685673e+00, 1.93069773e+01, 5.17947468e+01,\n",
       "          1.38949549e+02, 3.72759372e+02, 1.00000000e+03])},\n",
       "  {'l1_ratio': 0.01,\n",
       "   'penalty_factor': array([1.00000000e-03, 2.68269580e-03, 7.19685673e-03, 1.93069773e-02,\n",
       "          5.17947468e-02, 1.38949549e-01, 3.72759372e-01, 1.00000000e+00,\n",
       "          2.68269580e+00, 7.19685673e+00, 1.93069773e+01, 5.17947468e+01,\n",
       "          1.38949549e+02, 3.72759372e+02, 1.00000000e+03])}],\n",
       " 'split0_test_score': array([0.40155945, 0.40155945, 0.40155945, 0.40155945, 0.40155945,\n",
       "        0.40155945, 0.40155945, 0.40155945, 0.40155945, 0.40155945,\n",
       "        0.40155945, 0.40155945, 0.40155945, 0.40155945, 0.40155945]),\n",
       " 'split1_test_score': array([0.3972028, 0.3972028, 0.3972028, 0.3972028, 0.3972028, 0.3972028,\n",
       "        0.3972028, 0.3972028, 0.3972028, 0.3972028, 0.3972028, 0.3972028,\n",
       "        0.3972028, 0.3972028, 0.3972028]),\n",
       " 'split2_test_score': array([0.3986637, 0.3986637, 0.3986637, 0.3986637, 0.3986637, 0.3986637,\n",
       "        0.3986637, 0.3986637, 0.3986637, 0.3986637, 0.3986637, 0.3986637,\n",
       "        0.3986637, 0.3986637, 0.3986637]),\n",
       " 'split3_test_score': array([0.38953488, 0.38953488, 0.38953488, 0.38953488, 0.38953488,\n",
       "        0.38953488, 0.38953488, 0.38953488, 0.38953488, 0.38953488,\n",
       "        0.38953488, 0.38953488, 0.38953488, 0.38953488, 0.38953488]),\n",
       " 'split4_test_score': array([0.42307692, 0.42307692, 0.42307692, 0.42307692, 0.42307692,\n",
       "        0.42307692, 0.42307692, 0.42307692, 0.42307692, 0.42307692,\n",
       "        0.42307692, 0.42307692, 0.42307692, 0.42307692, 0.42307692]),\n",
       " 'mean_test_score': array([0.40200755, 0.40200755, 0.40200755, 0.40200755, 0.40200755,\n",
       "        0.40200755, 0.40200755, 0.40200755, 0.40200755, 0.40200755,\n",
       "        0.40200755, 0.40200755, 0.40200755, 0.40200755, 0.40200755]),\n",
       " 'std_test_score': array([0.01126014, 0.01126014, 0.01126014, 0.01126014, 0.01126014,\n",
       "        0.01126014, 0.01126014, 0.01126014, 0.01126014, 0.01126014,\n",
       "        0.01126014, 0.01126014, 0.01126014, 0.01126014, 0.01126014]),\n",
       " 'rank_test_score': array([1, 1, 1, 1, 1, 1, 1, 1, 1, 1, 1, 1, 1, 1, 1], dtype=int32)}"
      ]
     },
     "execution_count": 64,
     "metadata": {},
     "output_type": "execute_result"
    }
   ],
   "source": [
    "grid_search.cv_results_"
   ]
  },
  {
   "cell_type": "code",
   "execution_count": 33,
   "id": "6a554643-29c8-4b07-a73b-f3c5d8df887e",
   "metadata": {},
   "outputs": [
    {
     "data": {
      "text/html": [
       "<style>#sk-container-id-2 {color: black;background-color: white;}#sk-container-id-2 pre{padding: 0;}#sk-container-id-2 div.sk-toggleable {background-color: white;}#sk-container-id-2 label.sk-toggleable__label {cursor: pointer;display: block;width: 100%;margin-bottom: 0;padding: 0.3em;box-sizing: border-box;text-align: center;}#sk-container-id-2 label.sk-toggleable__label-arrow:before {content: \"▸\";float: left;margin-right: 0.25em;color: #696969;}#sk-container-id-2 label.sk-toggleable__label-arrow:hover:before {color: black;}#sk-container-id-2 div.sk-estimator:hover label.sk-toggleable__label-arrow:before {color: black;}#sk-container-id-2 div.sk-toggleable__content {max-height: 0;max-width: 0;overflow: hidden;text-align: left;background-color: #f0f8ff;}#sk-container-id-2 div.sk-toggleable__content pre {margin: 0.2em;color: black;border-radius: 0.25em;background-color: #f0f8ff;}#sk-container-id-2 input.sk-toggleable__control:checked~div.sk-toggleable__content {max-height: 200px;max-width: 100%;overflow: auto;}#sk-container-id-2 input.sk-toggleable__control:checked~label.sk-toggleable__label-arrow:before {content: \"▾\";}#sk-container-id-2 div.sk-estimator input.sk-toggleable__control:checked~label.sk-toggleable__label {background-color: #d4ebff;}#sk-container-id-2 div.sk-label input.sk-toggleable__control:checked~label.sk-toggleable__label {background-color: #d4ebff;}#sk-container-id-2 input.sk-hidden--visually {border: 0;clip: rect(1px 1px 1px 1px);clip: rect(1px, 1px, 1px, 1px);height: 1px;margin: -1px;overflow: hidden;padding: 0;position: absolute;width: 1px;}#sk-container-id-2 div.sk-estimator {font-family: monospace;background-color: #f0f8ff;border: 1px dotted black;border-radius: 0.25em;box-sizing: border-box;margin-bottom: 0.5em;}#sk-container-id-2 div.sk-estimator:hover {background-color: #d4ebff;}#sk-container-id-2 div.sk-parallel-item::after {content: \"\";width: 100%;border-bottom: 1px solid gray;flex-grow: 1;}#sk-container-id-2 div.sk-label:hover label.sk-toggleable__label {background-color: #d4ebff;}#sk-container-id-2 div.sk-serial::before {content: \"\";position: absolute;border-left: 1px solid gray;box-sizing: border-box;top: 0;bottom: 0;left: 50%;z-index: 0;}#sk-container-id-2 div.sk-serial {display: flex;flex-direction: column;align-items: center;background-color: white;padding-right: 0.2em;padding-left: 0.2em;position: relative;}#sk-container-id-2 div.sk-item {position: relative;z-index: 1;}#sk-container-id-2 div.sk-parallel {display: flex;align-items: stretch;justify-content: center;background-color: white;position: relative;}#sk-container-id-2 div.sk-item::before, #sk-container-id-2 div.sk-parallel-item::before {content: \"\";position: absolute;border-left: 1px solid gray;box-sizing: border-box;top: 0;bottom: 0;left: 50%;z-index: -1;}#sk-container-id-2 div.sk-parallel-item {display: flex;flex-direction: column;z-index: 1;position: relative;background-color: white;}#sk-container-id-2 div.sk-parallel-item:first-child::after {align-self: flex-end;width: 50%;}#sk-container-id-2 div.sk-parallel-item:last-child::after {align-self: flex-start;width: 50%;}#sk-container-id-2 div.sk-parallel-item:only-child::after {width: 0;}#sk-container-id-2 div.sk-dashed-wrapped {border: 1px dashed gray;margin: 0 0.4em 0.5em 0.4em;box-sizing: border-box;padding-bottom: 0.4em;background-color: white;}#sk-container-id-2 div.sk-label label {font-family: monospace;font-weight: bold;display: inline-block;line-height: 1.2em;}#sk-container-id-2 div.sk-label-container {text-align: center;}#sk-container-id-2 div.sk-container {/* jupyter's `normalize.less` sets `[hidden] { display: none; }` but bootstrap.min.css set `[hidden] { display: none !important; }` so we also need the `!important` here to be able to override the default hidden behavior on the sphinx rendered scikit-learn.org. See: https://github.com/scikit-learn/scikit-learn/issues/21755 */display: inline-block !important;position: relative;}#sk-container-id-2 div.sk-text-repr-fallback {display: none;}</style><div id=\"sk-container-id-2\" class=\"sk-top-container\"><div class=\"sk-text-repr-fallback\"><pre>CoxnetSurvivalAnalysis(l1_ratio=0.01,\n",
       "                       penalty_factor=array([1.00000000e-03, 2.68269580e-03, 7.19685673e-03, 1.93069773e-02,\n",
       "       5.17947468e-02, 1.38949549e-01, 3.72759372e-01, 1.00000000e+00,\n",
       "       2.68269580e+00, 7.19685673e+00, 1.93069773e+01, 5.17947468e+01,\n",
       "       1.38949549e+02, 3.72759372e+02, 1.00000000e+03]))</pre><b>In a Jupyter environment, please rerun this cell to show the HTML representation or trust the notebook. <br />On GitHub, the HTML representation is unable to render, please try loading this page with nbviewer.org.</b></div><div class=\"sk-container\" hidden><div class=\"sk-item\"><div class=\"sk-estimator sk-toggleable\"><input class=\"sk-toggleable__control sk-hidden--visually\" id=\"sk-estimator-id-4\" type=\"checkbox\" checked><label for=\"sk-estimator-id-4\" class=\"sk-toggleable__label sk-toggleable__label-arrow\">CoxnetSurvivalAnalysis</label><div class=\"sk-toggleable__content\"><pre>CoxnetSurvivalAnalysis(l1_ratio=0.01,\n",
       "                       penalty_factor=array([1.00000000e-03, 2.68269580e-03, 7.19685673e-03, 1.93069773e-02,\n",
       "       5.17947468e-02, 1.38949549e-01, 3.72759372e-01, 1.00000000e+00,\n",
       "       2.68269580e+00, 7.19685673e+00, 1.93069773e+01, 5.17947468e+01,\n",
       "       1.38949549e+02, 3.72759372e+02, 1.00000000e+03]))</pre></div></div></div></div></div>"
      ],
      "text/plain": [
       "CoxnetSurvivalAnalysis(l1_ratio=0.01,\n",
       "                       penalty_factor=array([1.00000000e-03, 2.68269580e-03, 7.19685673e-03, 1.93069773e-02,\n",
       "       5.17947468e-02, 1.38949549e-01, 3.72759372e-01, 1.00000000e+00,\n",
       "       2.68269580e+00, 7.19685673e+00, 1.93069773e+01, 5.17947468e+01,\n",
       "       1.38949549e+02, 3.72759372e+02, 1.00000000e+03]))"
      ]
     },
     "execution_count": 33,
     "metadata": {},
     "output_type": "execute_result"
    }
   ],
   "source": [
    "CoxnetSurvivalAnalysis(**grid_search.best_params_)"
   ]
  },
  {
   "cell_type": "code",
   "execution_count": 34,
   "id": "1ae71603-4514-4ce8-b025-273ef686781d",
   "metadata": {},
   "outputs": [
    {
     "data": {
      "text/html": [
       "<style>#sk-container-id-3 {color: black;background-color: white;}#sk-container-id-3 pre{padding: 0;}#sk-container-id-3 div.sk-toggleable {background-color: white;}#sk-container-id-3 label.sk-toggleable__label {cursor: pointer;display: block;width: 100%;margin-bottom: 0;padding: 0.3em;box-sizing: border-box;text-align: center;}#sk-container-id-3 label.sk-toggleable__label-arrow:before {content: \"▸\";float: left;margin-right: 0.25em;color: #696969;}#sk-container-id-3 label.sk-toggleable__label-arrow:hover:before {color: black;}#sk-container-id-3 div.sk-estimator:hover label.sk-toggleable__label-arrow:before {color: black;}#sk-container-id-3 div.sk-toggleable__content {max-height: 0;max-width: 0;overflow: hidden;text-align: left;background-color: #f0f8ff;}#sk-container-id-3 div.sk-toggleable__content pre {margin: 0.2em;color: black;border-radius: 0.25em;background-color: #f0f8ff;}#sk-container-id-3 input.sk-toggleable__control:checked~div.sk-toggleable__content {max-height: 200px;max-width: 100%;overflow: auto;}#sk-container-id-3 input.sk-toggleable__control:checked~label.sk-toggleable__label-arrow:before {content: \"▾\";}#sk-container-id-3 div.sk-estimator input.sk-toggleable__control:checked~label.sk-toggleable__label {background-color: #d4ebff;}#sk-container-id-3 div.sk-label input.sk-toggleable__control:checked~label.sk-toggleable__label {background-color: #d4ebff;}#sk-container-id-3 input.sk-hidden--visually {border: 0;clip: rect(1px 1px 1px 1px);clip: rect(1px, 1px, 1px, 1px);height: 1px;margin: -1px;overflow: hidden;padding: 0;position: absolute;width: 1px;}#sk-container-id-3 div.sk-estimator {font-family: monospace;background-color: #f0f8ff;border: 1px dotted black;border-radius: 0.25em;box-sizing: border-box;margin-bottom: 0.5em;}#sk-container-id-3 div.sk-estimator:hover {background-color: #d4ebff;}#sk-container-id-3 div.sk-parallel-item::after {content: \"\";width: 100%;border-bottom: 1px solid gray;flex-grow: 1;}#sk-container-id-3 div.sk-label:hover label.sk-toggleable__label {background-color: #d4ebff;}#sk-container-id-3 div.sk-serial::before {content: \"\";position: absolute;border-left: 1px solid gray;box-sizing: border-box;top: 0;bottom: 0;left: 50%;z-index: 0;}#sk-container-id-3 div.sk-serial {display: flex;flex-direction: column;align-items: center;background-color: white;padding-right: 0.2em;padding-left: 0.2em;position: relative;}#sk-container-id-3 div.sk-item {position: relative;z-index: 1;}#sk-container-id-3 div.sk-parallel {display: flex;align-items: stretch;justify-content: center;background-color: white;position: relative;}#sk-container-id-3 div.sk-item::before, #sk-container-id-3 div.sk-parallel-item::before {content: \"\";position: absolute;border-left: 1px solid gray;box-sizing: border-box;top: 0;bottom: 0;left: 50%;z-index: -1;}#sk-container-id-3 div.sk-parallel-item {display: flex;flex-direction: column;z-index: 1;position: relative;background-color: white;}#sk-container-id-3 div.sk-parallel-item:first-child::after {align-self: flex-end;width: 50%;}#sk-container-id-3 div.sk-parallel-item:last-child::after {align-self: flex-start;width: 50%;}#sk-container-id-3 div.sk-parallel-item:only-child::after {width: 0;}#sk-container-id-3 div.sk-dashed-wrapped {border: 1px dashed gray;margin: 0 0.4em 0.5em 0.4em;box-sizing: border-box;padding-bottom: 0.4em;background-color: white;}#sk-container-id-3 div.sk-label label {font-family: monospace;font-weight: bold;display: inline-block;line-height: 1.2em;}#sk-container-id-3 div.sk-label-container {text-align: center;}#sk-container-id-3 div.sk-container {/* jupyter's `normalize.less` sets `[hidden] { display: none; }` but bootstrap.min.css set `[hidden] { display: none !important; }` so we also need the `!important` here to be able to override the default hidden behavior on the sphinx rendered scikit-learn.org. See: https://github.com/scikit-learn/scikit-learn/issues/21755 */display: inline-block !important;position: relative;}#sk-container-id-3 div.sk-text-repr-fallback {display: none;}</style><div id=\"sk-container-id-3\" class=\"sk-top-container\"><div class=\"sk-text-repr-fallback\"><pre>CoxnetSurvivalAnalysis(alpha_min_ratio=0.01, l1_ratio=1.0)</pre><b>In a Jupyter environment, please rerun this cell to show the HTML representation or trust the notebook. <br />On GitHub, the HTML representation is unable to render, please try loading this page with nbviewer.org.</b></div><div class=\"sk-container\" hidden><div class=\"sk-item\"><div class=\"sk-estimator sk-toggleable\"><input class=\"sk-toggleable__control sk-hidden--visually\" id=\"sk-estimator-id-5\" type=\"checkbox\" checked><label for=\"sk-estimator-id-5\" class=\"sk-toggleable__label sk-toggleable__label-arrow\">CoxnetSurvivalAnalysis</label><div class=\"sk-toggleable__content\"><pre>CoxnetSurvivalAnalysis(alpha_min_ratio=0.01, l1_ratio=1.0)</pre></div></div></div></div></div>"
      ],
      "text/plain": [
       "CoxnetSurvivalAnalysis(alpha_min_ratio=0.01, l1_ratio=1.0)"
      ]
     },
     "execution_count": 34,
     "metadata": {},
     "output_type": "execute_result"
    }
   ],
   "source": [
    "cox_lasso = CoxnetSurvivalAnalysis(l1_ratio=1.0, alpha_min_ratio=0.01)\n",
    "cox_lasso.fit(Xt, y)"
   ]
  },
  {
   "cell_type": "code",
   "execution_count": null,
   "id": "2906a8f6-a527-4f30-ba93-4811c9e312c2",
   "metadata": {},
   "outputs": [],
   "source": [
    "# per avere lo score potrei # cox_lasso.score(X, y)"
   ]
  },
  {
   "cell_type": "code",
   "execution_count": 71,
   "id": "21691607-ae75-433c-a3bd-45935e66e30d",
   "metadata": {},
   "outputs": [],
   "source": [
    "#help(k_fold_cross_validation)"
   ]
  },
  {
   "cell_type": "code",
   "execution_count": 49,
   "id": "6ad72955-3c0c-4a42-b093-acf57bdcba1a",
   "metadata": {},
   "outputs": [],
   "source": [
    "#help(concordance_index)"
   ]
  },
  {
   "cell_type": "code",
   "execution_count": null,
   "id": "2a1b13e6-3210-46aa-994b-c8b0d21d93ea",
   "metadata": {},
   "outputs": [
    {
     "ename": "NameError",
     "evalue": "name 'lasso' is not defined",
     "output_type": "error",
     "traceback": [
      "\u001b[0;31m---------------------------------------------------------------------------\u001b[0m",
      "\u001b[0;31mNameError\u001b[0m                                 Traceback (most recent call last)",
      "Cell \u001b[0;32mIn[54], line 1\u001b[0m\n\u001b[0;32m----> 1\u001b[0m scores \u001b[38;5;241m=\u001b[39m k_fold_cross_validation(\u001b[43mlasso\u001b[49m, \n\u001b[1;32m      2\u001b[0m                                  df \u001b[38;5;241m=\u001b[39m pd\u001b[38;5;241m.\u001b[39mconcat([y, X], axis\u001b[38;5;241m=\u001b[39m\u001b[38;5;241m1\u001b[39m), \n\u001b[1;32m      3\u001b[0m                                  duration_col \u001b[38;5;241m=\u001b[39m \u001b[38;5;124m\"\u001b[39m\u001b[38;5;124mOS_days\u001b[39m\u001b[38;5;124m\"\u001b[39m, \n\u001b[1;32m      4\u001b[0m                                  event_col \u001b[38;5;241m=\u001b[39m \u001b[38;5;124m\"\u001b[39m\u001b[38;5;124mOS\u001b[39m\u001b[38;5;124m\"\u001b[39m, \n\u001b[1;32m      5\u001b[0m                                  scoring_method\u001b[38;5;241m=\u001b[39mlasso\u001b[38;5;241m.\u001b[39mscore(y))\n",
      "\u001b[0;31mNameError\u001b[0m: name 'lasso' is not defined"
     ]
    }
   ],
   "source": [
    "scores = k_fold_cross_validation(lasso, \n",
    "                                 df = pd.concat([y, X], axis=1), \n",
    "                                 duration_col = \"OS_days\", \n",
    "                                 event_col = \"OS\", \n",
    "                                 scoring_method='concordance_index')"
   ]
  },
  {
   "cell_type": "code",
   "execution_count": 32,
   "id": "969ee139-c55a-47dd-9b50-2b7c84ef5e41",
   "metadata": {},
   "outputs": [
    {
     "ename": "AttributeError",
     "evalue": "'LassoCV' object has no attribute 'alphas_'",
     "output_type": "error",
     "traceback": [
      "\u001b[0;31m---------------------------------------------------------------------------\u001b[0m",
      "\u001b[0;31mAttributeError\u001b[0m                            Traceback (most recent call last)",
      "Cell \u001b[0;32mIn[32], line 1\u001b[0m\n\u001b[0;32m----> 1\u001b[0m best_delta \u001b[38;5;241m=\u001b[39m \u001b[43mlasso\u001b[49m\u001b[38;5;241;43m.\u001b[39;49m\u001b[43malphas_\u001b[49m[np\u001b[38;5;241m.\u001b[39margmax(np\u001b[38;5;241m.\u001b[39mmean(scores, axis\u001b[38;5;241m=\u001b[39m\u001b[38;5;241m0\u001b[39m))]\n",
      "\u001b[0;31mAttributeError\u001b[0m: 'LassoCV' object has no attribute 'alphas_'"
     ]
    }
   ],
   "source": [
    "best_delta = lasso.alphas_[np.argmax(np.mean(scores, axis=0))]"
   ]
  },
  {
   "cell_type": "markdown",
   "id": "22458895-508d-4dbf-85d6-8f6ab368f167",
   "metadata": {},
   "source": [
    "# Note da FRA"
   ]
  },
  {
   "cell_type": "code",
   "execution_count": 57,
   "id": "711c020c-961b-40e1-83d8-b7006729df37",
   "metadata": {},
   "outputs": [],
   "source": [
    "# Assuming X is your feature matrix, y is your survival data with columns 'time' and 'event'\n",
    "X_train, X_test, y_train, y_test = train_test_split(X, y, test_size=0.2, random_state=42)\n",
    "\n",
    "scaler = StandardScaler()\n",
    "X_train_scaled = scaler.fit_transform(X_train)\n",
    "X_test_scaled = scaler.transform(X_test)"
   ]
  },
  {
   "cell_type": "code",
   "execution_count": 58,
   "id": "79aa76a5-f8f9-4a82-8bde-311b3fbbc025",
   "metadata": {},
   "outputs": [
    {
     "data": {
      "text/html": [
       "<div>\n",
       "<style scoped>\n",
       "    .dataframe tbody tr th:only-of-type {\n",
       "        vertical-align: middle;\n",
       "    }\n",
       "\n",
       "    .dataframe tbody tr th {\n",
       "        vertical-align: top;\n",
       "    }\n",
       "\n",
       "    .dataframe thead th {\n",
       "        text-align: right;\n",
       "    }\n",
       "</style>\n",
       "<table border=\"1\" class=\"dataframe\">\n",
       "  <thead>\n",
       "    <tr style=\"text-align: right;\">\n",
       "      <th></th>\n",
       "      <th>OS</th>\n",
       "      <th>OS_days</th>\n",
       "    </tr>\n",
       "  </thead>\n",
       "  <tbody>\n",
       "    <tr>\n",
       "      <th>75</th>\n",
       "      <td>1</td>\n",
       "      <td>536</td>\n",
       "    </tr>\n",
       "    <tr>\n",
       "      <th>184</th>\n",
       "      <td>1</td>\n",
       "      <td>739</td>\n",
       "    </tr>\n",
       "    <tr>\n",
       "      <th>17</th>\n",
       "      <td>1</td>\n",
       "      <td>680</td>\n",
       "    </tr>\n",
       "    <tr>\n",
       "      <th>24</th>\n",
       "      <td>0</td>\n",
       "      <td>2293</td>\n",
       "    </tr>\n",
       "    <tr>\n",
       "      <th>180</th>\n",
       "      <td>1</td>\n",
       "      <td>168</td>\n",
       "    </tr>\n",
       "    <tr>\n",
       "      <th>...</th>\n",
       "      <td>...</td>\n",
       "      <td>...</td>\n",
       "    </tr>\n",
       "    <tr>\n",
       "      <th>188</th>\n",
       "      <td>0</td>\n",
       "      <td>384</td>\n",
       "    </tr>\n",
       "    <tr>\n",
       "      <th>71</th>\n",
       "      <td>0</td>\n",
       "      <td>2312</td>\n",
       "    </tr>\n",
       "    <tr>\n",
       "      <th>106</th>\n",
       "      <td>0</td>\n",
       "      <td>1174</td>\n",
       "    </tr>\n",
       "    <tr>\n",
       "      <th>270</th>\n",
       "      <td>0</td>\n",
       "      <td>373</td>\n",
       "    </tr>\n",
       "    <tr>\n",
       "      <th>102</th>\n",
       "      <td>0</td>\n",
       "      <td>761</td>\n",
       "    </tr>\n",
       "  </tbody>\n",
       "</table>\n",
       "<p>264 rows × 2 columns</p>\n",
       "</div>"
      ],
      "text/plain": [
       "     OS  OS_days\n",
       "75    1      536\n",
       "184   1      739\n",
       "17    1      680\n",
       "24    0     2293\n",
       "180   1      168\n",
       "..   ..      ...\n",
       "188   0      384\n",
       "71    0     2312\n",
       "106   0     1174\n",
       "270   0      373\n",
       "102   0      761\n",
       "\n",
       "[264 rows x 2 columns]"
      ]
     },
     "execution_count": 58,
     "metadata": {},
     "output_type": "execute_result"
    }
   ],
   "source": [
    "y_train"
   ]
  },
  {
   "cell_type": "code",
   "execution_count": 17,
   "id": "7c14eb9c-7a3c-48f4-9a63-3c641129a772",
   "metadata": {},
   "outputs": [
    {
     "ename": "NameError",
     "evalue": "name 'X_train_scaled' is not defined",
     "output_type": "error",
     "traceback": [
      "\u001b[0;31m---------------------------------------------------------------------------\u001b[0m",
      "\u001b[0;31mNameError\u001b[0m                                 Traceback (most recent call last)",
      "Cell \u001b[0;32mIn[17], line 2\u001b[0m\n\u001b[1;32m      1\u001b[0m lasso_cph \u001b[38;5;241m=\u001b[39m CoxPHFitter(penalizer\u001b[38;5;241m=\u001b[39m\u001b[38;5;241m0.1\u001b[39m)  \u001b[38;5;66;03m# You can adjust the penalizer value for regularization\u001b[39;00m\n\u001b[0;32m----> 2\u001b[0m lasso_cph\u001b[38;5;241m.\u001b[39mfit(\u001b[43mX_train_scaled\u001b[49m, y_train, duration_col\u001b[38;5;241m=\u001b[39m\u001b[38;5;124m'\u001b[39m\u001b[38;5;124mtime\u001b[39m\u001b[38;5;124m'\u001b[39m, event_col\u001b[38;5;241m=\u001b[39m\u001b[38;5;124m'\u001b[39m\u001b[38;5;124mevent\u001b[39m\u001b[38;5;124m'\u001b[39m)\n",
      "\u001b[0;31mNameError\u001b[0m: name 'X_train_scaled' is not defined"
     ]
    }
   ],
   "source": [
    "lasso_cph = CoxPHFitter(penalizer=0.1)  # You can adjust the penalizer value for regularization\n",
    "lasso_cph.fit(X_train_scaled, y_train, duration_col='time', event_col='event')"
   ]
  },
  {
   "cell_type": "code",
   "execution_count": null,
   "id": "f30aa7d3-bc5e-4707-b8a9-e44f751e6526",
   "metadata": {},
   "outputs": [],
   "source": [
    "# Predict survival probability for the test set\n",
    "y_pred = lasso_cph.predict_survival_function(X_test_scaled)\n",
    "\n",
    "# Calculate the C-index\n",
    "c_index = concordance_index(y_test['time'], -y_pred.mean(axis=1), y_test['event'])\n",
    "print(\"C-index: \", c_index)\n"
   ]
  },
  {
   "cell_type": "code",
   "execution_count": 36,
   "id": "24566370-c08b-44e8-9a9c-d4a73487543c",
   "metadata": {},
   "outputs": [],
   "source": [
    "from sklearn.model_selection import GridSearchCV"
   ]
  },
  {
   "cell_type": "code",
   "execution_count": 62,
   "id": "d277cf15-5176-45d3-a169-b656378e2e11",
   "metadata": {},
   "outputs": [
    {
     "data": {
      "text/html": [
       "<div>\n",
       "<style scoped>\n",
       "    .dataframe tbody tr th:only-of-type {\n",
       "        vertical-align: middle;\n",
       "    }\n",
       "\n",
       "    .dataframe tbody tr th {\n",
       "        vertical-align: top;\n",
       "    }\n",
       "\n",
       "    .dataframe thead th {\n",
       "        text-align: right;\n",
       "    }\n",
       "</style>\n",
       "<table border=\"1\" class=\"dataframe\">\n",
       "  <thead>\n",
       "    <tr style=\"text-align: right;\">\n",
       "      <th></th>\n",
       "      <th>OS</th>\n",
       "      <th>OS_days</th>\n",
       "    </tr>\n",
       "  </thead>\n",
       "  <tbody>\n",
       "    <tr>\n",
       "      <th>75</th>\n",
       "      <td>1</td>\n",
       "      <td>536</td>\n",
       "    </tr>\n",
       "    <tr>\n",
       "      <th>184</th>\n",
       "      <td>1</td>\n",
       "      <td>739</td>\n",
       "    </tr>\n",
       "    <tr>\n",
       "      <th>17</th>\n",
       "      <td>1</td>\n",
       "      <td>680</td>\n",
       "    </tr>\n",
       "    <tr>\n",
       "      <th>24</th>\n",
       "      <td>0</td>\n",
       "      <td>2293</td>\n",
       "    </tr>\n",
       "    <tr>\n",
       "      <th>180</th>\n",
       "      <td>1</td>\n",
       "      <td>168</td>\n",
       "    </tr>\n",
       "    <tr>\n",
       "      <th>...</th>\n",
       "      <td>...</td>\n",
       "      <td>...</td>\n",
       "    </tr>\n",
       "    <tr>\n",
       "      <th>188</th>\n",
       "      <td>0</td>\n",
       "      <td>384</td>\n",
       "    </tr>\n",
       "    <tr>\n",
       "      <th>71</th>\n",
       "      <td>0</td>\n",
       "      <td>2312</td>\n",
       "    </tr>\n",
       "    <tr>\n",
       "      <th>106</th>\n",
       "      <td>0</td>\n",
       "      <td>1174</td>\n",
       "    </tr>\n",
       "    <tr>\n",
       "      <th>270</th>\n",
       "      <td>0</td>\n",
       "      <td>373</td>\n",
       "    </tr>\n",
       "    <tr>\n",
       "      <th>102</th>\n",
       "      <td>0</td>\n",
       "      <td>761</td>\n",
       "    </tr>\n",
       "  </tbody>\n",
       "</table>\n",
       "<p>264 rows × 2 columns</p>\n",
       "</div>"
      ],
      "text/plain": [
       "     OS  OS_days\n",
       "75    1      536\n",
       "184   1      739\n",
       "17    1      680\n",
       "24    0     2293\n",
       "180   1      168\n",
       "..   ..      ...\n",
       "188   0      384\n",
       "71    0     2312\n",
       "106   0     1174\n",
       "270   0      373\n",
       "102   0      761\n",
       "\n",
       "[264 rows x 2 columns]"
      ]
     },
     "execution_count": 62,
     "metadata": {},
     "output_type": "execute_result"
    }
   ],
   "source": [
    "def my_custom_loss_func(y_true, y_pred):\n",
    "    ...\n",
    "    return concordance"
   ]
  },
  {
   "cell_type": "code",
   "execution_count": 65,
   "id": "ff80a6e1-dd21-41b0-8b68-a99b926a9da0",
   "metadata": {},
   "outputs": [
    {
     "name": "stderr",
     "output_type": "stream",
     "text": [
      "/home/ronin/Dev/miniconda3/lib/python3.10/site-packages/sksurv/linear_model/coxph.py:179: RuntimeWarning: divide by zero encountered in log\n",
      "  loss -= (numerator - n_events * np.log(risk_set)) / n_samples\n",
      "/home/ronin/Dev/miniconda3/lib/python3.10/site-packages/sksurv/linear_model/coxph.py:173: RuntimeWarning: overflow encountered in exp\n",
      "  risk_set += np.exp(xw[k])\n",
      "/home/ronin/Dev/miniconda3/lib/python3.10/site-packages/sksurv/linear_model/coxph.py:170: RuntimeWarning: overflow encountered in exp\n",
      "  risk_set2 += np.exp(xw[k])\n",
      "/home/ronin/Dev/miniconda3/lib/python3.10/site-packages/sksurv/linear_model/coxph.py:179: RuntimeWarning: invalid value encountered in double_scalars\n",
      "  loss -= (numerator - n_events * np.log(risk_set)) / n_samples\n",
      "/home/ronin/Dev/miniconda3/lib/python3.10/site-packages/sksurv/linear_model/coxph.py:194: RuntimeWarning: overflow encountered in exp\n",
      "  exp_xw = np.exp(offset + np.dot(x, w))\n",
      "/home/ronin/Dev/miniconda3/lib/python3.10/site-packages/sksurv/linear_model/coxph.py:238: RuntimeWarning: invalid value encountered in divide\n",
      "  z = risk_set_x / risk_set\n",
      "/home/ronin/Dev/miniconda3/lib/python3.10/site-packages/sksurv/linear_model/coxph.py:241: RuntimeWarning: invalid value encountered in divide\n",
      "  a = risk_set_xx / risk_set\n",
      "/home/ronin/Dev/miniconda3/lib/python3.10/site-packages/sksurv/linear_model/coxph.py:228: RuntimeWarning: invalid value encountered in multiply\n",
      "  risk_set_x += exp_xw[k] * xk\n",
      "/home/ronin/Dev/miniconda3/lib/python3.10/site-packages/sksurv/linear_model/coxph.py:229: RuntimeWarning: invalid value encountered in multiply\n",
      "  risk_set_xx += exp_xw[k] * xx\n",
      "/home/ronin/Dev/miniconda3/lib/python3.10/site-packages/sksurv/linear_model/coxph.py:235: RuntimeWarning: invalid value encountered in add\n",
      "  risk_set_x += risk_set_x2\n",
      "/home/ronin/Dev/miniconda3/lib/python3.10/site-packages/sksurv/linear_model/coxph.py:236: RuntimeWarning: invalid value encountered in add\n",
      "  risk_set_xx += risk_set_xx2\n",
      "/home/ronin/Dev/miniconda3/lib/python3.10/site-packages/sksurv/linear_model/coxph.py:228: RuntimeWarning: invalid value encountered in add\n",
      "  risk_set_x += exp_xw[k] * xk\n",
      "/home/ronin/Dev/miniconda3/lib/python3.10/site-packages/sksurv/linear_model/coxph.py:229: RuntimeWarning: invalid value encountered in add\n",
      "  risk_set_xx += exp_xw[k] * xx\n",
      "/home/ronin/Dev/miniconda3/lib/python3.10/site-packages/sksurv/linear_model/coxph.py:173: RuntimeWarning: overflow encountered in exp\n",
      "  risk_set += np.exp(xw[k])\n",
      "/home/ronin/Dev/miniconda3/lib/python3.10/site-packages/sksurv/linear_model/coxph.py:170: RuntimeWarning: overflow encountered in exp\n",
      "  risk_set2 += np.exp(xw[k])\n",
      "/home/ronin/Dev/miniconda3/lib/python3.10/site-packages/sksurv/linear_model/coxph.py:194: RuntimeWarning: overflow encountered in exp\n",
      "  exp_xw = np.exp(offset + np.dot(x, w))\n",
      "/home/ronin/Dev/miniconda3/lib/python3.10/site-packages/sksurv/linear_model/coxph.py:178: RuntimeWarning: overflow encountered in double_scalars\n",
      "  risk_set += risk_set2\n",
      "/home/ronin/Dev/miniconda3/lib/python3.10/site-packages/sksurv/linear_model/coxph.py:223: RuntimeWarning: overflow encountered in multiply\n",
      "  risk_set_x2 += exp_xw[k] * xk\n",
      "/home/ronin/Dev/miniconda3/lib/python3.10/site-packages/sksurv/linear_model/coxph.py:224: RuntimeWarning: overflow encountered in multiply\n",
      "  risk_set_xx2 += exp_xw[k] * xx\n",
      "/home/ronin/Dev/miniconda3/lib/python3.10/site-packages/sksurv/linear_model/coxph.py:245: RuntimeWarning: invalid value encountered in subtract\n",
      "  hessian += n_events * (a - b) * inv_n_samples\n",
      "/home/ronin/Dev/miniconda3/lib/python3.10/site-packages/sksurv/linear_model/coxph.py:229: RuntimeWarning: invalid value encountered in add\n",
      "  risk_set_xx += exp_xw[k] * xx\n",
      "/home/ronin/Dev/miniconda3/lib/python3.10/site-packages/sksurv/linear_model/coxph.py:449: LinAlgWarning: Ill-conditioned matrix (rcond=0): result may not be accurate.\n",
      "  delta = solve(\n",
      "/home/ronin/Dev/miniconda3/lib/python3.10/site-packages/sksurv/linear_model/coxph.py:173: RuntimeWarning: overflow encountered in exp\n",
      "  risk_set += np.exp(xw[k])\n",
      "/home/ronin/Dev/miniconda3/lib/python3.10/site-packages/sksurv/linear_model/coxph.py:170: RuntimeWarning: overflow encountered in exp\n",
      "  risk_set2 += np.exp(xw[k])\n",
      "/home/ronin/Dev/miniconda3/lib/python3.10/site-packages/sksurv/linear_model/coxph.py:179: RuntimeWarning: divide by zero encountered in log\n",
      "  loss -= (numerator - n_events * np.log(risk_set)) / n_samples\n",
      "/home/ronin/Dev/miniconda3/lib/python3.10/site-packages/sksurv/linear_model/coxph.py:238: RuntimeWarning: invalid value encountered in divide\n",
      "  z = risk_set_x / risk_set\n",
      "/home/ronin/Dev/miniconda3/lib/python3.10/site-packages/sksurv/linear_model/coxph.py:241: RuntimeWarning: invalid value encountered in divide\n",
      "  a = risk_set_xx / risk_set\n",
      "/home/ronin/Dev/miniconda3/lib/python3.10/site-packages/sksurv/linear_model/coxph.py:179: RuntimeWarning: divide by zero encountered in log\n",
      "  loss -= (numerator - n_events * np.log(risk_set)) / n_samples\n",
      "/home/ronin/Dev/miniconda3/lib/python3.10/site-packages/sksurv/linear_model/coxph.py:173: RuntimeWarning: overflow encountered in exp\n",
      "  risk_set += np.exp(xw[k])\n",
      "/home/ronin/Dev/miniconda3/lib/python3.10/site-packages/sksurv/linear_model/coxph.py:179: RuntimeWarning: invalid value encountered in double_scalars\n",
      "  loss -= (numerator - n_events * np.log(risk_set)) / n_samples\n",
      "/home/ronin/Dev/miniconda3/lib/python3.10/site-packages/sksurv/linear_model/coxph.py:194: RuntimeWarning: overflow encountered in exp\n",
      "  exp_xw = np.exp(offset + np.dot(x, w))\n",
      "/home/ronin/Dev/miniconda3/lib/python3.10/site-packages/sksurv/linear_model/coxph.py:238: RuntimeWarning: invalid value encountered in divide\n",
      "  z = risk_set_x / risk_set\n",
      "/home/ronin/Dev/miniconda3/lib/python3.10/site-packages/sksurv/linear_model/coxph.py:241: RuntimeWarning: invalid value encountered in divide\n",
      "  a = risk_set_xx / risk_set\n",
      "/home/ronin/Dev/miniconda3/lib/python3.10/site-packages/sksurv/linear_model/coxph.py:228: RuntimeWarning: invalid value encountered in add\n",
      "  risk_set_x += exp_xw[k] * xk\n",
      "/home/ronin/Dev/miniconda3/lib/python3.10/site-packages/sksurv/linear_model/coxph.py:229: RuntimeWarning: invalid value encountered in add\n",
      "  risk_set_xx += exp_xw[k] * xx\n",
      "/home/ronin/Dev/miniconda3/lib/python3.10/site-packages/sksurv/linear_model/coxph.py:179: RuntimeWarning: divide by zero encountered in log\n",
      "  loss -= (numerator - n_events * np.log(risk_set)) / n_samples\n",
      "/home/ronin/Dev/miniconda3/lib/python3.10/site-packages/sksurv/linear_model/coxph.py:173: RuntimeWarning: overflow encountered in exp\n",
      "  risk_set += np.exp(xw[k])\n",
      "/home/ronin/Dev/miniconda3/lib/python3.10/site-packages/sksurv/linear_model/coxph.py:179: RuntimeWarning: invalid value encountered in double_scalars\n",
      "  loss -= (numerator - n_events * np.log(risk_set)) / n_samples\n",
      "/home/ronin/Dev/miniconda3/lib/python3.10/site-packages/sksurv/linear_model/coxph.py:194: RuntimeWarning: overflow encountered in exp\n",
      "  exp_xw = np.exp(offset + np.dot(x, w))\n",
      "/home/ronin/Dev/miniconda3/lib/python3.10/site-packages/sksurv/linear_model/coxph.py:238: RuntimeWarning: invalid value encountered in divide\n",
      "  z = risk_set_x / risk_set\n",
      "/home/ronin/Dev/miniconda3/lib/python3.10/site-packages/sksurv/linear_model/coxph.py:241: RuntimeWarning: invalid value encountered in divide\n",
      "  a = risk_set_xx / risk_set\n",
      "/home/ronin/Dev/miniconda3/lib/python3.10/site-packages/sksurv/linear_model/coxph.py:228: RuntimeWarning: invalid value encountered in multiply\n",
      "  risk_set_x += exp_xw[k] * xk\n",
      "/home/ronin/Dev/miniconda3/lib/python3.10/site-packages/sksurv/linear_model/coxph.py:229: RuntimeWarning: invalid value encountered in multiply\n",
      "  risk_set_xx += exp_xw[k] * xx\n",
      "/home/ronin/Dev/miniconda3/lib/python3.10/site-packages/sksurv/linear_model/coxph.py:228: RuntimeWarning: invalid value encountered in add\n",
      "  risk_set_x += exp_xw[k] * xk\n",
      "/home/ronin/Dev/miniconda3/lib/python3.10/site-packages/sksurv/linear_model/coxph.py:229: RuntimeWarning: invalid value encountered in add\n",
      "  risk_set_xx += exp_xw[k] * xx\n",
      "/home/ronin/Dev/miniconda3/lib/python3.10/site-packages/sklearn/model_selection/_validation.py:378: FitFailedWarning: \n",
      "5 fits failed out of a total of 10.\n",
      "The score on these train-test partitions for these parameters will be set to nan.\n",
      "If these failures are not expected, you can try to debug them by setting error_score='raise'.\n",
      "\n",
      "Below are more details about the failures:\n",
      "--------------------------------------------------------------------------------\n",
      "5 fits failed with the following error:\n",
      "Traceback (most recent call last):\n",
      "  File \"/home/ronin/Dev/miniconda3/lib/python3.10/site-packages/sklearn/model_selection/_validation.py\", line 686, in _fit_and_score\n",
      "    estimator.fit(X_train, y_train, **fit_params)\n",
      "  File \"/home/ronin/Dev/miniconda3/lib/python3.10/site-packages/sksurv/linear_model/coxph.py\", line 454, in fit\n",
      "    raise ValueError(\"search direction contains NaN or infinite values\")\n",
      "ValueError: search direction contains NaN or infinite values\n",
      "\n",
      "  warnings.warn(some_fits_failed_message, FitFailedWarning)\n",
      "/home/ronin/Dev/miniconda3/lib/python3.10/site-packages/sklearn/model_selection/_search.py:952: UserWarning: One or more of the test scores are non-finite: [       nan 0.54977886]\n",
      "  warnings.warn(\n"
     ]
    }
   ],
   "source": [
    "cv = GridSearchCV(\n",
    "    CoxPHSurvivalAnalysis(), \n",
    "    param_grid={'alpha':[0,1]},\n",
    "    scoring=my_scoring_function\n",
    ").fit(X_train, y_train.astype({'OS': bool}).to_records(index=False)))"
   ]
  },
  {
   "cell_type": "code",
   "execution_count": null,
   "id": "f1fd33f0-0f49-4006-83d8-9ffbc5ca8dd3",
   "metadata": {},
   "outputs": [],
   "source": [
    "from sklearn.model_selection import cross_val_predict\n",
    "\n",
    "# Caso Priority Lasso\n",
    "cross_val_predict(\n",
    "    estimator=GridSearchCV(\n",
    "        CoxPHSurvivalAnalysis(), \n",
    "        param_grid={'alpha':[0,1]},\n",
    "        scoring=my_scoring_function,\n",
    "        cv=#\n",
    "    ),\n",
    "    X=X_train,\n",
    "    y=y_train\n",
    ")\n",
    "\n",
    "# Caso nostro\n",
    "cross_val_predict(\n",
    "    estimator=CoxPHSurvivalAnalysis(**cv._best_params_),\n",
    "    X=X_train,\n",
    "    y=y_train\n",
    ")"
   ]
  },
  {
   "cell_type": "code",
   "execution_count": 69,
   "id": "82c998a0-6b69-4fdd-b97b-c7d0dc7f4e00",
   "metadata": {},
   "outputs": [
    {
     "data": {
      "text/plain": [
       "{'alpha': 1}"
      ]
     },
     "execution_count": 69,
     "metadata": {},
     "output_type": "execute_result"
    }
   ],
   "source": [
    "cv.best_params_"
   ]
  },
  {
   "cell_type": "code",
   "execution_count": null,
   "id": "fada59c5-523e-4454-a3fc-2bd16b5f9abb",
   "metadata": {},
   "outputs": [],
   "source": [
    "*args"
   ]
  }
 ],
 "metadata": {
  "kernelspec": {
   "display_name": "Python 3 (ipykernel)",
   "language": "python",
   "name": "python3"
  },
  "language_info": {
   "codemirror_mode": {
    "name": "ipython",
    "version": 3
   },
   "file_extension": ".py",
   "mimetype": "text/x-python",
   "name": "python",
   "nbconvert_exporter": "python",
   "pygments_lexer": "ipython3",
   "version": "3.10.9"
  }
 },
 "nbformat": 4,
 "nbformat_minor": 5
}
