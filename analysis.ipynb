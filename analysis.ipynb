{
 "cells": [
  {
   "cell_type": "code",
   "execution_count": 1,
   "id": "a5716033-11be-4ce9-b448-ad1f4b664f3c",
   "metadata": {
    "tags": []
   },
   "outputs": [],
   "source": [
    "import pandas as pd\n",
    "import os\n",
    "import numpy as np\n",
    "from pycox.evaluation.concordance import concordance_td\n",
    "from pycox.evaluation import EvalSurv"
   ]
  },
  {
   "cell_type": "code",
   "execution_count": 2,
   "id": "7b5d6875-db55-49c2-820b-01d9af060ed8",
   "metadata": {
    "tags": []
   },
   "outputs": [
    {
     "data": {
      "text/plain": [
       "'/home/ronin/Dev/miniconda3/notebooks/thesis_notebook'"
      ]
     },
     "execution_count": 2,
     "metadata": {},
     "output_type": "execute_result"
    }
   ],
   "source": [
    "os.getcwd()"
   ]
  },
  {
   "cell_type": "code",
   "execution_count": 3,
   "id": "bab13abe-4fe0-4529-8626-63de5d852599",
   "metadata": {
    "tags": []
   },
   "outputs": [],
   "source": [
    "#pth = \"zenodo/metrics/TCGA/BLCA/early/clinical_gex/\"\n",
    "#pthsf = \"zenodo/survival_functions/TCGA/BLCA/early/clinical_gex/\"\n",
    "metrics_csv = \"metrics/BLCA/intermediate_mean/clinical_gex/metrics.csv\"\n",
    "data_csv = \"processed/BLCA_data_preprocessed.csv\"\n",
    "splits_test_csv = \"splits/BLCA_test_splits.csv\"\n",
    "splits_train_csv = \"splits/BLCA_train_splits.csv\"\n",
    "survival_funct_path = \"survival_functions/BLCA/late_mean/clinical_gex/\" ## + split_1.csv etc"
   ]
  },
  {
   "cell_type": "code",
   "execution_count": 4,
   "id": "1525f369-c258-4b8a-ab3b-40e926c5eff7",
   "metadata": {
    "tags": []
   },
   "outputs": [
    {
     "data": {
      "text/plain": [
       "(25, 66)"
      ]
     },
     "execution_count": 4,
     "metadata": {},
     "output_type": "execute_result"
    }
   ],
   "source": [
    "#split = pd.read_csv(pthsf + \"split_1.csv\")\n",
    "splits_test = pd.read_csv(splits_test_csv)\n",
    "splits_test.shape"
   ]
  },
  {
   "cell_type": "code",
   "execution_count": 5,
   "id": "e816498e-2d36-4ff5-8a96-7e6d2bfedfe3",
   "metadata": {
    "tags": []
   },
   "outputs": [],
   "source": [
    "X = pd.read_csv(data_csv)"
   ]
  },
  {
   "cell_type": "code",
   "execution_count": 6,
   "id": "b172b6fe-87c1-429e-b002-6029f563b97f",
   "metadata": {
    "tags": []
   },
   "outputs": [],
   "source": [
    "event_indicator, event_time = X[\"OS\"].to_numpy(), X[\"OS_days\"].to_numpy()"
   ]
  },
  {
   "cell_type": "code",
   "execution_count": 9,
   "id": "41029e1b-f540-438f-888b-a26e93afe948",
   "metadata": {},
   "outputs": [
    {
     "data": {
      "text/plain": [
       "(66, 243)"
      ]
     },
     "execution_count": 9,
     "metadata": {},
     "output_type": "execute_result"
    }
   ],
   "source": [
    "pd.read_csv(survival_funct_path + f\"split_1.csv\").to_numpy().shape"
   ]
  },
  {
   "cell_type": "code",
   "execution_count": 10,
   "id": "22d2ad1f-07de-46f5-981c-b81c20b8f1f7",
   "metadata": {},
   "outputs": [],
   "source": [
    "l = []\n",
    "split = pd.read_csv(splits_test_csv)\n",
    "\n",
    "for idx in range(25):\n",
    "    surv = pd.read_csv(survival_funct_path + f\"split_{idx+1}.csv\").to_numpy().T\n",
    "    test_idx = split.iloc[idx, :].tolist()\n",
    "    \n",
    "    cidx = concordance_td(\n",
    "        method='adj_antolini',\n",
    "        durations = event_time[test_idx],\n",
    "        events = event_indicator[test_idx],\n",
    "        surv = surv,\n",
    "        surv_idx= np.searchsorted(np.unique(test_idx), \n",
    "                                  test_idx)\n",
    "    )\n",
    "    l.append(cidx)\n",
    "    # unique già fa il sorting"
   ]
  },
  {
   "cell_type": "code",
   "execution_count": 11,
   "id": "ca84d169-193d-4614-8df2-37898ec10bc6",
   "metadata": {},
   "outputs": [
    {
     "data": {
      "text/plain": [
       "0.005347292964327583"
      ]
     },
     "execution_count": 11,
     "metadata": {},
     "output_type": "execute_result"
    }
   ],
   "source": [
    "sum(pd.read_csv(\"metrics/BLCA/late_mean/clinical_gex/metrics.csv\")[\"concordance\"] - np.array(l))/ len(l)"
   ]
  },
  {
   "cell_type": "code",
   "execution_count": 12,
   "id": "ae9f3249-d9dd-4b88-9701-454997e82da8",
   "metadata": {},
   "outputs": [
    {
     "data": {
      "text/plain": [
       "0     0.000000\n",
       "1     0.000000\n",
       "2     0.000000\n",
       "3     0.000000\n",
       "4     0.000470\n",
       "5     0.000260\n",
       "6     0.000000\n",
       "7     0.000570\n",
       "8     0.000000\n",
       "9     0.000000\n",
       "10    0.000220\n",
       "11    0.000000\n",
       "12    0.000681\n",
       "13    0.000504\n",
       "14    0.000000\n",
       "15    0.000660\n",
       "16    0.000000\n",
       "17    0.000000\n",
       "18    0.000000\n",
       "19    0.000075\n",
       "20    0.000000\n",
       "21    0.000000\n",
       "22    0.001608\n",
       "23    0.000000\n",
       "24    0.000298\n",
       "Name: concordance, dtype: float64"
      ]
     },
     "execution_count": 12,
     "metadata": {},
     "output_type": "execute_result"
    }
   ],
   "source": [
    "((pd.read_csv(\"metrics/BLCA/late_mean/clinical_gex/metrics.csv\")[\"concordance\"] - l)/len(l))"
   ]
  },
  {
   "cell_type": "code",
   "execution_count": null,
   "id": "212021cd-5f6a-4ca2-b246-74049b23f4b3",
   "metadata": {},
   "outputs": [],
   "source": [
    "## approccio per trovare time_idx\n",
    "#for i, time in enumerate(event_time):\n",
    " #   result[i] = np.where(unique_times == time)[0][0]"
   ]
  },
  {
   "cell_type": "code",
   "execution_count": 18,
   "id": "aee903f5-771f-452b-85c0-fa5027c40784",
   "metadata": {},
   "outputs": [
    {
     "data": {
      "text/plain": [
       "0.6081278246625585"
      ]
     },
     "execution_count": 18,
     "metadata": {},
     "output_type": "execute_result"
    }
   ],
   "source": [
    "np.array(l).mean()"
   ]
  },
  {
   "cell_type": "code",
   "execution_count": 30,
   "id": "77a846f6-fcdc-4054-83de-4657e68d9115",
   "metadata": {},
   "outputs": [
    {
     "data": {
      "text/plain": [
       "0     0.658065\n",
       "1     0.677479\n",
       "2     0.507077\n",
       "3     0.556391\n",
       "4     0.543103\n",
       "5     0.639757\n",
       "6     0.556650\n",
       "7     0.679343\n",
       "8     0.613742\n",
       "9     0.597893\n",
       "10    0.662997\n",
       "11    0.564199\n",
       "12    0.586022\n",
       "13    0.630000\n",
       "14    0.641716\n",
       "15    0.643788\n",
       "16    0.602687\n",
       "17    0.683753\n",
       "18    0.630538\n",
       "19    0.588071\n",
       "20    0.640040\n",
       "21    0.514163\n",
       "22    0.600082\n",
       "23    0.618182\n",
       "24    0.701139\n",
       "Name: concordance, dtype: float64"
      ]
     },
     "execution_count": 30,
     "metadata": {},
     "output_type": "execute_result"
    }
   ],
   "source": [
    "(pd.read_csv(\"metrics/BLCA/late_mean/clinical_gex/metrics.csv\")['concordance'])"
   ]
  },
  {
   "cell_type": "code",
   "execution_count": 50,
   "id": "f8546824-e0b4-4bc9-9a67-b9520f4e6155",
   "metadata": {},
   "outputs": [
    {
     "data": {
      "text/plain": [
       "(66, 243)"
      ]
     },
     "execution_count": 50,
     "metadata": {},
     "output_type": "execute_result"
    }
   ],
   "source": [
    "pd.read_csv(survival_funct_path+\"split_1.csv\").shape"
   ]
  },
  {
   "cell_type": "code",
   "execution_count": null,
   "id": "a1ed2255-69b1-4fbd-b951-8fd7a784763d",
   "metadata": {},
   "outputs": [],
   "source": [
    "### \n",
    "### subordination theory \n",
    "###"
   ]
  },
  {
   "cell_type": "code",
   "execution_count": 20,
   "id": "03a2b894-5c64-40e4-94fb-0563d60ee90d",
   "metadata": {},
   "outputs": [
    {
     "name": "stdout",
     "output_type": "stream",
     "text": [
      "  StringColumn StringColumn  ValueColumn\n",
      "0       Cancer        Model     0.608128\n"
     ]
    }
   ],
   "source": [
    "rdf = pd.DataFrame(columns=['StringColumn', 'StringColumn', 'ValueColumn'])\n",
    "\n",
    "# Add a new row with a string and a value\n",
    "rdf.loc[0] = ['Cancer', 'Model' , np.array(l).mean()]\n",
    "\n",
    "# Print the DataFrame\n",
    "print(rdf)"
   ]
  },
  {
   "cell_type": "code",
   "execution_count": 22,
   "id": "cfcfa0e1-179e-4edc-a2fc-8b3bd09e673c",
   "metadata": {},
   "outputs": [
    {
     "data": {
      "text/plain": [
       "(330, 84758)"
      ]
     },
     "execution_count": 22,
     "metadata": {},
     "output_type": "execute_result"
    }
   ],
   "source": [
    "X.shape"
   ]
  },
  {
   "cell_type": "code",
   "execution_count": null,
   "id": "13a97690-a6e1-4760-a82d-44c4229cf3a4",
   "metadata": {},
   "outputs": [],
   "source": []
  }
 ],
 "metadata": {
  "kernelspec": {
   "display_name": "Python 3 (ipykernel)",
   "language": "python",
   "name": "python3"
  },
  "language_info": {
   "codemirror_mode": {
    "name": "ipython",
    "version": 3
   },
   "file_extension": ".py",
   "mimetype": "text/x-python",
   "name": "python",
   "nbconvert_exporter": "python",
   "pygments_lexer": "ipython3",
   "version": "3.12.0"
  }
 },
 "nbformat": 4,
 "nbformat_minor": 5
}
