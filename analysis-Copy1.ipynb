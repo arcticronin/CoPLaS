{
 "cells": [
  {
   "cell_type": "code",
   "execution_count": 1,
   "id": "a5716033-11be-4ce9-b448-ad1f4b664f3c",
   "metadata": {
    "tags": []
   },
   "outputs": [],
   "source": [
    "import pandas as pd\n",
    "import os\n",
    "import numpy as np\n",
    "# from sksurv.metrics import concordance_index_censored"
   ]
  },
  {
   "cell_type": "code",
   "execution_count": 2,
   "id": "07924627-461a-4c2f-8429-07e8058a333f",
   "metadata": {
    "tags": []
   },
   "outputs": [],
   "source": [
    "from pycox.evaluation.concordance import concordance_td\n",
    "from pycox.evaluation import EvalSurv"
   ]
  },
  {
   "cell_type": "code",
   "execution_count": 3,
   "id": "7c4ed989-3a8f-4128-a477-6e9cf5b2b34e",
   "metadata": {
    "tags": []
   },
   "outputs": [],
   "source": [
    "#!pip install -qU scikit_survival "
   ]
  },
  {
   "cell_type": "code",
   "execution_count": 4,
   "id": "a174aa66-3712-4396-8c25-5dbebc92afcf",
   "metadata": {
    "tags": []
   },
   "outputs": [],
   "source": [
    "#!pip install -qU pycox "
   ]
  },
  {
   "cell_type": "code",
   "execution_count": 5,
   "id": "969e2f2e-ad0b-4864-80a1-463ed7908394",
   "metadata": {
    "tags": []
   },
   "outputs": [],
   "source": [
    "#!pip install -qU torch "
   ]
  },
  {
   "cell_type": "code",
   "execution_count": 6,
   "id": "7b5d6875-db55-49c2-820b-01d9af060ed8",
   "metadata": {
    "tags": []
   },
   "outputs": [
    {
     "data": {
      "text/plain": [
       "'/home/ronin/Dev/miniconda3/notebooks/thesis_notebook'"
      ]
     },
     "execution_count": 6,
     "metadata": {},
     "output_type": "execute_result"
    }
   ],
   "source": [
    "os.getcwd()"
   ]
  },
  {
   "cell_type": "code",
   "execution_count": 7,
   "id": "bab13abe-4fe0-4529-8626-63de5d852599",
   "metadata": {
    "tags": []
   },
   "outputs": [],
   "source": [
    "#pth = \"zenodo/metrics/TCGA/BLCA/early/clinical_gex/\"\n",
    "#pthsf = \"zenodo/survival_functions/TCGA/BLCA/early/clinical_gex/\"\n",
    "metrics_csv = \"metrics/BLCA/intermediate_mean/clinical_gex/metrics.csv\"\n",
    "data_csv = \"processed/BLCA_data_preprocessed.csv\"\n",
    "splits_test_csv = \"splits/BLCA_test_splits.csv\"\n",
    "splits_train_csv = \"splits/BLCA_train_splits.csv\"\n",
    "survival_funct_path = \"survival_functions/BLCA/late_mean/clinical_gex/\" ## + split_1.csv etc"
   ]
  },
  {
   "cell_type": "code",
   "execution_count": 8,
   "id": "5d2e802f-4914-431b-a489-bbf0130133d1",
   "metadata": {
    "tags": []
   },
   "outputs": [],
   "source": [
    "#pd.read_csv(pth + \"metrics.csv\");\n",
    "pd.read_csv(metrics_csv);"
   ]
  },
  {
   "cell_type": "code",
   "execution_count": 12,
   "id": "1525f369-c258-4b8a-ab3b-40e926c5eff7",
   "metadata": {
    "tags": []
   },
   "outputs": [
    {
     "data": {
      "text/html": [
       "<div>\n",
       "<style scoped>\n",
       "    .dataframe tbody tr th:only-of-type {\n",
       "        vertical-align: middle;\n",
       "    }\n",
       "\n",
       "    .dataframe tbody tr th {\n",
       "        vertical-align: top;\n",
       "    }\n",
       "\n",
       "    .dataframe thead th {\n",
       "        text-align: right;\n",
       "    }\n",
       "</style>\n",
       "<table border=\"1\" class=\"dataframe\">\n",
       "  <thead>\n",
       "    <tr style=\"text-align: right;\">\n",
       "      <th></th>\n",
       "      <th>0</th>\n",
       "      <th>1</th>\n",
       "      <th>2</th>\n",
       "      <th>3</th>\n",
       "      <th>4</th>\n",
       "      <th>5</th>\n",
       "      <th>6</th>\n",
       "      <th>7</th>\n",
       "      <th>8</th>\n",
       "      <th>9</th>\n",
       "    </tr>\n",
       "  </thead>\n",
       "  <tbody>\n",
       "    <tr>\n",
       "      <th>0</th>\n",
       "      <td>0</td>\n",
       "      <td>8</td>\n",
       "      <td>12</td>\n",
       "      <td>13</td>\n",
       "      <td>14</td>\n",
       "      <td>22</td>\n",
       "      <td>23</td>\n",
       "      <td>25</td>\n",
       "      <td>29</td>\n",
       "      <td>33</td>\n",
       "    </tr>\n",
       "    <tr>\n",
       "      <th>1</th>\n",
       "      <td>1</td>\n",
       "      <td>3</td>\n",
       "      <td>5</td>\n",
       "      <td>9</td>\n",
       "      <td>15</td>\n",
       "      <td>24</td>\n",
       "      <td>27</td>\n",
       "      <td>30</td>\n",
       "      <td>31</td>\n",
       "      <td>38</td>\n",
       "    </tr>\n",
       "    <tr>\n",
       "      <th>2</th>\n",
       "      <td>6</td>\n",
       "      <td>10</td>\n",
       "      <td>17</td>\n",
       "      <td>20</td>\n",
       "      <td>28</td>\n",
       "      <td>42</td>\n",
       "      <td>46</td>\n",
       "      <td>52</td>\n",
       "      <td>54</td>\n",
       "      <td>60</td>\n",
       "    </tr>\n",
       "    <tr>\n",
       "      <th>3</th>\n",
       "      <td>11</td>\n",
       "      <td>16</td>\n",
       "      <td>18</td>\n",
       "      <td>26</td>\n",
       "      <td>32</td>\n",
       "      <td>35</td>\n",
       "      <td>41</td>\n",
       "      <td>47</td>\n",
       "      <td>48</td>\n",
       "      <td>51</td>\n",
       "    </tr>\n",
       "    <tr>\n",
       "      <th>4</th>\n",
       "      <td>2</td>\n",
       "      <td>4</td>\n",
       "      <td>7</td>\n",
       "      <td>19</td>\n",
       "      <td>21</td>\n",
       "      <td>37</td>\n",
       "      <td>40</td>\n",
       "      <td>45</td>\n",
       "      <td>50</td>\n",
       "      <td>55</td>\n",
       "    </tr>\n",
       "    <tr>\n",
       "      <th>5</th>\n",
       "      <td>11</td>\n",
       "      <td>12</td>\n",
       "      <td>15</td>\n",
       "      <td>27</td>\n",
       "      <td>32</td>\n",
       "      <td>45</td>\n",
       "      <td>46</td>\n",
       "      <td>61</td>\n",
       "      <td>63</td>\n",
       "      <td>67</td>\n",
       "    </tr>\n",
       "    <tr>\n",
       "      <th>6</th>\n",
       "      <td>8</td>\n",
       "      <td>9</td>\n",
       "      <td>10</td>\n",
       "      <td>17</td>\n",
       "      <td>18</td>\n",
       "      <td>19</td>\n",
       "      <td>21</td>\n",
       "      <td>35</td>\n",
       "      <td>40</td>\n",
       "      <td>44</td>\n",
       "    </tr>\n",
       "    <tr>\n",
       "      <th>7</th>\n",
       "      <td>2</td>\n",
       "      <td>3</td>\n",
       "      <td>5</td>\n",
       "      <td>6</td>\n",
       "      <td>7</td>\n",
       "      <td>13</td>\n",
       "      <td>14</td>\n",
       "      <td>20</td>\n",
       "      <td>28</td>\n",
       "      <td>33</td>\n",
       "    </tr>\n",
       "    <tr>\n",
       "      <th>8</th>\n",
       "      <td>0</td>\n",
       "      <td>1</td>\n",
       "      <td>22</td>\n",
       "      <td>23</td>\n",
       "      <td>25</td>\n",
       "      <td>26</td>\n",
       "      <td>29</td>\n",
       "      <td>30</td>\n",
       "      <td>31</td>\n",
       "      <td>34</td>\n",
       "    </tr>\n",
       "    <tr>\n",
       "      <th>9</th>\n",
       "      <td>4</td>\n",
       "      <td>16</td>\n",
       "      <td>24</td>\n",
       "      <td>37</td>\n",
       "      <td>39</td>\n",
       "      <td>41</td>\n",
       "      <td>52</td>\n",
       "      <td>53</td>\n",
       "      <td>64</td>\n",
       "      <td>65</td>\n",
       "    </tr>\n",
       "  </tbody>\n",
       "</table>\n",
       "</div>"
      ],
      "text/plain": [
       "    0   1   2   3   4   5   6   7   8   9\n",
       "0   0   8  12  13  14  22  23  25  29  33\n",
       "1   1   3   5   9  15  24  27  30  31  38\n",
       "2   6  10  17  20  28  42  46  52  54  60\n",
       "3  11  16  18  26  32  35  41  47  48  51\n",
       "4   2   4   7  19  21  37  40  45  50  55\n",
       "5  11  12  15  27  32  45  46  61  63  67\n",
       "6   8   9  10  17  18  19  21  35  40  44\n",
       "7   2   3   5   6   7  13  14  20  28  33\n",
       "8   0   1  22  23  25  26  29  30  31  34\n",
       "9   4  16  24  37  39  41  52  53  64  65"
      ]
     },
     "execution_count": 12,
     "metadata": {},
     "output_type": "execute_result"
    }
   ],
   "source": [
    "#split = pd.read_csv(pthsf + \"split_1.csv\")\n",
    "splits_test = pd.read_csv(splits_test_csv)\n",
    "splits_test.iloc[:10,:10]"
   ]
  },
  {
   "cell_type": "code",
   "execution_count": 14,
   "id": "c68e3223-39f4-45be-b379-158eb5768f33",
   "metadata": {},
   "outputs": [],
   "source": [
    "#concordance_index_censored(event_indicator=)"
   ]
  },
  {
   "cell_type": "code",
   "execution_count": 14,
   "id": "e816498e-2d36-4ff5-8a96-7e6d2bfedfe3",
   "metadata": {
    "tags": []
   },
   "outputs": [],
   "source": [
    "X = pd.read_csv(data_csv)"
   ]
  },
  {
   "cell_type": "code",
   "execution_count": 15,
   "id": "1141cac6-6199-440b-a45f-4021cc1cfa70",
   "metadata": {},
   "outputs": [
    {
     "data": {
      "text/html": [
       "<div>\n",
       "<style scoped>\n",
       "    .dataframe tbody tr th:only-of-type {\n",
       "        vertical-align: middle;\n",
       "    }\n",
       "\n",
       "    .dataframe tbody tr th {\n",
       "        vertical-align: top;\n",
       "    }\n",
       "\n",
       "    .dataframe thead th {\n",
       "        text-align: right;\n",
       "    }\n",
       "</style>\n",
       "<table border=\"1\" class=\"dataframe\">\n",
       "  <thead>\n",
       "    <tr style=\"text-align: right;\">\n",
       "      <th></th>\n",
       "      <th>patient_id</th>\n",
       "      <th>OS</th>\n",
       "      <th>OS_days</th>\n",
       "      <th>clinical_age_at_initial_pathologic_diagnosis</th>\n",
       "      <th>clinical_gender</th>\n",
       "      <th>clinical_race</th>\n",
       "      <th>clinical_ajcc_pathologic_tumor_stage</th>\n",
       "      <th>clinical_clinical_stage</th>\n",
       "      <th>clinical_histological_type</th>\n",
       "      <th>cnv_ACAP3</th>\n",
       "    </tr>\n",
       "  </thead>\n",
       "  <tbody>\n",
       "    <tr>\n",
       "      <th>0</th>\n",
       "      <td>TCGA-ZF-AA5P</td>\n",
       "      <td>0</td>\n",
       "      <td>372</td>\n",
       "      <td>65</td>\n",
       "      <td>MALE</td>\n",
       "      <td>WHITE</td>\n",
       "      <td>Stage IV</td>\n",
       "      <td>NaN</td>\n",
       "      <td>Muscle invasive urothelial carcinoma (pT2 or a...</td>\n",
       "      <td>0</td>\n",
       "    </tr>\n",
       "    <tr>\n",
       "      <th>1</th>\n",
       "      <td>TCGA-ZF-AA58</td>\n",
       "      <td>0</td>\n",
       "      <td>1649</td>\n",
       "      <td>61</td>\n",
       "      <td>FEMALE</td>\n",
       "      <td>WHITE</td>\n",
       "      <td>Stage IV</td>\n",
       "      <td>NaN</td>\n",
       "      <td>Muscle invasive urothelial carcinoma (pT2 or a...</td>\n",
       "      <td>0</td>\n",
       "    </tr>\n",
       "    <tr>\n",
       "      <th>2</th>\n",
       "      <td>TCGA-ZF-AA56</td>\n",
       "      <td>1</td>\n",
       "      <td>259</td>\n",
       "      <td>79</td>\n",
       "      <td>FEMALE</td>\n",
       "      <td>WHITE</td>\n",
       "      <td>Stage III</td>\n",
       "      <td>NaN</td>\n",
       "      <td>Muscle invasive urothelial carcinoma (pT2 or a...</td>\n",
       "      <td>0</td>\n",
       "    </tr>\n",
       "    <tr>\n",
       "      <th>3</th>\n",
       "      <td>TCGA-ZF-AA54</td>\n",
       "      <td>1</td>\n",
       "      <td>590</td>\n",
       "      <td>71</td>\n",
       "      <td>MALE</td>\n",
       "      <td>WHITE</td>\n",
       "      <td>Stage III</td>\n",
       "      <td>NaN</td>\n",
       "      <td>Muscle invasive urothelial carcinoma (pT2 or a...</td>\n",
       "      <td>-1</td>\n",
       "    </tr>\n",
       "    <tr>\n",
       "      <th>4</th>\n",
       "      <td>TCGA-ZF-AA53</td>\n",
       "      <td>0</td>\n",
       "      <td>1761</td>\n",
       "      <td>60</td>\n",
       "      <td>MALE</td>\n",
       "      <td>WHITE</td>\n",
       "      <td>Stage II</td>\n",
       "      <td>NaN</td>\n",
       "      <td>Muscle invasive urothelial carcinoma (pT2 or a...</td>\n",
       "      <td>1</td>\n",
       "    </tr>\n",
       "    <tr>\n",
       "      <th>5</th>\n",
       "      <td>TCGA-ZF-AA52</td>\n",
       "      <td>1</td>\n",
       "      <td>1077</td>\n",
       "      <td>70</td>\n",
       "      <td>MALE</td>\n",
       "      <td>WHITE</td>\n",
       "      <td>Stage III</td>\n",
       "      <td>NaN</td>\n",
       "      <td>Muscle invasive urothelial carcinoma (pT2 or a...</td>\n",
       "      <td>1</td>\n",
       "    </tr>\n",
       "    <tr>\n",
       "      <th>6</th>\n",
       "      <td>TCGA-ZF-AA51</td>\n",
       "      <td>0</td>\n",
       "      <td>1714</td>\n",
       "      <td>69</td>\n",
       "      <td>FEMALE</td>\n",
       "      <td>WHITE</td>\n",
       "      <td>Stage II</td>\n",
       "      <td>NaN</td>\n",
       "      <td>Muscle invasive urothelial carcinoma (pT2 or a...</td>\n",
       "      <td>1</td>\n",
       "    </tr>\n",
       "    <tr>\n",
       "      <th>7</th>\n",
       "      <td>TCGA-ZF-AA4W</td>\n",
       "      <td>0</td>\n",
       "      <td>1830</td>\n",
       "      <td>56</td>\n",
       "      <td>MALE</td>\n",
       "      <td>WHITE</td>\n",
       "      <td>Stage III</td>\n",
       "      <td>NaN</td>\n",
       "      <td>Muscle invasive urothelial carcinoma (pT2 or a...</td>\n",
       "      <td>0</td>\n",
       "    </tr>\n",
       "    <tr>\n",
       "      <th>8</th>\n",
       "      <td>TCGA-ZF-AA4V</td>\n",
       "      <td>0</td>\n",
       "      <td>1806</td>\n",
       "      <td>66</td>\n",
       "      <td>MALE</td>\n",
       "      <td>WHITE</td>\n",
       "      <td>Stage III</td>\n",
       "      <td>NaN</td>\n",
       "      <td>Muscle invasive urothelial carcinoma (pT2 or a...</td>\n",
       "      <td>0</td>\n",
       "    </tr>\n",
       "    <tr>\n",
       "      <th>9</th>\n",
       "      <td>TCGA-ZF-AA4T</td>\n",
       "      <td>1</td>\n",
       "      <td>599</td>\n",
       "      <td>65</td>\n",
       "      <td>MALE</td>\n",
       "      <td>WHITE</td>\n",
       "      <td>Stage IV</td>\n",
       "      <td>NaN</td>\n",
       "      <td>Muscle invasive urothelial carcinoma (pT2 or a...</td>\n",
       "      <td>1</td>\n",
       "    </tr>\n",
       "  </tbody>\n",
       "</table>\n",
       "</div>"
      ],
      "text/plain": [
       "     patient_id  OS  OS_days  clinical_age_at_initial_pathologic_diagnosis  \\\n",
       "0  TCGA-ZF-AA5P   0      372                                            65   \n",
       "1  TCGA-ZF-AA58   0     1649                                            61   \n",
       "2  TCGA-ZF-AA56   1      259                                            79   \n",
       "3  TCGA-ZF-AA54   1      590                                            71   \n",
       "4  TCGA-ZF-AA53   0     1761                                            60   \n",
       "5  TCGA-ZF-AA52   1     1077                                            70   \n",
       "6  TCGA-ZF-AA51   0     1714                                            69   \n",
       "7  TCGA-ZF-AA4W   0     1830                                            56   \n",
       "8  TCGA-ZF-AA4V   0     1806                                            66   \n",
       "9  TCGA-ZF-AA4T   1      599                                            65   \n",
       "\n",
       "  clinical_gender clinical_race clinical_ajcc_pathologic_tumor_stage  \\\n",
       "0            MALE         WHITE                             Stage IV   \n",
       "1          FEMALE         WHITE                             Stage IV   \n",
       "2          FEMALE         WHITE                            Stage III   \n",
       "3            MALE         WHITE                            Stage III   \n",
       "4            MALE         WHITE                             Stage II   \n",
       "5            MALE         WHITE                            Stage III   \n",
       "6          FEMALE         WHITE                             Stage II   \n",
       "7            MALE         WHITE                            Stage III   \n",
       "8            MALE         WHITE                            Stage III   \n",
       "9            MALE         WHITE                             Stage IV   \n",
       "\n",
       "   clinical_clinical_stage                         clinical_histological_type  \\\n",
       "0                      NaN  Muscle invasive urothelial carcinoma (pT2 or a...   \n",
       "1                      NaN  Muscle invasive urothelial carcinoma (pT2 or a...   \n",
       "2                      NaN  Muscle invasive urothelial carcinoma (pT2 or a...   \n",
       "3                      NaN  Muscle invasive urothelial carcinoma (pT2 or a...   \n",
       "4                      NaN  Muscle invasive urothelial carcinoma (pT2 or a...   \n",
       "5                      NaN  Muscle invasive urothelial carcinoma (pT2 or a...   \n",
       "6                      NaN  Muscle invasive urothelial carcinoma (pT2 or a...   \n",
       "7                      NaN  Muscle invasive urothelial carcinoma (pT2 or a...   \n",
       "8                      NaN  Muscle invasive urothelial carcinoma (pT2 or a...   \n",
       "9                      NaN  Muscle invasive urothelial carcinoma (pT2 or a...   \n",
       "\n",
       "   cnv_ACAP3  \n",
       "0          0  \n",
       "1          0  \n",
       "2          0  \n",
       "3         -1  \n",
       "4          1  \n",
       "5          1  \n",
       "6          1  \n",
       "7          0  \n",
       "8          0  \n",
       "9          1  "
      ]
     },
     "execution_count": 15,
     "metadata": {},
     "output_type": "execute_result"
    }
   ],
   "source": [
    "X.iloc[:10, :10]"
   ]
  },
  {
   "cell_type": "code",
   "execution_count": 23,
   "id": "b172b6fe-87c1-429e-b002-6029f563b97f",
   "metadata": {
    "tags": []
   },
   "outputs": [],
   "source": [
    "event_indicator, event_time = X[\"OS\"], X[\"OS_days\"]"
   ]
  },
  {
   "cell_type": "code",
   "execution_count": 26,
   "id": "791fecd1-64f5-4312-8256-c1b9907211cd",
   "metadata": {
    "tags": []
   },
   "outputs": [
    {
     "data": {
      "text/plain": [
       "0     372\n",
       "1    1649\n",
       "2     259\n",
       "3     590\n",
       "4    1761\n",
       "5    1077\n",
       "6    1714\n",
       "7    1830\n",
       "8    1806\n",
       "9     599\n",
       "Name: OS_days, dtype: int64"
      ]
     },
     "execution_count": 26,
     "metadata": {},
     "output_type": "execute_result"
    }
   ],
   "source": [
    "event_time[:10]\n",
    "#event_indicator[:10]"
   ]
  },
  {
   "cell_type": "code",
   "execution_count": 20,
   "id": "5166b4f7-b713-4066-983a-69fe4393204d",
   "metadata": {
    "tags": []
   },
   "outputs": [],
   "source": [
    "#split.cumprod(axis=1).sum(axis=1)"
   ]
  },
  {
   "cell_type": "code",
   "execution_count": 25,
   "id": "402403a4-35b1-480e-baf2-52aec23d5800",
   "metadata": {
    "tags": []
   },
   "outputs": [
    {
     "data": {
      "text/plain": [
       "True"
      ]
     },
     "execution_count": 25,
     "metadata": {},
     "output_type": "execute_result"
    }
   ],
   "source": [
    "pd.Series(['0','1']).is_monotonic_increasing\n"
   ]
  },
  {
   "cell_type": "code",
   "execution_count": null,
   "id": "1b77ea57-60db-4b73-8f92-41295d2152d9",
   "metadata": {},
   "outputs": [
    {
     "ename": "NameError",
     "evalue": "name 'pthsf' is not defined",
     "output_type": "error",
     "traceback": [
      "\u001b[0;31m---------------------------------------------------------------------------\u001b[0m",
      "\u001b[0;31mNameError\u001b[0m                                 Traceback (most recent call last)",
      "Cell \u001b[0;32mIn[27], line 4\u001b[0m\n\u001b[1;32m      2\u001b[0m \u001b[38;5;66;03m##prova\u001b[39;00m\n\u001b[1;32m      3\u001b[0m \u001b[38;5;28;01mfor\u001b[39;00m idx \u001b[38;5;129;01min\u001b[39;00m \u001b[38;5;28mrange\u001b[39m(\u001b[38;5;241m25\u001b[39m):\n\u001b[0;32m----> 4\u001b[0m     split \u001b[38;5;241m=\u001b[39m pd\u001b[38;5;241m.\u001b[39mread_csv(\u001b[43mpthsf\u001b[49m \u001b[38;5;241m+\u001b[39m \u001b[38;5;124mf\u001b[39m\u001b[38;5;124m\"\u001b[39m\u001b[38;5;124msplit_\u001b[39m\u001b[38;5;132;01m{\u001b[39;00midx\u001b[38;5;241m+\u001b[39m\u001b[38;5;241m1\u001b[39m\u001b[38;5;132;01m}\u001b[39;00m\u001b[38;5;124m.csv\u001b[39m\u001b[38;5;124m\"\u001b[39m)\n\u001b[1;32m      5\u001b[0m     estimate \u001b[38;5;241m=\u001b[39m split\u001b[38;5;241m.\u001b[39mcumprod(axis\u001b[38;5;241m=\u001b[39m\u001b[38;5;241m1\u001b[39m)\u001b[38;5;241m.\u001b[39msum(axis\u001b[38;5;241m=\u001b[39m\u001b[38;5;241m1\u001b[39m)\n\u001b[1;32m      7\u001b[0m     test_idx \u001b[38;5;241m=\u001b[39m pd\u001b[38;5;241m.\u001b[39mread_csv(\u001b[38;5;124m'\u001b[39m\u001b[38;5;124mzenodo/splits/BLCA_test_splits.csv\u001b[39m\u001b[38;5;124m'\u001b[39m)\u001b[38;5;241m.\u001b[39miloc[idx, :]\u001b[38;5;241m.\u001b[39mtolist()\n",
      "\u001b[0;31mNameError\u001b[0m: name 'pthsf' is not defined"
     ]
    }
   ],
   "source": [
    "l = []\n",
    "##prova\n",
    "for idx in range(25):\n",
    "    split = pd.read_csv(pthsf + f\"split_{idx+1}.csv\")\n",
    "    estimate = split.cumprod(axis=1).sum(axis=1)\n",
    "    \n",
    "    test_idx = pd.read_csv('zenodo/splits/BLCA_test_splits.csv').iloc[idx, :].tolist()\n",
    "    \n",
    "    #cidx = concordance_index_censored(\n",
    "    #    event_indicator=event_indicator[test_idx] == 1,\n",
    "    #    event_time = event_time[test_idx],\n",
    "    #    estimate=estimate\n",
    "    #)\n",
    "    cidx = concordance_td(\n",
    "        surv= sur\n",
    "        durations=event_time.to_numpy(),\n",
    "        events=event_indicator.to_numpy(),\n",
    "        surv_idx=split.to_numpy().T,\n",
    "    )\n",
    "    \n",
    "    l.append(cidx)"
   ]
  },
  {
   "cell_type": "code",
   "execution_count": null,
   "id": "5bf11ce4-0c4d-40be-9c84-3d852769678b",
   "metadata": {
    "tags": []
   },
   "outputs": [],
   "source": [
    "pd.Series(split.to_numpy().T).is_monotonic"
   ]
  },
  {
   "cell_type": "code",
   "execution_count": null,
   "id": "30d104fc-b85d-4c46-9197-2c7219f8c9e0",
   "metadata": {
    "tags": []
   },
   "outputs": [],
   "source": [
    "[el[0] for el in l]"
   ]
  },
  {
   "cell_type": "code",
   "execution_count": null,
   "id": "cab99cad-c106-43fb-821e-e10b1c6e6fee",
   "metadata": {
    "tags": []
   },
   "outputs": [],
   "source": [
    "event_time.size"
   ]
  },
  {
   "cell_type": "code",
   "execution_count": null,
   "id": "5af40f0d-e4fb-4108-8dcb-5a24dc91d7b0",
   "metadata": {
    "tags": []
   },
   "outputs": [],
   "source": [
    "(event_time.unique()).size"
   ]
  },
  {
   "cell_type": "code",
   "execution_count": null,
   "id": "b148675d-c2d2-4d0a-b01c-39fe9b0ed310",
   "metadata": {
    "tags": []
   },
   "outputs": [],
   "source": [
    "split.columns"
   ]
  },
  {
   "cell_type": "code",
   "execution_count": null,
   "id": "f1f84be8-9dac-47ab-898c-f1dd4e51f916",
   "metadata": {},
   "outputs": [],
   "source": [
    "## dal valore"
   ]
  },
  {
   "cell_type": "code",
   "execution_count": 28,
   "id": "0a4f77a4-1268-4b2a-8078-b892acbde286",
   "metadata": {},
   "outputs": [],
   "source": [
    "def create_surv_idx(splits, survival_function, data):\n",
    "    \"\"\"\n",
    "    Arguments:\n",
    "    splits {np.array[n_splits+1]} -- Array of split points defining the durations.\n",
    "    survival_function {np.array[n_splits, n_individuals]} -- Survival function.\n",
    "    data {np.array[n_individuals]} -- Array of event times or censoring times.\n",
    "    \n",
    "    Returns:\n",
    "    np.array[n_individuals] -- The 'surv_idx' array mapping event times to survival function indices.\n",
    "    \"\"\"\n",
    "    surv_idx = np.zeros(len(data), dtype=int)\n",
    "    for i, event_time in enumerate(X):\n",
    "        # Find the index of the split that the event time belongs to\n",
    "        split_index = np.searchsorted(splits, event_time)\n",
    "        # Assign the corresponding survival function index\n",
    "        surv_idx[i] = split_index - 1\n",
    "    \n",
    "    return surv_idx"
   ]
  },
  {
   "cell_type": "code",
   "execution_count": 29,
   "id": "ba5856b6-173e-4aa4-ad89-c2cffb71f576",
   "metadata": {},
   "outputs": [
    {
     "ename": "TypeError",
     "evalue": "create_surv_idx() missing 3 required positional arguments: 'splits', 'survival_function', and 'data'",
     "output_type": "error",
     "traceback": [
      "\u001b[0;31m---------------------------------------------------------------------------\u001b[0m",
      "\u001b[0;31mTypeError\u001b[0m                                 Traceback (most recent call last)",
      "Cell \u001b[0;32mIn[29], line 1\u001b[0m\n\u001b[0;32m----> 1\u001b[0m \u001b[43mcreate_surv_idx\u001b[49m\u001b[43m(\u001b[49m\u001b[43m)\u001b[49m\n",
      "\u001b[0;31mTypeError\u001b[0m: create_surv_idx() missing 3 required positional arguments: 'splits', 'survival_function', and 'data'"
     ]
    }
   ],
   "source": [
    "create_surv_idx()"
   ]
  },
  {
   "cell_type": "code",
   "execution_count": 68,
   "id": "70b3d6cf-5a2f-40e2-bc79-7b90d810e093",
   "metadata": {},
   "outputs": [],
   "source": [
    "l = []\n",
    "for idx in range(25):\n",
    "    split = pd.read_csv( survival_funct_path + f\"split_{idx+1}.csv\")\n",
    "    estimate = split.cumprod(axis=1).sum(axis=1)\n",
    "    test_idx = pd.read_csv(split_test_path).iloc[idx, :].tolist()\n",
    "    \n",
    "    \n",
    "    split_event_time = event_time[test_idx].to_numpy()\n",
    "    split_event_indicator = event_indicator[test_idx].to_numpy()\n",
    "    surv = split.to_numpy().T #lo vuole lui così\n",
    "    \n",
    "    \n",
    "    cidx = concordance_td(\n",
    "        surv=surv,\n",
    "        durations=split_event_time,\n",
    "        events=split_event_indicator,\n",
    "        surv_idx=np.searchsorted(np.sort(np.unique(split_event_time)), split_event_time),)\n",
    "    l.append(cidx)"
   ]
  },
  {
   "cell_type": "code",
   "execution_count": 69,
   "id": "94ee1cb4-7e7e-4011-be12-5b7f9b1c5460",
   "metadata": {},
   "outputs": [],
   "source": [
    "l;"
   ]
  },
  {
   "cell_type": "code",
   "execution_count": 70,
   "id": "d56c0094-c605-426d-b969-919bf01da500",
   "metadata": {},
   "outputs": [
    {
     "data": {
      "text/plain": [
       "array([-0.00460829, -0.00648749, -0.10616153, -0.04981203, -0.07249216,\n",
       "        0.02951389, -0.03325123, -0.05272256, -0.01949861,  0.01580334,\n",
       "        0.02709568, -0.04029991, -0.00448029, -0.01565217, -0.0235492 ,\n",
       "        0.01911381, -0.03071017,  0.03649001,  0.03876582, -0.02982293,\n",
       "       -0.02932255,  0.00429185, -0.02461034, -0.01904762, -0.01226994])"
      ]
     },
     "execution_count": 70,
     "metadata": {},
     "output_type": "execute_result"
    }
   ],
   "source": [
    "(np.array(l) - pd.read_csv(\"metrics/BLCA/intermediate_mean/clinical_gex/metrics.csv\")[\"concordance\"].to_numpy())"
   ]
  },
  {
   "cell_type": "code",
   "execution_count": null,
   "id": "a356f375-0dfc-4285-a344-198971eaced5",
   "metadata": {
    "tags": []
   },
   "outputs": [],
   "source": [
    "l = []\n",
    "####!!!!!!!\n",
    "for idx in range(25):\n",
    "    split = pd.read_csv(pthsf + f\"split_{idx+1}.csv\")\n",
    "    estimate = split.cumprod(axis=1).sum(axis=1)\n",
    "    \n",
    "    test_idx = pd.read_csv('zenodo/splits/BLCA_test_splits.csv').iloc[idx, :].tolist()\n",
    "    \n",
    "    #cidx = concordance_index_censored(\n",
    "    #    event_indicator=event_indicator[test_idx] == 1,\n",
    "    #    event_time = event_time[test_idx],\n",
    "    #    estimate=estimate\n",
    "    #)\n",
    "    split_event_time = event_time[test_idx].to_numpy()\n",
    "    split_event_indicator = event_indicator[test_idx].to_numpy()\n",
    "    surv = split.to_numpy().T\n",
    "    \n",
    "    cidx = EvalSurv(\n",
    "        surv=split.T,\n",
    "        durations=split_event_time,\n",
    "        events=split_event_indicator\n",
    "    ).concordance_td()\n",
    "  #  cidx = concordance_td(\n",
    "   #     surv=surv,\n",
    "    #    durations=split_event_time,\n",
    "     #   events=split_event_indicator,\n",
    "       # surv_idx=np.searchsorted(np.sort(np.unique(split_event_time)), split_event_time),\n",
    "    #)\n",
    "    \n",
    "    l.append(cidx)"
   ]
  }
 ],
 "metadata": {
  "kernelspec": {
   "display_name": "Python 3 (ipykernel)",
   "language": "python",
   "name": "python3"
  },
  "language_info": {
   "codemirror_mode": {
    "name": "ipython",
    "version": 3
   },
   "file_extension": ".py",
   "mimetype": "text/x-python",
   "name": "python",
   "nbconvert_exporter": "python",
   "pygments_lexer": "ipython3",
   "version": "3.12.0"
  }
 },
 "nbformat": 4,
 "nbformat_minor": 5
}
