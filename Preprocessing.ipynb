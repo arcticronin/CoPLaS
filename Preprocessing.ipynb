{
 "cells": [
  {
   "cell_type": "code",
   "execution_count": 151,
   "id": "6718d4d5-d094-4109-859d-951543b980e5",
   "metadata": {},
   "outputs": [],
   "source": [
    "import pandas  as pd\n",
    "import numpy as np\n",
    "\n",
    "from sklearn.feature_selection import VarianceThreshold"
   ]
  },
  {
   "cell_type": "code",
   "execution_count": 152,
   "id": "a3e2ec4e-6921-4b5d-a2cc-e01ed513b200",
   "metadata": {},
   "outputs": [],
   "source": [
    "relevant_genes = pd.read_csv(\"DaniDatasets/relevant_genes.csv\")"
   ]
  },
  {
   "cell_type": "code",
   "execution_count": 153,
   "id": "28c3146e-8d99-4551-95a4-db56cc515a7b",
   "metadata": {},
   "outputs": [],
   "source": [
    "microbiome = pd.read_csv(\"DaniDatasets/BLCA_csv/microbiome_log_rna.csv\",index_col=0)\n",
    "mirna = pd.read_csv(\"DaniDatasets/BLCA_csv/miRNA.csv\",index_col=0)\n",
    "svs = pd.read_csv(\"DaniDatasets/BLCA_csv/svs.csv\", index_col=0)\n",
    "mutations = pd.read_csv(\"DaniDatasets/BLCA_csv/mutations.csv\",index_col=0)\n",
    "rna_median = pd.read_csv(\"DaniDatasets/BLCA_csv/RNA_expression_median.csv\", index_col=0)\n",
    "rppa_levels = pd.read_csv(\"DaniDatasets/BLCA_csv/rppa_levels.csv\", index_col=0)\n",
    "metilation = pd.read_csv(\"DaniDatasets/BLCA_csv/methylations.csv\", index_col=0)\n",
    "cna_log2 = pd.read_csv(\"DaniDatasets/BLCA_csv/cna_log2.csv\", index_col=0)"
   ]
  },
  {
   "cell_type": "code",
   "execution_count": 154,
   "id": "89a3b6ad-375b-4420-91df-d249c42ef12c",
   "metadata": {},
   "outputs": [
    {
     "name": "stdout",
     "output_type": "stream",
     "text": [
      "dropped 0 columns\n",
      "dropped 0 columns\n",
      "dropped 0 columns\n",
      "dropped 0 columns\n"
     ]
    }
   ],
   "source": [
    "for omic in [mutations, metilation, rna_median, cna_log2]:\n",
    "    columns_to_drop = []\n",
    "    for column_name in mutations.columns:\n",
    "        if not (relevant_genes['Gene'] == column_name).any():\n",
    "            columns_to_drop.append(column_name)\n",
    "    print(\"dropped {} columns\".format(len(columns_to_drop)))\n",
    "    omic.drop(columns=columns_to_drop, inplace=True)\n",
    "    "
   ]
  },
  {
   "cell_type": "code",
   "execution_count": 155,
   "id": "da313f71-e1a5-4c72-8ed3-df01aa378bdb",
   "metadata": {},
   "outputs": [
    {
     "data": {
      "text/plain": [
       "(332, 377)"
      ]
     },
     "execution_count": 155,
     "metadata": {},
     "output_type": "execute_result"
    }
   ],
   "source": [
    "## svs has a particular configuration\n",
    "columns_to_drop = []\n",
    "for column_name in svs.columns:\n",
    "    gene1, gene2 = column_name.split('_')\n",
    "    # Check if either gene is in genes_df\n",
    "    if not ((relevant_genes['Gene'] == gene1).any() \n",
    "            or (relevant_genes['Gene'] == gene2).any()):\n",
    "        columns_to_drop.append(column_name)\n",
    "\n",
    "# Dropping\n",
    "svs.drop(columns=columns_to_drop, inplace=True)\n",
    "svs.shape"
   ]
  },
  {
   "cell_type": "code",
   "execution_count": 156,
   "id": "15d4bdc3-365b-41a8-8d12-e8dc0a359571",
   "metadata": {},
   "outputs": [],
   "source": [
    "# check for index naming\n",
    "for i in range(0,len(svs.index)):\n",
    "    if svs.index[i] != mutations.index[i]:\n",
    "        print(\"Concatenation not Correct\")\n",
    "alterations = pd.concat([svs, mutations], axis=1)"
   ]
  },
  {
   "cell_type": "code",
   "execution_count": 157,
   "id": "3fb4cb24-9646-4a79-9832-2447ab5606c8",
   "metadata": {},
   "outputs": [],
   "source": [
    "# set unique column name\n",
    "for omic, name in zip([rna_median, metilation, mirna, cna_log2, rppa_levels, alterations, microbiome],\n",
    "                      ['rna_median', 'metilation', 'mirna', 'cna_log2', 'rppa_levels', 'alterations', 'microbiome']):\n",
    "    omic.columns = [f\"{name}_{c}\" for c in omic.columns]"
   ]
  },
  {
   "cell_type": "code",
   "execution_count": 158,
   "id": "d8d80aca-ac8f-4bb8-943e-ca175e30924f",
   "metadata": {},
   "outputs": [],
   "source": [
    "clinical_total = pd.read_csv(\"DaniDatasets/BLCA_csv/clinical_data.csv\", index_col=1)"
   ]
  },
  {
   "cell_type": "code",
   "execution_count": 159,
   "id": "12c68a36-6fd7-41c0-8238-d8973db4d0e3",
   "metadata": {},
   "outputs": [],
   "source": [
    "clinical = clinical_total[['AGE', 'GENDER', 'OS_STATUS', 'OS_MONTHS']]"
   ]
  },
  {
   "cell_type": "code",
   "execution_count": 160,
   "id": "6b8e4285-a4ae-47e3-9b16-cc9073a1d56c",
   "metadata": {},
   "outputs": [
    {
     "name": "stderr",
     "output_type": "stream",
     "text": [
      "/tmp/ipykernel_2750/2970686832.py:20: SettingWithCopyWarning: \n",
      "A value is trying to be set on a copy of a slice from a DataFrame.\n",
      "Try using .loc[row_indexer,col_indexer] = value instead\n",
      "\n",
      "See the caveats in the documentation: https://pandas.pydata.org/pandas-docs/stable/user_guide/indexing.html#returning-a-view-versus-a-copy\n",
      "  clinical['OS_STATUS'] = clinical['OS_STATUS'].apply(convert_status)\n",
      "/tmp/ipykernel_2750/2970686832.py:21: SettingWithCopyWarning: \n",
      "A value is trying to be set on a copy of a slice from a DataFrame.\n",
      "Try using .loc[row_indexer,col_indexer] = value instead\n",
      "\n",
      "See the caveats in the documentation: https://pandas.pydata.org/pandas-docs/stable/user_guide/indexing.html#returning-a-view-versus-a-copy\n",
      "  clinical['OS_STATUS'] = pd.to_numeric(clinical['OS_STATUS'])\n",
      "/tmp/ipykernel_2750/2970686832.py:24: SettingWithCopyWarning: \n",
      "A value is trying to be set on a copy of a slice from a DataFrame.\n",
      "Try using .loc[row_indexer,col_indexer] = value instead\n",
      "\n",
      "See the caveats in the documentation: https://pandas.pydata.org/pandas-docs/stable/user_guide/indexing.html#returning-a-view-versus-a-copy\n",
      "  clinical['GENDER'] = clinical['GENDER'].apply(convert_gender)\n",
      "/tmp/ipykernel_2750/2970686832.py:25: SettingWithCopyWarning: \n",
      "A value is trying to be set on a copy of a slice from a DataFrame.\n",
      "Try using .loc[row_indexer,col_indexer] = value instead\n",
      "\n",
      "See the caveats in the documentation: https://pandas.pydata.org/pandas-docs/stable/user_guide/indexing.html#returning-a-view-versus-a-copy\n",
      "  clinical['GENDER'] = pd.to_numeric(clinical['GENDER'])\n"
     ]
    }
   ],
   "source": [
    "def convert_status(status):\n",
    "    if status == '1:DECEASED':\n",
    "        return 1\n",
    "    elif status == '0:LIVING':\n",
    "        return 0\n",
    "    else:\n",
    "        print(\"ERROR: y cannot be empty\")\n",
    "        return np.NaN\n",
    "\n",
    "def convert_gender(gender):\n",
    "    if gender == 'Female':\n",
    "        return 1\n",
    "    elif gender == 'Male':\n",
    "        return 0\n",
    "    else:\n",
    "        print(\"ERROR: y cannot be empty in gender\")\n",
    "        return np.NaN\n",
    "\n",
    "\n",
    "clinical['OS_STATUS'] = clinical['OS_STATUS'].apply(convert_status)\n",
    "clinical['OS_STATUS'] = pd.to_numeric(clinical['OS_STATUS'])\n",
    "\n",
    "\n",
    "clinical['GENDER'] = clinical['GENDER'].apply(convert_gender)\n",
    "clinical['GENDER'] = pd.to_numeric(clinical['GENDER'])"
   ]
  },
  {
   "cell_type": "code",
   "execution_count": 161,
   "id": "2422fd62-2590-44b9-bdf0-c074add0109a",
   "metadata": {},
   "outputs": [
    {
     "name": "stdout",
     "output_type": "stream",
     "text": [
      "dropped 13 rows\n"
     ]
    }
   ],
   "source": [
    "# remove patients wit more than 80 yo and less than 6 months OS\n",
    "dropped = 0\n",
    "dropped += len(clinical[((clinical['AGE'] >= 80) & \n",
    "                         (clinical['OS_MONTHS'] <= 6))])\n",
    "\n",
    "dropped += len(clinical[clinical['OS_MONTHS']\n",
    "               .isna() == True])\n",
    "\n",
    "filtered_clinical = clinical[~(\n",
    "    (clinical['AGE'] >= 80) & \n",
    "    (clinical['OS_MONTHS'] <= 6))]\n",
    "\n",
    "filtered_clinical = filtered_clinical[filtered_clinical['OS_MONTHS'].isna() == False]\n",
    "\n",
    "print(\"dropped {} rows\".format(dropped))"
   ]
  },
  {
   "cell_type": "code",
   "execution_count": 162,
   "id": "1c463320-5b56-4919-95d2-8257f2b051b5",
   "metadata": {},
   "outputs": [
    {
     "name": "stdout",
     "output_type": "stream",
     "text": [
      "(332, 1406) (319, 4)\n"
     ]
    }
   ],
   "source": [
    "print(microbiome.shape, filtered_clinical.shape)"
   ]
  },
  {
   "cell_type": "code",
   "execution_count": 163,
   "id": "fe641735-a42a-4c2c-ba2b-69487719fd44",
   "metadata": {},
   "outputs": [],
   "source": [
    "d = {}\n",
    "for k, v in zip(dataframes,\n",
    "        [\"filtered_clinical\", \"rna_median\", \"metilation\", \"mirna\", \"cna_log2\", \"rppa_levels\", \"alterations\", \"microbiome\"]):\n",
    "    d[v] = k"
   ]
  },
  {
   "cell_type": "code",
   "execution_count": 164,
   "id": "9421aec2-1b21-4a11-92c0-7f65d7b8de20",
   "metadata": {},
   "outputs": [
    {
     "data": {
      "text/plain": [
       "pandas.core.frame.DataFrame"
      ]
     },
     "execution_count": 164,
     "metadata": {},
     "output_type": "execute_result"
    }
   ],
   "source": [
    "type(d['filtered_clinical'])"
   ]
  },
  {
   "cell_type": "code",
   "execution_count": 169,
   "id": "8fcff068-9bb9-429a-8862-6325901fb8ce",
   "metadata": {},
   "outputs": [
    {
     "name": "stdout",
     "output_type": "stream",
     "text": [
      "Dropped 0 columns in omic: filtered_clinical\n",
      "Dropped 0 columns in omic: rna_median\n",
      "Dropped 0 columns in omic: metilation\n",
      "Dropped 0 columns in omic: mirna\n",
      "Dropped 0 columns in omic: cna_log2\n",
      "Dropped 0 columns in omic: rppa_levels\n",
      "Dropped 0 columns in omic: alterations\n",
      "Dropped 0 columns in omic: microbiome\n",
      "Total dropped columns due to low variance: 0\n"
     ]
    }
   ],
   "source": [
    "selector = VarianceThreshold() ##default 0.0\n",
    "dropped_columns = 0\n",
    "\n",
    "for k in d.keys():\n",
    "    before = d[k].shape[1]\n",
    "    d[k] = pd.DataFrame(selector.fit_transform(d[k], ))\n",
    "    \n",
    "    after = d[k].shape[1]\n",
    "    \n",
    "    dropped = before - after\n",
    "    print(f\"Dropped {dropped} columns in omic: {k}\")  \n",
    "    dropped_columns += dropped\n",
    "    \n",
    "print(f\"Total dropped columns due to low variance: {dropped_columns}\")\n"
   ]
  },
  {
   "cell_type": "code",
   "execution_count": 170,
   "id": "3ff9b251-14c7-4797-9e8d-a0ca46f5858b",
   "metadata": {},
   "outputs": [
    {
     "data": {
      "text/html": [
       "<div>\n",
       "<style scoped>\n",
       "    .dataframe tbody tr th:only-of-type {\n",
       "        vertical-align: middle;\n",
       "    }\n",
       "\n",
       "    .dataframe tbody tr th {\n",
       "        vertical-align: top;\n",
       "    }\n",
       "\n",
       "    .dataframe thead th {\n",
       "        text-align: right;\n",
       "    }\n",
       "</style>\n",
       "<table border=\"1\" class=\"dataframe\">\n",
       "  <thead>\n",
       "    <tr style=\"text-align: right;\">\n",
       "      <th></th>\n",
       "      <th>0</th>\n",
       "      <th>1</th>\n",
       "      <th>2</th>\n",
       "      <th>3</th>\n",
       "      <th>4</th>\n",
       "      <th>5</th>\n",
       "      <th>6</th>\n",
       "      <th>7</th>\n",
       "      <th>8</th>\n",
       "      <th>9</th>\n",
       "      <th>...</th>\n",
       "      <th>1396</th>\n",
       "      <th>1397</th>\n",
       "      <th>1398</th>\n",
       "      <th>1399</th>\n",
       "      <th>1400</th>\n",
       "      <th>1401</th>\n",
       "      <th>1402</th>\n",
       "      <th>1403</th>\n",
       "      <th>1404</th>\n",
       "      <th>1405</th>\n",
       "    </tr>\n",
       "  </thead>\n",
       "  <tbody>\n",
       "    <tr>\n",
       "      <th>0</th>\n",
       "      <td>0.733080</td>\n",
       "      <td>0.670418</td>\n",
       "      <td>0.765124</td>\n",
       "      <td>6.730933</td>\n",
       "      <td>0.702300</td>\n",
       "      <td>0.085334</td>\n",
       "      <td>0.082973</td>\n",
       "      <td>5.124396</td>\n",
       "      <td>1.363205</td>\n",
       "      <td>0.659918</td>\n",
       "      <td>...</td>\n",
       "      <td>0.682279</td>\n",
       "      <td>0.850568</td>\n",
       "      <td>0.593939</td>\n",
       "      <td>0.176701</td>\n",
       "      <td>0.744849</td>\n",
       "      <td>0.226570</td>\n",
       "      <td>0.343580</td>\n",
       "      <td>0.607999</td>\n",
       "      <td>1.313179</td>\n",
       "      <td>0.420133</td>\n",
       "    </tr>\n",
       "    <tr>\n",
       "      <th>1</th>\n",
       "      <td>0.799478</td>\n",
       "      <td>0.732459</td>\n",
       "      <td>1.099794</td>\n",
       "      <td>6.725545</td>\n",
       "      <td>0.766583</td>\n",
       "      <td>0.562629</td>\n",
       "      <td>0.092474</td>\n",
       "      <td>5.650626</td>\n",
       "      <td>1.463872</td>\n",
       "      <td>0.721209</td>\n",
       "      <td>...</td>\n",
       "      <td>0.745160</td>\n",
       "      <td>0.924610</td>\n",
       "      <td>0.650380</td>\n",
       "      <td>0.196230</td>\n",
       "      <td>0.812043</td>\n",
       "      <td>0.251149</td>\n",
       "      <td>0.379280</td>\n",
       "      <td>0.665494</td>\n",
       "      <td>1.411663</td>\n",
       "      <td>0.462594</td>\n",
       "    </tr>\n",
       "    <tr>\n",
       "      <th>2</th>\n",
       "      <td>0.613071</td>\n",
       "      <td>0.558774</td>\n",
       "      <td>0.992511</td>\n",
       "      <td>5.848076</td>\n",
       "      <td>0.586361</td>\n",
       "      <td>0.196826</td>\n",
       "      <td>0.066727</td>\n",
       "      <td>6.171341</td>\n",
       "      <td>2.254735</td>\n",
       "      <td>1.257834</td>\n",
       "      <td>...</td>\n",
       "      <td>0.569027</td>\n",
       "      <td>0.715703</td>\n",
       "      <td>0.492939</td>\n",
       "      <td>0.142989</td>\n",
       "      <td>0.623304</td>\n",
       "      <td>0.183937</td>\n",
       "      <td>0.280987</td>\n",
       "      <td>0.505005</td>\n",
       "      <td>1.129204</td>\n",
       "      <td>0.124470</td>\n",
       "    </tr>\n",
       "    <tr>\n",
       "      <th>3</th>\n",
       "      <td>0.707098</td>\n",
       "      <td>0.646193</td>\n",
       "      <td>0.905945</td>\n",
       "      <td>6.557623</td>\n",
       "      <td>0.677172</td>\n",
       "      <td>0.607701</td>\n",
       "      <td>0.079356</td>\n",
       "      <td>6.491229</td>\n",
       "      <td>1.323144</td>\n",
       "      <td>0.635995</td>\n",
       "      <td>...</td>\n",
       "      <td>0.657716</td>\n",
       "      <td>0.821487</td>\n",
       "      <td>0.571960</td>\n",
       "      <td>0.169231</td>\n",
       "      <td>0.718546</td>\n",
       "      <td>0.217146</td>\n",
       "      <td>0.329817</td>\n",
       "      <td>0.585599</td>\n",
       "      <td>1.274030</td>\n",
       "      <td>0.147483</td>\n",
       "    </tr>\n",
       "    <tr>\n",
       "      <th>4</th>\n",
       "      <td>0.880366</td>\n",
       "      <td>0.755986</td>\n",
       "      <td>1.021976</td>\n",
       "      <td>7.315561</td>\n",
       "      <td>0.702646</td>\n",
       "      <td>0.468115</td>\n",
       "      <td>0.070132</td>\n",
       "      <td>7.437099</td>\n",
       "      <td>1.236872</td>\n",
       "      <td>0.262879</td>\n",
       "      <td>...</td>\n",
       "      <td>0.767196</td>\n",
       "      <td>0.854524</td>\n",
       "      <td>0.474997</td>\n",
       "      <td>0.200000</td>\n",
       "      <td>0.897650</td>\n",
       "      <td>1.247625</td>\n",
       "      <td>0.205541</td>\n",
       "      <td>0.705577</td>\n",
       "      <td>1.054814</td>\n",
       "      <td>0.358379</td>\n",
       "    </tr>\n",
       "    <tr>\n",
       "      <th>...</th>\n",
       "      <td>...</td>\n",
       "      <td>...</td>\n",
       "      <td>...</td>\n",
       "      <td>...</td>\n",
       "      <td>...</td>\n",
       "      <td>...</td>\n",
       "      <td>...</td>\n",
       "      <td>...</td>\n",
       "      <td>...</td>\n",
       "      <td>...</td>\n",
       "      <td>...</td>\n",
       "      <td>...</td>\n",
       "      <td>...</td>\n",
       "      <td>...</td>\n",
       "      <td>...</td>\n",
       "      <td>...</td>\n",
       "      <td>...</td>\n",
       "      <td>...</td>\n",
       "      <td>...</td>\n",
       "      <td>...</td>\n",
       "      <td>...</td>\n",
       "    </tr>\n",
       "    <tr>\n",
       "      <th>327</th>\n",
       "      <td>1.872881</td>\n",
       "      <td>0.508706</td>\n",
       "      <td>0.996238</td>\n",
       "      <td>6.874401</td>\n",
       "      <td>0.609905</td>\n",
       "      <td>0.205155</td>\n",
       "      <td>0.084316</td>\n",
       "      <td>6.919992</td>\n",
       "      <td>1.293996</td>\n",
       "      <td>0.273532</td>\n",
       "      <td>...</td>\n",
       "      <td>0.571541</td>\n",
       "      <td>0.704317</td>\n",
       "      <td>0.596845</td>\n",
       "      <td>1.484255</td>\n",
       "      <td>0.664218</td>\n",
       "      <td>0.194443</td>\n",
       "      <td>0.323378</td>\n",
       "      <td>0.499780</td>\n",
       "      <td>1.190346</td>\n",
       "      <td>0.114608</td>\n",
       "    </tr>\n",
       "    <tr>\n",
       "      <th>328</th>\n",
       "      <td>0.713288</td>\n",
       "      <td>0.592377</td>\n",
       "      <td>0.707069</td>\n",
       "      <td>6.811078</td>\n",
       "      <td>0.706543</td>\n",
       "      <td>0.385003</td>\n",
       "      <td>0.100680</td>\n",
       "      <td>6.063541</td>\n",
       "      <td>1.456203</td>\n",
       "      <td>5.916935</td>\n",
       "      <td>...</td>\n",
       "      <td>0.663384</td>\n",
       "      <td>1.708202</td>\n",
       "      <td>0.691867</td>\n",
       "      <td>0.844316</td>\n",
       "      <td>0.767405</td>\n",
       "      <td>0.230543</td>\n",
       "      <td>0.380449</td>\n",
       "      <td>0.582257</td>\n",
       "      <td>1.344661</td>\n",
       "      <td>0.136579</td>\n",
       "    </tr>\n",
       "    <tr>\n",
       "      <th>329</th>\n",
       "      <td>0.777866</td>\n",
       "      <td>1.939821</td>\n",
       "      <td>0.898217</td>\n",
       "      <td>7.194919</td>\n",
       "      <td>0.770658</td>\n",
       "      <td>0.424125</td>\n",
       "      <td>0.112048</td>\n",
       "      <td>5.317840</td>\n",
       "      <td>1.559987</td>\n",
       "      <td>6.452242</td>\n",
       "      <td>...</td>\n",
       "      <td>0.724482</td>\n",
       "      <td>0.883269</td>\n",
       "      <td>0.754967</td>\n",
       "      <td>0.172444</td>\n",
       "      <td>0.835614</td>\n",
       "      <td>0.255334</td>\n",
       "      <td>0.419172</td>\n",
       "      <td>0.637416</td>\n",
       "      <td>1.443822</td>\n",
       "      <td>0.414511</td>\n",
       "    </tr>\n",
       "    <tr>\n",
       "      <th>330</th>\n",
       "      <td>0.669879</td>\n",
       "      <td>1.742324</td>\n",
       "      <td>1.241019</td>\n",
       "      <td>7.071073</td>\n",
       "      <td>0.663457</td>\n",
       "      <td>0.593322</td>\n",
       "      <td>0.093272</td>\n",
       "      <td>4.715758</td>\n",
       "      <td>1.384790</td>\n",
       "      <td>2.004182</td>\n",
       "      <td>...</td>\n",
       "      <td>0.622398</td>\n",
       "      <td>0.764184</td>\n",
       "      <td>0.649488</td>\n",
       "      <td>0.144041</td>\n",
       "      <td>0.721456</td>\n",
       "      <td>0.565916</td>\n",
       "      <td>0.354810</td>\n",
       "      <td>0.545384</td>\n",
       "      <td>1.276619</td>\n",
       "      <td>0.544734</td>\n",
       "    </tr>\n",
       "    <tr>\n",
       "      <th>331</th>\n",
       "      <td>0.722545</td>\n",
       "      <td>1.349548</td>\n",
       "      <td>0.836565</td>\n",
       "      <td>7.614428</td>\n",
       "      <td>0.715732</td>\n",
       "      <td>0.390568</td>\n",
       "      <td>0.102284</td>\n",
       "      <td>4.780908</td>\n",
       "      <td>1.471255</td>\n",
       "      <td>7.636764</td>\n",
       "      <td>...</td>\n",
       "      <td>0.672133</td>\n",
       "      <td>0.822377</td>\n",
       "      <td>1.524356</td>\n",
       "      <td>0.157698</td>\n",
       "      <td>0.777193</td>\n",
       "      <td>0.234054</td>\n",
       "      <td>0.385957</td>\n",
       "      <td>0.590141</td>\n",
       "      <td>1.359022</td>\n",
       "      <td>0.381619</td>\n",
       "    </tr>\n",
       "  </tbody>\n",
       "</table>\n",
       "<p>332 rows × 1406 columns</p>\n",
       "</div>"
      ],
      "text/plain": [
       "         0         1         2         3         4         5         6     \\\n",
       "0    0.733080  0.670418  0.765124  6.730933  0.702300  0.085334  0.082973   \n",
       "1    0.799478  0.732459  1.099794  6.725545  0.766583  0.562629  0.092474   \n",
       "2    0.613071  0.558774  0.992511  5.848076  0.586361  0.196826  0.066727   \n",
       "3    0.707098  0.646193  0.905945  6.557623  0.677172  0.607701  0.079356   \n",
       "4    0.880366  0.755986  1.021976  7.315561  0.702646  0.468115  0.070132   \n",
       "..        ...       ...       ...       ...       ...       ...       ...   \n",
       "327  1.872881  0.508706  0.996238  6.874401  0.609905  0.205155  0.084316   \n",
       "328  0.713288  0.592377  0.707069  6.811078  0.706543  0.385003  0.100680   \n",
       "329  0.777866  1.939821  0.898217  7.194919  0.770658  0.424125  0.112048   \n",
       "330  0.669879  1.742324  1.241019  7.071073  0.663457  0.593322  0.093272   \n",
       "331  0.722545  1.349548  0.836565  7.614428  0.715732  0.390568  0.102284   \n",
       "\n",
       "         7         8         9     ...      1396      1397      1398  \\\n",
       "0    5.124396  1.363205  0.659918  ...  0.682279  0.850568  0.593939   \n",
       "1    5.650626  1.463872  0.721209  ...  0.745160  0.924610  0.650380   \n",
       "2    6.171341  2.254735  1.257834  ...  0.569027  0.715703  0.492939   \n",
       "3    6.491229  1.323144  0.635995  ...  0.657716  0.821487  0.571960   \n",
       "4    7.437099  1.236872  0.262879  ...  0.767196  0.854524  0.474997   \n",
       "..        ...       ...       ...  ...       ...       ...       ...   \n",
       "327  6.919992  1.293996  0.273532  ...  0.571541  0.704317  0.596845   \n",
       "328  6.063541  1.456203  5.916935  ...  0.663384  1.708202  0.691867   \n",
       "329  5.317840  1.559987  6.452242  ...  0.724482  0.883269  0.754967   \n",
       "330  4.715758  1.384790  2.004182  ...  0.622398  0.764184  0.649488   \n",
       "331  4.780908  1.471255  7.636764  ...  0.672133  0.822377  1.524356   \n",
       "\n",
       "         1399      1400      1401      1402      1403      1404      1405  \n",
       "0    0.176701  0.744849  0.226570  0.343580  0.607999  1.313179  0.420133  \n",
       "1    0.196230  0.812043  0.251149  0.379280  0.665494  1.411663  0.462594  \n",
       "2    0.142989  0.623304  0.183937  0.280987  0.505005  1.129204  0.124470  \n",
       "3    0.169231  0.718546  0.217146  0.329817  0.585599  1.274030  0.147483  \n",
       "4    0.200000  0.897650  1.247625  0.205541  0.705577  1.054814  0.358379  \n",
       "..        ...       ...       ...       ...       ...       ...       ...  \n",
       "327  1.484255  0.664218  0.194443  0.323378  0.499780  1.190346  0.114608  \n",
       "328  0.844316  0.767405  0.230543  0.380449  0.582257  1.344661  0.136579  \n",
       "329  0.172444  0.835614  0.255334  0.419172  0.637416  1.443822  0.414511  \n",
       "330  0.144041  0.721456  0.565916  0.354810  0.545384  1.276619  0.544734  \n",
       "331  0.157698  0.777193  0.234054  0.385957  0.590141  1.359022  0.381619  \n",
       "\n",
       "[332 rows x 1406 columns]"
      ]
     },
     "execution_count": 170,
     "metadata": {},
     "output_type": "execute_result"
    }
   ],
   "source": [
    "d[k]"
   ]
  },
  {
   "cell_type": "code",
   "execution_count": 123,
   "id": "86784984-aa28-48ab-b06a-1e0fdba2a667",
   "metadata": {},
   "outputs": [
    {
     "name": "stdout",
     "output_type": "stream",
     "text": [
      "Dropped 0 columns at step 1 : filtered_clinical\n",
      "Dropped 2 columns at step 2 : rna_median\n",
      "Dropped 0 columns at step 3 : metilation\n",
      "Dropped 3 columns at step 4 : mirna\n",
      "Dropped 0 columns at step 5 : cna_log2\n",
      "Dropped 0 columns at step 6 : rppa_levels\n",
      "Dropped 104 columns at step 7 : alterations\n",
      "Dropped 0 columns at step 8 : microbiome\n",
      "Total dropped columns due to low variance: 109\n"
     ]
    }
   ],
   "source": [
    "selector = VarianceThreshold() ##default 0.0\n",
    "dropped_columns = 0\n",
    "\n",
    "dataframes = [filtered_clinical, rna_median, metilation, mirna, cna_log2, rppa_levels, alterations, microbiome]\n",
    "transformed_df =[]\n",
    "\n",
    "for i, (omic, omic_name) in enumerate( \n",
    "    zip(dataframes,\n",
    "        [\"filtered_clinical\", \"rna_median\", \"metilation\", \"mirna\", \"cna_log2\", \"rppa_levels\", \"alterations\", \"microbiome\"])):\n",
    "    before = omic.shape[1] \n",
    "\n",
    "    selector.fit_transform()\n",
    "    pd.DataFrame(transformed_omic, index=omic.index, columns=omic.columns[selector.get_support()])\n",
    "    \n",
    "    after = transformed_df[i].shape[1]\n",
    "    dropped = before - after\n",
    "    print(f\"Dropped {dropped} columns at step {i + 1} : {omic_name}\")  \n",
    "    dropped_columns += dropped\n",
    "\n",
    "print(f\"Total dropped columns due to low variance: {dropped_columns}\")\n"
   ]
  },
  {
   "cell_type": "code",
   "execution_count": 168,
   "id": "e3e111e4-9088-4fea-8355-16382600665f",
   "metadata": {},
   "outputs": [
    {
     "data": {
      "text/plain": [
       "numpy.ndarray"
      ]
     },
     "execution_count": 168,
     "metadata": {},
     "output_type": "execute_result"
    }
   ],
   "source": [
    "type(d[k])"
   ]
  },
  {
   "cell_type": "code",
   "execution_count": 166,
   "id": "42fa60fb-8943-4da0-ad77-a5c23e532c20",
   "metadata": {},
   "outputs": [],
   "source": [
    "def merge_all(omics):\n",
    "    df = omics[0]\n",
    "    starting_indices = [0,omics[0].shape[1]]\n",
    "    for omic in omics[1:]:\n",
    "        #print(omic)\n",
    "        starting_indices.append(starting_indices[-1] + omic.shape[1])\n",
    "        df = df.merge(omic, left_index=True, right_index=True)\n",
    "    return (df, starting_indices)"
   ]
  },
  {
   "cell_type": "code",
   "execution_count": 103,
   "id": "331aaaf7-23b8-4ef7-9e98-431c47eb7148",
   "metadata": {},
   "outputs": [],
   "source": [
    "final_df, indices = merge_all(\n",
    "    [filtered_clinical, \n",
    "     rna_median, \n",
    "     metilation, \n",
    "     mirna ,\n",
    "     cna_log2, \n",
    "     rppa_levels, \n",
    "     alterations,\n",
    "     microbiome])"
   ]
  },
  {
   "cell_type": "code",
   "execution_count": 104,
   "id": "61b0839d-598f-4376-9aa0-dc219831e907",
   "metadata": {},
   "outputs": [
    {
     "data": {
      "text/plain": [
       "[0, 4, 2009, 3550, 4293, 6569, 6758, 9165, 10571]"
      ]
     },
     "execution_count": 104,
     "metadata": {},
     "output_type": "execute_result"
    }
   ],
   "source": [
    "indices"
   ]
  },
  {
   "cell_type": "code",
   "execution_count": 17,
   "id": "7a107213-3327-4b30-8a59-03e8d4481ba8",
   "metadata": {},
   "outputs": [
    {
     "data": {
      "text/plain": [
       "(319, 10571)"
      ]
     },
     "execution_count": 17,
     "metadata": {},
     "output_type": "execute_result"
    }
   ],
   "source": [
    "(final_df.shape)"
   ]
  },
  {
   "cell_type": "code",
   "execution_count": 18,
   "id": "60ad2120-71e3-4698-bcf2-850341ee79cc",
   "metadata": {},
   "outputs": [],
   "source": [
    "# write indices to CSV\n",
    "pd.DataFrame(indices, columns=['index']).to_csv(\"DaniDatasets/indices_for_preprocessed.csv\", index=False)"
   ]
  },
  {
   "cell_type": "code",
   "execution_count": 176,
   "id": "d424f8fc-21c7-47e4-8062-4456b75d40c7",
   "metadata": {},
   "outputs": [],
   "source": [
    "final_df = final_df.rename(columns={'OS_STATUS':'event', 'OS_MONTHS': 'time'})"
   ]
  },
  {
   "cell_type": "code",
   "execution_count": 177,
   "id": "7055fc65-dc44-4e1c-941f-fa9a06cfbc73",
   "metadata": {},
   "outputs": [],
   "source": [
    "# write df to CSV\n",
    "# final_df.to_csv(\"DaniDatasets/preprocessed.csv\")"
   ]
  },
  {
   "cell_type": "code",
   "execution_count": 178,
   "id": "04904eca-1729-4db2-bfdd-8a5dd29273e9",
   "metadata": {},
   "outputs": [
    {
     "data": {
      "text/plain": [
       "Index(['AGE', 'GENDER', 'event', 'time', 'rna_median_A1CF', 'rna_median_ABCG2',\n",
       "       'rna_median_ABI1', 'rna_median_ABI2', 'rna_median_ABL1',\n",
       "       'rna_median_ABL2',\n",
       "       ...\n",
       "       'microbiome_Yokenella', 'microbiome_Yonghaparkia',\n",
       "       'microbiome_Youngiibacter', 'microbiome_Zavarzinella',\n",
       "       'microbiome_Zhouia', 'microbiome_Zobellia', 'microbiome_Zooshikella',\n",
       "       'microbiome_Zunongwangia', 'microbiome_Zymobacter',\n",
       "       'microbiome_Zymomonas'],\n",
       "      dtype='object', length=10571)"
      ]
     },
     "execution_count": 178,
     "metadata": {},
     "output_type": "execute_result"
    }
   ],
   "source": [
    "final_df.columns"
   ]
  },
  {
   "cell_type": "code",
   "execution_count": null,
   "id": "c2426eea-492e-4772-bb30-c7e8d1fdfcb6",
   "metadata": {},
   "outputs": [],
   "source": []
  }
 ],
 "metadata": {
  "kernelspec": {
   "display_name": "Python 3 (ipykernel)",
   "language": "python",
   "name": "python3"
  },
  "language_info": {
   "codemirror_mode": {
    "name": "ipython",
    "version": 3
   },
   "file_extension": ".py",
   "mimetype": "text/x-python",
   "name": "python",
   "nbconvert_exporter": "python",
   "pygments_lexer": "ipython3",
   "version": "3.12.0"
  }
 },
 "nbformat": 4,
 "nbformat_minor": 5
}
