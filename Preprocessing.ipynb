{
 "cells": [
  {
   "cell_type": "code",
   "execution_count": 57,
   "id": "6718d4d5-d094-4109-859d-951543b980e5",
   "metadata": {},
   "outputs": [],
   "source": [
    "import pandas  as pd\n",
    "import numpy as np\n",
    "\n",
    "from sklearn.feature_selection import VarianceThreshold"
   ]
  },
  {
   "cell_type": "code",
   "execution_count": 58,
   "id": "a3e2ec4e-6921-4b5d-a2cc-e01ed513b200",
   "metadata": {},
   "outputs": [],
   "source": [
    "relevant_genes = pd.read_csv(\"DaniDatasets/relevant_genes.csv\")"
   ]
  },
  {
   "cell_type": "code",
   "execution_count": 59,
   "id": "28c3146e-8d99-4551-95a4-db56cc515a7b",
   "metadata": {},
   "outputs": [],
   "source": [
    "microbiome = pd.read_csv(\"DaniDatasets/BLCA_csv/microbiome_log_rna.csv\",index_col=0)\n",
    "mirna = pd.read_csv(\"DaniDatasets/BLCA_csv/miRNA.csv\",index_col=0)\n",
    "svs = pd.read_csv(\"DaniDatasets/BLCA_csv/svs.csv\", index_col=0)\n",
    "mutations = pd.read_csv(\"DaniDatasets/BLCA_csv/mutations.csv\",index_col=0)\n",
    "rna_median = pd.read_csv(\"DaniDatasets/BLCA_csv/RNA_expression_median.csv\", index_col=0)\n",
    "rppa_levels = pd.read_csv(\"DaniDatasets/BLCA_csv/rppa_levels.csv\", index_col=0)\n",
    "metilation = pd.read_csv(\"DaniDatasets/BLCA_csv/methylations.csv\", index_col=0)\n",
    "cna_log2 = pd.read_csv(\"DaniDatasets/BLCA_csv/cna_log2.csv\", index_col=0)"
   ]
  },
  {
   "cell_type": "code",
   "execution_count": 60,
   "id": "89a3b6ad-375b-4420-91df-d249c42ef12c",
   "metadata": {},
   "outputs": [
    {
     "name": "stdout",
     "output_type": "stream",
     "text": [
      "dropped 0 columns\n",
      "dropped 0 columns\n",
      "dropped 0 columns\n",
      "dropped 0 columns\n"
     ]
    }
   ],
   "source": [
    "for omic in [mutations, metilation, rna_median, cna_log2]:\n",
    "    columns_to_drop = []\n",
    "    for column_name in mutations.columns:\n",
    "        if not (relevant_genes['Gene'] == column_name).any():\n",
    "            columns_to_drop.append(column_name)\n",
    "    print(\"dropped {} columns\".format(len(columns_to_drop)))\n",
    "    omic.drop(columns=columns_to_drop, inplace=True)\n",
    "    "
   ]
  },
  {
   "cell_type": "code",
   "execution_count": 61,
   "id": "da313f71-e1a5-4c72-8ed3-df01aa378bdb",
   "metadata": {},
   "outputs": [
    {
     "data": {
      "text/plain": [
       "(332, 377)"
      ]
     },
     "execution_count": 61,
     "metadata": {},
     "output_type": "execute_result"
    }
   ],
   "source": [
    "## svs has a particular configuration\n",
    "columns_to_drop = []\n",
    "for column_name in svs.columns:\n",
    "    gene1, gene2 = column_name.split('_')\n",
    "    # Check if either gene is in genes_df\n",
    "    if not ((relevant_genes['Gene'] == gene1).any() \n",
    "            or (relevant_genes['Gene'] == gene2).any()):\n",
    "        columns_to_drop.append(column_name)\n",
    "\n",
    "# Dropping\n",
    "svs.drop(columns=columns_to_drop, inplace=True)\n",
    "svs.shape"
   ]
  },
  {
   "cell_type": "code",
   "execution_count": 62,
   "id": "15d4bdc3-365b-41a8-8d12-e8dc0a359571",
   "metadata": {},
   "outputs": [],
   "source": [
    "# check for index naming\n",
    "for i in range(0,len(svs.index)):\n",
    "    if svs.index[i] != mutations.index[i]:\n",
    "        print(\"Concatenation not Correct\")\n",
    "alterations = pd.concat([svs, mutations], axis=1)"
   ]
  },
  {
   "cell_type": "code",
   "execution_count": 63,
   "id": "3fb4cb24-9646-4a79-9832-2447ab5606c8",
   "metadata": {},
   "outputs": [],
   "source": [
    "# set unique column name\n",
    "for omic, name in zip([rna_median, metilation, mirna, cna_log2, rppa_levels, alterations, microbiome],\n",
    "                      ['rna_median', 'metilation', 'mirna', 'cna_log2', 'rppa_levels', 'alterations', 'microbiome']):\n",
    "    omic.columns = [f\"{name}_{c}\" for c in omic.columns]"
   ]
  },
  {
   "cell_type": "code",
   "execution_count": 64,
   "id": "d8d80aca-ac8f-4bb8-943e-ca175e30924f",
   "metadata": {},
   "outputs": [],
   "source": [
    "clinical_total = pd.read_csv(\"DaniDatasets/BLCA_csv/clinical_data.csv\", index_col=1)"
   ]
  },
  {
   "cell_type": "code",
   "execution_count": 65,
   "id": "12c68a36-6fd7-41c0-8238-d8973db4d0e3",
   "metadata": {},
   "outputs": [],
   "source": [
    "clinical = clinical_total[['AGE', 'GENDER', 'OS_STATUS', 'OS_MONTHS']]"
   ]
  },
  {
   "cell_type": "code",
   "execution_count": 66,
   "id": "6b8e4285-a4ae-47e3-9b16-cc9073a1d56c",
   "metadata": {},
   "outputs": [
    {
     "name": "stderr",
     "output_type": "stream",
     "text": [
      "/tmp/ipykernel_3059/2970686832.py:20: SettingWithCopyWarning: \n",
      "A value is trying to be set on a copy of a slice from a DataFrame.\n",
      "Try using .loc[row_indexer,col_indexer] = value instead\n",
      "\n",
      "See the caveats in the documentation: https://pandas.pydata.org/pandas-docs/stable/user_guide/indexing.html#returning-a-view-versus-a-copy\n",
      "  clinical['OS_STATUS'] = clinical['OS_STATUS'].apply(convert_status)\n",
      "/tmp/ipykernel_3059/2970686832.py:21: SettingWithCopyWarning: \n",
      "A value is trying to be set on a copy of a slice from a DataFrame.\n",
      "Try using .loc[row_indexer,col_indexer] = value instead\n",
      "\n",
      "See the caveats in the documentation: https://pandas.pydata.org/pandas-docs/stable/user_guide/indexing.html#returning-a-view-versus-a-copy\n",
      "  clinical['OS_STATUS'] = pd.to_numeric(clinical['OS_STATUS'])\n",
      "/tmp/ipykernel_3059/2970686832.py:24: SettingWithCopyWarning: \n",
      "A value is trying to be set on a copy of a slice from a DataFrame.\n",
      "Try using .loc[row_indexer,col_indexer] = value instead\n",
      "\n",
      "See the caveats in the documentation: https://pandas.pydata.org/pandas-docs/stable/user_guide/indexing.html#returning-a-view-versus-a-copy\n",
      "  clinical['GENDER'] = clinical['GENDER'].apply(convert_gender)\n",
      "/tmp/ipykernel_3059/2970686832.py:25: SettingWithCopyWarning: \n",
      "A value is trying to be set on a copy of a slice from a DataFrame.\n",
      "Try using .loc[row_indexer,col_indexer] = value instead\n",
      "\n",
      "See the caveats in the documentation: https://pandas.pydata.org/pandas-docs/stable/user_guide/indexing.html#returning-a-view-versus-a-copy\n",
      "  clinical['GENDER'] = pd.to_numeric(clinical['GENDER'])\n"
     ]
    }
   ],
   "source": [
    "def convert_status(status):\n",
    "    if status == '1:DECEASED':\n",
    "        return 1\n",
    "    elif status == '0:LIVING':\n",
    "        return 0\n",
    "    else:\n",
    "        print(\"ERROR: y cannot be empty\")\n",
    "        return np.NaN\n",
    "\n",
    "def convert_gender(gender):\n",
    "    if gender == 'Female':\n",
    "        return 1\n",
    "    elif gender == 'Male':\n",
    "        return 0\n",
    "    else:\n",
    "        print(\"ERROR: y cannot be empty in gender\")\n",
    "        return np.NaN\n",
    "\n",
    "\n",
    "clinical['OS_STATUS'] = clinical['OS_STATUS'].apply(convert_status)\n",
    "clinical['OS_STATUS'] = pd.to_numeric(clinical['OS_STATUS'])\n",
    "\n",
    "\n",
    "clinical['GENDER'] = clinical['GENDER'].apply(convert_gender)\n",
    "clinical['GENDER'] = pd.to_numeric(clinical['GENDER'])"
   ]
  },
  {
   "cell_type": "code",
   "execution_count": 67,
   "id": "2422fd62-2590-44b9-bdf0-c074add0109a",
   "metadata": {},
   "outputs": [
    {
     "name": "stdout",
     "output_type": "stream",
     "text": [
      "dropped 13 rows\n"
     ]
    }
   ],
   "source": [
    "# remove patients wit more than 80 yo and less than 6 months OS\n",
    "dropped = 0\n",
    "dropped += len(clinical[((clinical['AGE'] >= 80) & \n",
    "                         (clinical['OS_MONTHS'] <= 6))])\n",
    "\n",
    "dropped += len(clinical[clinical['OS_MONTHS']\n",
    "               .isna() == True])\n",
    "\n",
    "filtered_clinical = clinical[~(\n",
    "    (clinical['AGE'] >= 80) & \n",
    "    (clinical['OS_MONTHS'] <= 6))]\n",
    "\n",
    "filtered_clinical = filtered_clinical[filtered_clinical['OS_MONTHS'].isna() == False]\n",
    "\n",
    "print(\"dropped {} rows\".format(dropped))"
   ]
  },
  {
   "cell_type": "code",
   "execution_count": 68,
   "id": "1c463320-5b56-4919-95d2-8257f2b051b5",
   "metadata": {},
   "outputs": [
    {
     "name": "stdout",
     "output_type": "stream",
     "text": [
      "(332, 1406) (319, 4)\n"
     ]
    }
   ],
   "source": [
    "print(microbiome.shape, filtered_clinical.shape)"
   ]
  },
  {
   "cell_type": "code",
   "execution_count": 69,
   "id": "fe641735-a42a-4c2c-ba2b-69487719fd44",
   "metadata": {},
   "outputs": [],
   "source": [
    "## create dictionary of DF\n",
    "dataframes = [filtered_clinical, rna_median, metilation, mirna, cna_log2, rppa_levels, alterations, microbiome]\n",
    "d = {}\n",
    "for k, v in zip(dataframes,\n",
    "        [\"filtered_clinical\", \"rna_median\", \"metilation\", \"mirna\", \"cna_log2\", \"rppa_levels\", \"alterations\", \"microbiome\"]):\n",
    "    d[v] = k"
   ]
  },
  {
   "cell_type": "code",
   "execution_count": 93,
   "id": "8fcff068-9bb9-429a-8862-6325901fb8ce",
   "metadata": {
    "scrolled": true
   },
   "outputs": [
    {
     "name": "stdout",
     "output_type": "stream",
     "text": [
      "Dropped 0 columns in omic: filtered_clinical\n",
      "Dropped 6 columns in omic: rna_median\n",
      "Dropped 770 columns in omic: metilation\n",
      "Dropped 37 columns in omic: mirna\n",
      "Dropped 0 columns in omic: cna_log2\n",
      "Dropped 66 columns in omic: rppa_levels\n",
      "Dropped 854 columns in omic: alterations\n",
      "Dropped 63 columns in omic: microbiome\n",
      "Total dropped columns due to low variance: 1796\n"
     ]
    }
   ],
   "source": [
    "from sklearn.feature_selection import VarianceThreshold\n",
    "\n",
    "selector = VarianceThreshold(threshold = 0.01 ) # 0.0001 at first step\n",
    "## apparently now complains about 0.0099 variance too -> consider going to 0.01\n",
    "\n",
    "dropped_columns = 0\n",
    "\n",
    "for k in d.keys():\n",
    "    before = d[k].shape[1]\n",
    "    transformed_data = selector.fit_transform(d[k])\n",
    "    selected_features_mask = selector.get_support() # support mask\n",
    "    \n",
    "    d[k] = pd.DataFrame(transformed_data, \n",
    "                        index = d[k].index, \n",
    "                        columns = d[k].columns[selected_features_mask])\n",
    "    \n",
    "    after = d[k].shape[1]\n",
    "    dropped = before - after\n",
    "    print(f\"Dropped {dropped} columns in omic: {k}\")  \n",
    "    dropped_columns += dropped\n",
    "    \n",
    "print(f\"Total dropped columns due to low variance: {dropped_columns}\")"
   ]
  },
  {
   "cell_type": "code",
   "execution_count": 95,
   "id": "987c3960-e12b-4d21-9711-8d506ed4ed03",
   "metadata": {
    "scrolled": true
   },
   "outputs": [],
   "source": [
    "# dropped_columns = 0\n",
    "\n",
    "# for k in d.keys():\n",
    "#     before = d[k].shape[1]\n",
    "#     to_keep = [col for col in d[k].columns if len(d[k][col].unique()) > 1]\n",
    "#     d[k] = d[k][to_keep]\n",
    "#     after = d[k].shape[1]\n",
    "    \n",
    "#     dropped = before - after\n",
    "#     print(f\"Dropped {dropped} columns in omic: {k}\")  \n",
    "#     dropped_columns += dropped\n",
    "    \n",
    "# print(f\"Total dropped columns due to low variance: {dropped_columns}\")\n"
   ]
  },
  {
   "cell_type": "code",
   "execution_count": 96,
   "id": "e3e111e4-9088-4fea-8355-16382600665f",
   "metadata": {},
   "outputs": [
    {
     "data": {
      "text/plain": [
       "pandas.core.frame.DataFrame"
      ]
     },
     "execution_count": 96,
     "metadata": {},
     "output_type": "execute_result"
    }
   ],
   "source": [
    "type(d[k])"
   ]
  },
  {
   "cell_type": "code",
   "execution_count": 97,
   "id": "42fa60fb-8943-4da0-ad77-a5c23e532c20",
   "metadata": {},
   "outputs": [],
   "source": [
    "def merge_all(omics):\n",
    "    df = omics[0]\n",
    "    starting_indices = [0,omics[0].shape[1]]\n",
    "    for omic in omics[1:]:\n",
    "        #print(omic)\n",
    "        starting_indices.append(starting_indices[-1] + omic.shape[1])\n",
    "        df = df.merge(omic, left_index=True, right_index=True)\n",
    "    return (df, starting_indices)"
   ]
  },
  {
   "cell_type": "code",
   "execution_count": 98,
   "id": "331aaaf7-23b8-4ef7-9e98-431c47eb7148",
   "metadata": {},
   "outputs": [],
   "source": [
    "final_df, indices = merge_all(\n",
    "    [d['filtered_clinical'], \n",
    "     d['rna_median'], \n",
    "     d['metilation'], \n",
    "     d['mirna' ],\n",
    "     d['cna_log2'], \n",
    "     d['rppa_levels'], \n",
    "     d['alterations'],\n",
    "     d['microbiome']])"
   ]
  },
  {
   "cell_type": "code",
   "execution_count": 99,
   "id": "60ad2120-71e3-4698-bcf2-850341ee79cc",
   "metadata": {},
   "outputs": [],
   "source": [
    "# write indices to CSV\n",
    "pd.DataFrame(indices, columns=['index']).to_csv(\"DaniDatasets/indices_for_preprocessed.csv\", index=False)"
   ]
  },
  {
   "cell_type": "code",
   "execution_count": 100,
   "id": "d424f8fc-21c7-47e4-8062-4456b75d40c7",
   "metadata": {},
   "outputs": [],
   "source": [
    "final_df = final_df.rename(columns={'OS_STATUS':'event', 'OS_MONTHS': 'time'})"
   ]
  },
  {
   "cell_type": "code",
   "execution_count": 101,
   "id": "7055fc65-dc44-4e1c-941f-fa9a06cfbc73",
   "metadata": {},
   "outputs": [],
   "source": [
    "# write df to CSV\n",
    "final_df.to_csv(\"DaniDatasets/preprocessed.csv\")"
   ]
  },
  {
   "cell_type": "code",
   "execution_count": 104,
   "id": "04904eca-1729-4db2-bfdd-8a5dd29273e9",
   "metadata": {},
   "outputs": [
    {
     "data": {
      "text/plain": [
       "(319, 8378)"
      ]
     },
     "execution_count": 104,
     "metadata": {},
     "output_type": "execute_result"
    }
   ],
   "source": [
    "final_df.shape"
   ]
  },
  {
   "cell_type": "code",
   "execution_count": 103,
   "id": "579d090c-6309-4c8d-b8c4-cd98c9fba2ae",
   "metadata": {},
   "outputs": [
    {
     "data": {
      "text/plain": [
       "[0, 4, 2001, 2489, 3190, 5466, 5589, 7038, 8378]"
      ]
     },
     "execution_count": 103,
     "metadata": {},
     "output_type": "execute_result"
    }
   ],
   "source": [
    "indices"
   ]
  },
  {
   "cell_type": "code",
   "execution_count": 105,
   "id": "2e40a885-ec00-454e-b7ee-a0af5ff7d80e",
   "metadata": {},
   "outputs": [],
   "source": [
    "low_var_columns = ['metilation_AXIN2', 'metilation_EPHB2', 'metilation_SERTAD1', 'alterations_ALK_TPM1', 'alterations_BCKDHB_TTK', 'alterations_BRIP1_RHBDF2', 'alterations_BRIP1_ST6GALNAC2', 'alterations_CIDECP_FANCD2', 'alterations_CNOT11_NPAS2', 'alterations_ENTPD5_NUBPL', 'alterations_GUCY1A3_HPGD', 'alterations_RUNX1_WDR4', 'alterations_SREBF1_TOM1L2', 'alterations_TOP3A_ZCCHC8', 'alterations_APITD1', 'alterations_MIR148A', 'alterations_MPST', 'alterations_RBM38', 'alterations_SIRT6']"
   ]
  },
  {
   "cell_type": "code",
   "execution_count": 107,
   "id": "8faa14f1-f84a-46e3-8c0a-1bf1eaebc54e",
   "metadata": {},
   "outputs": [],
   "source": [
    "# final_df[low_var_columns].std().max()"
   ]
  }
 ],
 "metadata": {
  "kernelspec": {
   "display_name": "Python 3 (ipykernel)",
   "language": "python",
   "name": "python3"
  },
  "language_info": {
   "codemirror_mode": {
    "name": "ipython",
    "version": 3
   },
   "file_extension": ".py",
   "mimetype": "text/x-python",
   "name": "python",
   "nbconvert_exporter": "python",
   "pygments_lexer": "ipython3",
   "version": "3.12.0"
  }
 },
 "nbformat": 4,
 "nbformat_minor": 5
}
