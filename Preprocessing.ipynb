{
 "cells": [
  {
   "cell_type": "code",
   "execution_count": 34,
   "id": "6718d4d5-d094-4109-859d-951543b980e5",
   "metadata": {},
   "outputs": [],
   "source": [
    "import pandas  as pd\n",
    "import numpy as np"
   ]
  },
  {
   "cell_type": "code",
   "execution_count": 139,
   "id": "28c3146e-8d99-4551-95a4-db56cc515a7b",
   "metadata": {},
   "outputs": [],
   "source": [
    "microbiome = pd.read_csv(\"DaniDatasets/BLCA_csv/microbiome_log_rna.csv\",index_col=0)"
   ]
  },
  {
   "cell_type": "code",
   "execution_count": 36,
   "id": "8786f049-41c8-4cb1-8b5a-2bfbe0ab7222",
   "metadata": {},
   "outputs": [],
   "source": [
    "relevant_genes = pd.read_csv(\"DaniDatasets/relevant_genes.csv\")"
   ]
  },
  {
   "cell_type": "code",
   "execution_count": 37,
   "id": "da90a42f-1e42-459e-95ca-840449cdb46c",
   "metadata": {},
   "outputs": [
    {
     "data": {
      "text/html": [
       "<div>\n",
       "<style scoped>\n",
       "    .dataframe tbody tr th:only-of-type {\n",
       "        vertical-align: middle;\n",
       "    }\n",
       "\n",
       "    .dataframe tbody tr th {\n",
       "        vertical-align: top;\n",
       "    }\n",
       "\n",
       "    .dataframe thead th {\n",
       "        text-align: right;\n",
       "    }\n",
       "</style>\n",
       "<table border=\"1\" class=\"dataframe\">\n",
       "  <thead>\n",
       "    <tr style=\"text-align: right;\">\n",
       "      <th></th>\n",
       "      <th>Gene</th>\n",
       "    </tr>\n",
       "  </thead>\n",
       "  <tbody>\n",
       "    <tr>\n",
       "      <th>0</th>\n",
       "      <td>A1CF</td>\n",
       "    </tr>\n",
       "    <tr>\n",
       "      <th>1</th>\n",
       "      <td>ABCG2</td>\n",
       "    </tr>\n",
       "    <tr>\n",
       "      <th>2</th>\n",
       "      <td>ABI1</td>\n",
       "    </tr>\n",
       "    <tr>\n",
       "      <th>3</th>\n",
       "      <td>ABI2</td>\n",
       "    </tr>\n",
       "    <tr>\n",
       "      <th>4</th>\n",
       "      <td>ABL1</td>\n",
       "    </tr>\n",
       "    <tr>\n",
       "      <th>...</th>\n",
       "      <td>...</td>\n",
       "    </tr>\n",
       "    <tr>\n",
       "      <th>2339</th>\n",
       "      <td>ZNF750</td>\n",
       "    </tr>\n",
       "    <tr>\n",
       "      <th>2340</th>\n",
       "      <td>ZNHIT6</td>\n",
       "    </tr>\n",
       "    <tr>\n",
       "      <th>2341</th>\n",
       "      <td>ZNRF3</td>\n",
       "    </tr>\n",
       "    <tr>\n",
       "      <th>2342</th>\n",
       "      <td>ZRSR2</td>\n",
       "    </tr>\n",
       "    <tr>\n",
       "      <th>2343</th>\n",
       "      <td>ZYX</td>\n",
       "    </tr>\n",
       "  </tbody>\n",
       "</table>\n",
       "<p>2344 rows × 1 columns</p>\n",
       "</div>"
      ],
      "text/plain": [
       "        Gene\n",
       "0       A1CF\n",
       "1      ABCG2\n",
       "2       ABI1\n",
       "3       ABI2\n",
       "4       ABL1\n",
       "...      ...\n",
       "2339  ZNF750\n",
       "2340  ZNHIT6\n",
       "2341   ZNRF3\n",
       "2342   ZRSR2\n",
       "2343     ZYX\n",
       "\n",
       "[2344 rows x 1 columns]"
      ]
     },
     "execution_count": 37,
     "metadata": {},
     "output_type": "execute_result"
    }
   ],
   "source": [
    "relevant_genes"
   ]
  },
  {
   "cell_type": "code",
   "execution_count": 38,
   "id": "6fcbaf3f-8149-4f04-9f4d-80bd2994a579",
   "metadata": {},
   "outputs": [],
   "source": [
    "svs = pd.read_csv(\"DaniDatasets/BLCA_csv/svs.csv\", index_col=0)"
   ]
  },
  {
   "cell_type": "code",
   "execution_count": 39,
   "id": "866fdb83-94ea-48da-9c52-e45665817e8a",
   "metadata": {},
   "outputs": [
    {
     "data": {
      "text/plain": [
       "(332, 377)"
      ]
     },
     "execution_count": 39,
     "metadata": {},
     "output_type": "execute_result"
    }
   ],
   "source": [
    "svs.shape"
   ]
  },
  {
   "cell_type": "code",
   "execution_count": 40,
   "id": "da313f71-e1a5-4c72-8ed3-df01aa378bdb",
   "metadata": {},
   "outputs": [
    {
     "data": {
      "text/plain": [
       "(332, 377)"
      ]
     },
     "execution_count": 40,
     "metadata": {},
     "output_type": "execute_result"
    }
   ],
   "source": [
    "columns_to_drop = []\n",
    "for column_name in svs.columns:\n",
    "    gene1, gene2 = column_name.split('_')\n",
    "    # Check if either gene is in genes_df\n",
    "    if not ((relevant_genes['Gene'] == gene1).any() \n",
    "            or (relevant_genes['Gene'] == gene2).any()):\n",
    "        columns_to_drop.append(column_name)\n",
    "\n",
    "# Dropping\n",
    "svs.drop(columns=columns_to_drop, inplace=True)\n",
    "svs.shape"
   ]
  },
  {
   "cell_type": "code",
   "execution_count": 41,
   "id": "8a5c3fa4-faf9-4515-a702-11aaedac37d2",
   "metadata": {},
   "outputs": [],
   "source": [
    "mutations = pd.read_csv(\"DaniDatasets/BLCA_csv/mutations.csv\",index_col=0)"
   ]
  },
  {
   "cell_type": "code",
   "execution_count": 42,
   "id": "e3c2578e-dfce-4355-9418-36a1bee7fe84",
   "metadata": {},
   "outputs": [
    {
     "data": {
      "text/plain": [
       "(332, 2030)"
      ]
     },
     "execution_count": 42,
     "metadata": {},
     "output_type": "execute_result"
    }
   ],
   "source": [
    "mutations.shape"
   ]
  },
  {
   "cell_type": "code",
   "execution_count": 43,
   "id": "f49094a2-17fe-45d0-86aa-ffec80c6d7e5",
   "metadata": {},
   "outputs": [],
   "source": [
    "columns_to_drop = []\n",
    "for column_name in mutations.columns:\n",
    "    if not (relevant_genes['Gene'] == column_name).any():\n",
    "        columns_to_drop.append(column_name)\n",
    "\n",
    "## drop but is emptu"
   ]
  },
  {
   "cell_type": "code",
   "execution_count": 44,
   "id": "c53c5cd6-1619-4f5c-9ed8-75bd8c3ed464",
   "metadata": {},
   "outputs": [],
   "source": [
    "alterations = pd.concat([svs, mutations], axis=1)"
   ]
  },
  {
   "cell_type": "code",
   "execution_count": 45,
   "id": "d1fadd37-b0f4-4d74-9cc0-0aabd1fffcca",
   "metadata": {},
   "outputs": [
    {
     "data": {
      "text/plain": [
       "(332, 2407)"
      ]
     },
     "execution_count": 45,
     "metadata": {},
     "output_type": "execute_result"
    }
   ],
   "source": [
    "alterations.shape"
   ]
  },
  {
   "cell_type": "code",
   "execution_count": 46,
   "id": "15d4bdc3-365b-41a8-8d12-e8dc0a359571",
   "metadata": {},
   "outputs": [
    {
     "name": "stdout",
     "output_type": "stream",
     "text": [
      "done\n"
     ]
    }
   ],
   "source": [
    "# check for index naming\n",
    "for i in range(0,len(svs.index)):\n",
    "    if svs.index[i] != mutations.index[i]:\n",
    "        print(\"upsi\")\n",
    "print(\"done\")"
   ]
  },
  {
   "cell_type": "code",
   "execution_count": null,
   "id": "cf95c690-d516-4034-807a-779693288b31",
   "metadata": {},
   "outputs": [],
   "source": [
    "rppa = pd.read_csv(\"DaniDatasets/BLCA_csv/rppa_levels.csv\", index_col=0)"
   ]
  },
  {
   "cell_type": "code",
   "execution_count": 47,
   "id": "15aef0ee-1e1e-4556-aee9-7a6a4c31c38f",
   "metadata": {},
   "outputs": [],
   "source": [
    "metilation = pd.read_csv(\"DaniDatasets/BLCA_csv/methylations.csv\", index_col=0)"
   ]
  },
  {
   "cell_type": "code",
   "execution_count": 48,
   "id": "0b92971e-295e-4834-bd93-0e3e1eabcfa0",
   "metadata": {},
   "outputs": [
    {
     "data": {
      "text/html": [
       "<div>\n",
       "<style scoped>\n",
       "    .dataframe tbody tr th:only-of-type {\n",
       "        vertical-align: middle;\n",
       "    }\n",
       "\n",
       "    .dataframe tbody tr th {\n",
       "        vertical-align: top;\n",
       "    }\n",
       "\n",
       "    .dataframe thead th {\n",
       "        text-align: right;\n",
       "    }\n",
       "</style>\n",
       "<table border=\"1\" class=\"dataframe\">\n",
       "  <thead>\n",
       "    <tr style=\"text-align: right;\">\n",
       "      <th></th>\n",
       "      <th>A1CF</th>\n",
       "      <th>ABCG2</th>\n",
       "      <th>ABI1</th>\n",
       "      <th>ABI2</th>\n",
       "      <th>ABL1</th>\n",
       "      <th>ABL2</th>\n",
       "      <th>ACHE</th>\n",
       "      <th>ACSL3</th>\n",
       "      <th>ACSL6</th>\n",
       "      <th>ACTN4</th>\n",
       "      <th>...</th>\n",
       "      <th>ZMYND10</th>\n",
       "      <th>ZMYND11</th>\n",
       "      <th>ZNF133</th>\n",
       "      <th>ZNF185</th>\n",
       "      <th>ZNF331</th>\n",
       "      <th>ZNF384</th>\n",
       "      <th>ZNF703</th>\n",
       "      <th>ZNHIT6</th>\n",
       "      <th>ZRSR2</th>\n",
       "      <th>ZYX</th>\n",
       "    </tr>\n",
       "  </thead>\n",
       "  <tbody>\n",
       "    <tr>\n",
       "      <th>TCGA-2F-A9KO</th>\n",
       "      <td>0.726448</td>\n",
       "      <td>0.127860</td>\n",
       "      <td>0.032748</td>\n",
       "      <td>0.039251</td>\n",
       "      <td>0.066177</td>\n",
       "      <td>0.147715</td>\n",
       "      <td>0.080597</td>\n",
       "      <td>0.031830</td>\n",
       "      <td>0.374255</td>\n",
       "      <td>0.037395</td>\n",
       "      <td>...</td>\n",
       "      <td>0.076084</td>\n",
       "      <td>0.037052</td>\n",
       "      <td>0.084956</td>\n",
       "      <td>0.666493</td>\n",
       "      <td>0.039928</td>\n",
       "      <td>0.012810</td>\n",
       "      <td>0.065221</td>\n",
       "      <td>0.358165</td>\n",
       "      <td>0.055758</td>\n",
       "      <td>0.056239</td>\n",
       "    </tr>\n",
       "    <tr>\n",
       "      <th>TCGA-2F-A9KQ</th>\n",
       "      <td>0.133424</td>\n",
       "      <td>0.045561</td>\n",
       "      <td>0.037451</td>\n",
       "      <td>0.033727</td>\n",
       "      <td>0.052443</td>\n",
       "      <td>0.073702</td>\n",
       "      <td>0.047542</td>\n",
       "      <td>0.027905</td>\n",
       "      <td>0.397117</td>\n",
       "      <td>0.036226</td>\n",
       "      <td>...</td>\n",
       "      <td>0.034093</td>\n",
       "      <td>0.042300</td>\n",
       "      <td>0.089750</td>\n",
       "      <td>0.635203</td>\n",
       "      <td>0.032774</td>\n",
       "      <td>0.013571</td>\n",
       "      <td>0.049114</td>\n",
       "      <td>0.069850</td>\n",
       "      <td>0.050500</td>\n",
       "      <td>0.079233</td>\n",
       "    </tr>\n",
       "    <tr>\n",
       "      <th>TCGA-2F-A9KR</th>\n",
       "      <td>0.349723</td>\n",
       "      <td>0.046350</td>\n",
       "      <td>0.045814</td>\n",
       "      <td>0.035994</td>\n",
       "      <td>0.043525</td>\n",
       "      <td>0.078798</td>\n",
       "      <td>0.029806</td>\n",
       "      <td>0.036979</td>\n",
       "      <td>0.352200</td>\n",
       "      <td>0.039548</td>\n",
       "      <td>...</td>\n",
       "      <td>0.028255</td>\n",
       "      <td>0.036260</td>\n",
       "      <td>0.056214</td>\n",
       "      <td>0.235256</td>\n",
       "      <td>0.041166</td>\n",
       "      <td>0.013204</td>\n",
       "      <td>0.040686</td>\n",
       "      <td>0.123200</td>\n",
       "      <td>0.057240</td>\n",
       "      <td>0.059637</td>\n",
       "    </tr>\n",
       "  </tbody>\n",
       "</table>\n",
       "<p>3 rows × 1541 columns</p>\n",
       "</div>"
      ],
      "text/plain": [
       "                  A1CF     ABCG2      ABI1      ABI2      ABL1      ABL2  \\\n",
       "TCGA-2F-A9KO  0.726448  0.127860  0.032748  0.039251  0.066177  0.147715   \n",
       "TCGA-2F-A9KQ  0.133424  0.045561  0.037451  0.033727  0.052443  0.073702   \n",
       "TCGA-2F-A9KR  0.349723  0.046350  0.045814  0.035994  0.043525  0.078798   \n",
       "\n",
       "                  ACHE     ACSL3     ACSL6     ACTN4  ...   ZMYND10   ZMYND11  \\\n",
       "TCGA-2F-A9KO  0.080597  0.031830  0.374255  0.037395  ...  0.076084  0.037052   \n",
       "TCGA-2F-A9KQ  0.047542  0.027905  0.397117  0.036226  ...  0.034093  0.042300   \n",
       "TCGA-2F-A9KR  0.029806  0.036979  0.352200  0.039548  ...  0.028255  0.036260   \n",
       "\n",
       "                ZNF133    ZNF185    ZNF331    ZNF384    ZNF703    ZNHIT6  \\\n",
       "TCGA-2F-A9KO  0.084956  0.666493  0.039928  0.012810  0.065221  0.358165   \n",
       "TCGA-2F-A9KQ  0.089750  0.635203  0.032774  0.013571  0.049114  0.069850   \n",
       "TCGA-2F-A9KR  0.056214  0.235256  0.041166  0.013204  0.040686  0.123200   \n",
       "\n",
       "                 ZRSR2       ZYX  \n",
       "TCGA-2F-A9KO  0.055758  0.056239  \n",
       "TCGA-2F-A9KQ  0.050500  0.079233  \n",
       "TCGA-2F-A9KR  0.057240  0.059637  \n",
       "\n",
       "[3 rows x 1541 columns]"
      ]
     },
     "execution_count": 48,
     "metadata": {},
     "output_type": "execute_result"
    }
   ],
   "source": [
    "metilation[:3]"
   ]
  },
  {
   "cell_type": "code",
   "execution_count": 49,
   "id": "55425b31-df4e-448f-a2bd-0ee6025abc86",
   "metadata": {},
   "outputs": [],
   "source": [
    "columns_to_drop = []\n",
    "for column_name in metilation.columns:\n",
    "    if not (relevant_genes['Gene'] == column_name).any():\n",
    "        columns_to_drop.append(column_name)"
   ]
  },
  {
   "cell_type": "code",
   "execution_count": 50,
   "id": "75cd2528-ec62-41ea-861d-14beaf7c77e8",
   "metadata": {},
   "outputs": [],
   "source": [
    "# drop but it's empty"
   ]
  },
  {
   "cell_type": "code",
   "execution_count": 51,
   "id": "bffe4333-e206-43db-865f-614f02828277",
   "metadata": {},
   "outputs": [],
   "source": [
    "rna_median = pd.read_csv(\"DaniDatasets/BLCA_csv/RNA_expression_median.csv\", index_col=0)"
   ]
  },
  {
   "cell_type": "code",
   "execution_count": 52,
   "id": "4e4b4722-57f5-43f2-a13c-96ede4cd9b74",
   "metadata": {},
   "outputs": [],
   "source": [
    "columns_to_drop = []\n",
    "for column_name in rna_median.columns:\n",
    "    if not (relevant_genes['Gene'] == column_name).any():\n",
    "        columns_to_drop.append(column_name)"
   ]
  },
  {
   "cell_type": "code",
   "execution_count": 53,
   "id": "d5baa479-48a3-4349-bb7f-fdcb3b8824c3",
   "metadata": {},
   "outputs": [],
   "source": [
    "# drop but it's empty"
   ]
  },
  {
   "cell_type": "code",
   "execution_count": 54,
   "id": "dd7f7d6b-6ae7-4f3f-8059-52114d1abacd",
   "metadata": {},
   "outputs": [],
   "source": [
    "cna_log2 = pd.read_csv(\"DaniDatasets/BLCA_csv/cna_log2.csv\", index_col=0)"
   ]
  },
  {
   "cell_type": "code",
   "execution_count": 55,
   "id": "ac58eda3-5912-47cc-84d7-503030d22f9b",
   "metadata": {},
   "outputs": [],
   "source": [
    "columns_to_drop = []\n",
    "for column_name in cna_log2.columns:\n",
    "    if not (relevant_genes['Gene'] == column_name).any():\n",
    "        columns_to_drop.append(column_name)"
   ]
  },
  {
   "cell_type": "code",
   "execution_count": 61,
   "id": "d8d80aca-ac8f-4bb8-943e-ca175e30924f",
   "metadata": {},
   "outputs": [],
   "source": [
    "clinical_total = pd.read_csv(\"DaniDatasets/BLCA_csv/clinical_data.csv\", index_col=1)"
   ]
  },
  {
   "cell_type": "code",
   "execution_count": 92,
   "id": "610fb637-0f34-4c12-9324-1891f573872d",
   "metadata": {},
   "outputs": [
    {
     "data": {
      "text/html": [
       "<div>\n",
       "<style scoped>\n",
       "    .dataframe tbody tr th:only-of-type {\n",
       "        vertical-align: middle;\n",
       "    }\n",
       "\n",
       "    .dataframe tbody tr th {\n",
       "        vertical-align: top;\n",
       "    }\n",
       "\n",
       "    .dataframe thead th {\n",
       "        text-align: right;\n",
       "    }\n",
       "</style>\n",
       "<table border=\"1\" class=\"dataframe\">\n",
       "  <thead>\n",
       "    <tr style=\"text-align: right;\">\n",
       "      <th></th>\n",
       "      <th>Unnamed: 0</th>\n",
       "      <th>AGE</th>\n",
       "      <th>GENDER</th>\n",
       "      <th>OS_STATUS</th>\n",
       "      <th>OS_MONTHS</th>\n",
       "      <th>DSS_STATUS</th>\n",
       "      <th>DSS_MONTHS</th>\n",
       "      <th>DFS_STATUS</th>\n",
       "      <th>DFS_MONTHS</th>\n",
       "      <th>PFS_STATUS</th>\n",
       "      <th>PFS_MONTHS</th>\n",
       "      <th>CANCER_TYPE</th>\n",
       "      <th>CANCER_TYPE_DETAILED</th>\n",
       "      <th>TUMOR_TYPE</th>\n",
       "      <th>SUBTYPE</th>\n",
       "    </tr>\n",
       "    <tr>\n",
       "      <th>PATIENT_ID</th>\n",
       "      <th></th>\n",
       "      <th></th>\n",
       "      <th></th>\n",
       "      <th></th>\n",
       "      <th></th>\n",
       "      <th></th>\n",
       "      <th></th>\n",
       "      <th></th>\n",
       "      <th></th>\n",
       "      <th></th>\n",
       "      <th></th>\n",
       "      <th></th>\n",
       "      <th></th>\n",
       "      <th></th>\n",
       "      <th></th>\n",
       "    </tr>\n",
       "  </thead>\n",
       "  <tbody>\n",
       "    <tr>\n",
       "      <th>TCGA-2F-A9KO</th>\n",
       "      <td>1</td>\n",
       "      <td>63</td>\n",
       "      <td>Male</td>\n",
       "      <td>1:DECEASED</td>\n",
       "      <td>24.131242</td>\n",
       "      <td>1:DEAD WITH TUMOR</td>\n",
       "      <td>24.131242</td>\n",
       "      <td>NaN</td>\n",
       "      <td>NaN</td>\n",
       "      <td>1:PROGRESSION</td>\n",
       "      <td>21.402505</td>\n",
       "      <td>Bladder Cancer</td>\n",
       "      <td>Bladder Urothelial Carcinoma</td>\n",
       "      <td>Muscle Invasive Urothelial Carcinoma (PT2 or A...</td>\n",
       "      <td>BLCA</td>\n",
       "    </tr>\n",
       "    <tr>\n",
       "      <th>TCGA-2F-A9KQ</th>\n",
       "      <td>2</td>\n",
       "      <td>69</td>\n",
       "      <td>Male</td>\n",
       "      <td>0:LIVING</td>\n",
       "      <td>94.881152</td>\n",
       "      <td>0:ALIVE OR DEAD TUMOR FREE</td>\n",
       "      <td>94.881152</td>\n",
       "      <td>0:DiseaseFree</td>\n",
       "      <td>94.881152</td>\n",
       "      <td>0:CENSORED</td>\n",
       "      <td>94.881152</td>\n",
       "      <td>Bladder Cancer</td>\n",
       "      <td>Bladder Urothelial Carcinoma</td>\n",
       "      <td>Muscle Invasive Urothelial Carcinoma (PT2 or A...</td>\n",
       "      <td>BLCA</td>\n",
       "    </tr>\n",
       "    <tr>\n",
       "      <th>TCGA-2F-A9KR</th>\n",
       "      <td>3</td>\n",
       "      <td>59</td>\n",
       "      <td>Female</td>\n",
       "      <td>1:DECEASED</td>\n",
       "      <td>104.645428</td>\n",
       "      <td>1:DEAD WITH TUMOR</td>\n",
       "      <td>104.645428</td>\n",
       "      <td>1:Recurred/Progressed</td>\n",
       "      <td>101.456422</td>\n",
       "      <td>1:PROGRESSION</td>\n",
       "      <td>101.456422</td>\n",
       "      <td>Bladder Cancer</td>\n",
       "      <td>Bladder Urothelial Carcinoma</td>\n",
       "      <td>Muscle Invasive Urothelial Carcinoma (PT2 or A...</td>\n",
       "      <td>BLCA</td>\n",
       "    </tr>\n",
       "    <tr>\n",
       "      <th>TCGA-2F-A9KT</th>\n",
       "      <td>4</td>\n",
       "      <td>83</td>\n",
       "      <td>Male</td>\n",
       "      <td>0:LIVING</td>\n",
       "      <td>108.952231</td>\n",
       "      <td>0:ALIVE OR DEAD TUMOR FREE</td>\n",
       "      <td>108.952231</td>\n",
       "      <td>0:DiseaseFree</td>\n",
       "      <td>108.952231</td>\n",
       "      <td>0:CENSORED</td>\n",
       "      <td>108.952231</td>\n",
       "      <td>Bladder Cancer</td>\n",
       "      <td>Bladder Urothelial Carcinoma</td>\n",
       "      <td>Muscle Invasive Urothelial Carcinoma (PT2 or A...</td>\n",
       "      <td>BLCA</td>\n",
       "    </tr>\n",
       "    <tr>\n",
       "      <th>TCGA-4Z-AA7M</th>\n",
       "      <td>5</td>\n",
       "      <td>65</td>\n",
       "      <td>Male</td>\n",
       "      <td>0:LIVING</td>\n",
       "      <td>16.273794</td>\n",
       "      <td>0:ALIVE OR DEAD TUMOR FREE</td>\n",
       "      <td>16.273794</td>\n",
       "      <td>0:DiseaseFree</td>\n",
       "      <td>16.273794</td>\n",
       "      <td>0:CENSORED</td>\n",
       "      <td>16.273794</td>\n",
       "      <td>Bladder Cancer</td>\n",
       "      <td>Bladder Urothelial Carcinoma</td>\n",
       "      <td>Muscle Invasive Urothelial Carcinoma (PT2 or A...</td>\n",
       "      <td>BLCA</td>\n",
       "    </tr>\n",
       "    <tr>\n",
       "      <th>...</th>\n",
       "      <td>...</td>\n",
       "      <td>...</td>\n",
       "      <td>...</td>\n",
       "      <td>...</td>\n",
       "      <td>...</td>\n",
       "      <td>...</td>\n",
       "      <td>...</td>\n",
       "      <td>...</td>\n",
       "      <td>...</td>\n",
       "      <td>...</td>\n",
       "      <td>...</td>\n",
       "      <td>...</td>\n",
       "      <td>...</td>\n",
       "      <td>...</td>\n",
       "      <td>...</td>\n",
       "    </tr>\n",
       "    <tr>\n",
       "      <th>TCGA-ZF-AA53</th>\n",
       "      <td>328</td>\n",
       "      <td>60</td>\n",
       "      <td>Male</td>\n",
       "      <td>0:LIVING</td>\n",
       "      <td>57.895256</td>\n",
       "      <td>0:ALIVE OR DEAD TUMOR FREE</td>\n",
       "      <td>57.895256</td>\n",
       "      <td>0:DiseaseFree</td>\n",
       "      <td>57.895256</td>\n",
       "      <td>0:CENSORED</td>\n",
       "      <td>57.895256</td>\n",
       "      <td>Bladder Cancer</td>\n",
       "      <td>Bladder Urothelial Carcinoma</td>\n",
       "      <td>Muscle Invasive Urothelial Carcinoma (PT2 or A...</td>\n",
       "      <td>BLCA</td>\n",
       "    </tr>\n",
       "    <tr>\n",
       "      <th>TCGA-ZF-AA54</th>\n",
       "      <td>329</td>\n",
       "      <td>71</td>\n",
       "      <td>Male</td>\n",
       "      <td>1:DECEASED</td>\n",
       "      <td>19.397048</td>\n",
       "      <td>NaN</td>\n",
       "      <td>19.397048</td>\n",
       "      <td>NaN</td>\n",
       "      <td>NaN</td>\n",
       "      <td>0:CENSORED</td>\n",
       "      <td>19.397048</td>\n",
       "      <td>Bladder Cancer</td>\n",
       "      <td>Bladder Urothelial Carcinoma</td>\n",
       "      <td>Muscle Invasive Urothelial Carcinoma (PT2 or A...</td>\n",
       "      <td>BLCA</td>\n",
       "    </tr>\n",
       "    <tr>\n",
       "      <th>TCGA-ZF-AA56</th>\n",
       "      <td>330</td>\n",
       "      <td>79</td>\n",
       "      <td>Female</td>\n",
       "      <td>1:DECEASED</td>\n",
       "      <td>8.514975</td>\n",
       "      <td>1:DEAD WITH TUMOR</td>\n",
       "      <td>8.514975</td>\n",
       "      <td>NaN</td>\n",
       "      <td>NaN</td>\n",
       "      <td>1:PROGRESSION</td>\n",
       "      <td>8.153335</td>\n",
       "      <td>Bladder Cancer</td>\n",
       "      <td>Bladder Urothelial Carcinoma</td>\n",
       "      <td>Muscle Invasive Urothelial Carcinoma (PT2 or A...</td>\n",
       "      <td>BLCA</td>\n",
       "    </tr>\n",
       "    <tr>\n",
       "      <th>TCGA-ZF-AA58</th>\n",
       "      <td>331</td>\n",
       "      <td>61</td>\n",
       "      <td>Female</td>\n",
       "      <td>0:LIVING</td>\n",
       "      <td>54.213105</td>\n",
       "      <td>0:ALIVE OR DEAD TUMOR FREE</td>\n",
       "      <td>54.213105</td>\n",
       "      <td>NaN</td>\n",
       "      <td>NaN</td>\n",
       "      <td>0:CENSORED</td>\n",
       "      <td>54.213105</td>\n",
       "      <td>Bladder Cancer</td>\n",
       "      <td>Bladder Urothelial Carcinoma</td>\n",
       "      <td>Muscle Invasive Urothelial Carcinoma (PT2 or A...</td>\n",
       "      <td>BLCA</td>\n",
       "    </tr>\n",
       "    <tr>\n",
       "      <th>TCGA-ZF-AA5P</th>\n",
       "      <td>332</td>\n",
       "      <td>65</td>\n",
       "      <td>Male</td>\n",
       "      <td>0:LIVING</td>\n",
       "      <td>12.230003</td>\n",
       "      <td>0:ALIVE OR DEAD TUMOR FREE</td>\n",
       "      <td>12.230003</td>\n",
       "      <td>NaN</td>\n",
       "      <td>NaN</td>\n",
       "      <td>0:CENSORED</td>\n",
       "      <td>12.230003</td>\n",
       "      <td>Bladder Cancer</td>\n",
       "      <td>Bladder Urothelial Carcinoma</td>\n",
       "      <td>Muscle Invasive Urothelial Carcinoma (PT2 or A...</td>\n",
       "      <td>BLCA</td>\n",
       "    </tr>\n",
       "  </tbody>\n",
       "</table>\n",
       "<p>332 rows × 15 columns</p>\n",
       "</div>"
      ],
      "text/plain": [
       "              Unnamed: 0  AGE  GENDER   OS_STATUS   OS_MONTHS  \\\n",
       "PATIENT_ID                                                      \n",
       "TCGA-2F-A9KO           1   63    Male  1:DECEASED   24.131242   \n",
       "TCGA-2F-A9KQ           2   69    Male    0:LIVING   94.881152   \n",
       "TCGA-2F-A9KR           3   59  Female  1:DECEASED  104.645428   \n",
       "TCGA-2F-A9KT           4   83    Male    0:LIVING  108.952231   \n",
       "TCGA-4Z-AA7M           5   65    Male    0:LIVING   16.273794   \n",
       "...                  ...  ...     ...         ...         ...   \n",
       "TCGA-ZF-AA53         328   60    Male    0:LIVING   57.895256   \n",
       "TCGA-ZF-AA54         329   71    Male  1:DECEASED   19.397048   \n",
       "TCGA-ZF-AA56         330   79  Female  1:DECEASED    8.514975   \n",
       "TCGA-ZF-AA58         331   61  Female    0:LIVING   54.213105   \n",
       "TCGA-ZF-AA5P         332   65    Male    0:LIVING   12.230003   \n",
       "\n",
       "                              DSS_STATUS  DSS_MONTHS             DFS_STATUS  \\\n",
       "PATIENT_ID                                                                    \n",
       "TCGA-2F-A9KO           1:DEAD WITH TUMOR   24.131242                    NaN   \n",
       "TCGA-2F-A9KQ  0:ALIVE OR DEAD TUMOR FREE   94.881152          0:DiseaseFree   \n",
       "TCGA-2F-A9KR           1:DEAD WITH TUMOR  104.645428  1:Recurred/Progressed   \n",
       "TCGA-2F-A9KT  0:ALIVE OR DEAD TUMOR FREE  108.952231          0:DiseaseFree   \n",
       "TCGA-4Z-AA7M  0:ALIVE OR DEAD TUMOR FREE   16.273794          0:DiseaseFree   \n",
       "...                                  ...         ...                    ...   \n",
       "TCGA-ZF-AA53  0:ALIVE OR DEAD TUMOR FREE   57.895256          0:DiseaseFree   \n",
       "TCGA-ZF-AA54                         NaN   19.397048                    NaN   \n",
       "TCGA-ZF-AA56           1:DEAD WITH TUMOR    8.514975                    NaN   \n",
       "TCGA-ZF-AA58  0:ALIVE OR DEAD TUMOR FREE   54.213105                    NaN   \n",
       "TCGA-ZF-AA5P  0:ALIVE OR DEAD TUMOR FREE   12.230003                    NaN   \n",
       "\n",
       "              DFS_MONTHS     PFS_STATUS  PFS_MONTHS     CANCER_TYPE  \\\n",
       "PATIENT_ID                                                            \n",
       "TCGA-2F-A9KO         NaN  1:PROGRESSION   21.402505  Bladder Cancer   \n",
       "TCGA-2F-A9KQ   94.881152     0:CENSORED   94.881152  Bladder Cancer   \n",
       "TCGA-2F-A9KR  101.456422  1:PROGRESSION  101.456422  Bladder Cancer   \n",
       "TCGA-2F-A9KT  108.952231     0:CENSORED  108.952231  Bladder Cancer   \n",
       "TCGA-4Z-AA7M   16.273794     0:CENSORED   16.273794  Bladder Cancer   \n",
       "...                  ...            ...         ...             ...   \n",
       "TCGA-ZF-AA53   57.895256     0:CENSORED   57.895256  Bladder Cancer   \n",
       "TCGA-ZF-AA54         NaN     0:CENSORED   19.397048  Bladder Cancer   \n",
       "TCGA-ZF-AA56         NaN  1:PROGRESSION    8.153335  Bladder Cancer   \n",
       "TCGA-ZF-AA58         NaN     0:CENSORED   54.213105  Bladder Cancer   \n",
       "TCGA-ZF-AA5P         NaN     0:CENSORED   12.230003  Bladder Cancer   \n",
       "\n",
       "                      CANCER_TYPE_DETAILED  \\\n",
       "PATIENT_ID                                   \n",
       "TCGA-2F-A9KO  Bladder Urothelial Carcinoma   \n",
       "TCGA-2F-A9KQ  Bladder Urothelial Carcinoma   \n",
       "TCGA-2F-A9KR  Bladder Urothelial Carcinoma   \n",
       "TCGA-2F-A9KT  Bladder Urothelial Carcinoma   \n",
       "TCGA-4Z-AA7M  Bladder Urothelial Carcinoma   \n",
       "...                                    ...   \n",
       "TCGA-ZF-AA53  Bladder Urothelial Carcinoma   \n",
       "TCGA-ZF-AA54  Bladder Urothelial Carcinoma   \n",
       "TCGA-ZF-AA56  Bladder Urothelial Carcinoma   \n",
       "TCGA-ZF-AA58  Bladder Urothelial Carcinoma   \n",
       "TCGA-ZF-AA5P  Bladder Urothelial Carcinoma   \n",
       "\n",
       "                                                     TUMOR_TYPE SUBTYPE  \n",
       "PATIENT_ID                                                               \n",
       "TCGA-2F-A9KO  Muscle Invasive Urothelial Carcinoma (PT2 or A...    BLCA  \n",
       "TCGA-2F-A9KQ  Muscle Invasive Urothelial Carcinoma (PT2 or A...    BLCA  \n",
       "TCGA-2F-A9KR  Muscle Invasive Urothelial Carcinoma (PT2 or A...    BLCA  \n",
       "TCGA-2F-A9KT  Muscle Invasive Urothelial Carcinoma (PT2 or A...    BLCA  \n",
       "TCGA-4Z-AA7M  Muscle Invasive Urothelial Carcinoma (PT2 or A...    BLCA  \n",
       "...                                                         ...     ...  \n",
       "TCGA-ZF-AA53  Muscle Invasive Urothelial Carcinoma (PT2 or A...    BLCA  \n",
       "TCGA-ZF-AA54  Muscle Invasive Urothelial Carcinoma (PT2 or A...    BLCA  \n",
       "TCGA-ZF-AA56  Muscle Invasive Urothelial Carcinoma (PT2 or A...    BLCA  \n",
       "TCGA-ZF-AA58  Muscle Invasive Urothelial Carcinoma (PT2 or A...    BLCA  \n",
       "TCGA-ZF-AA5P  Muscle Invasive Urothelial Carcinoma (PT2 or A...    BLCA  \n",
       "\n",
       "[332 rows x 15 columns]"
      ]
     },
     "execution_count": 92,
     "metadata": {},
     "output_type": "execute_result"
    }
   ],
   "source": [
    "clinical_total"
   ]
  },
  {
   "cell_type": "code",
   "execution_count": 78,
   "id": "12c68a36-6fd7-41c0-8238-d8973db4d0e3",
   "metadata": {},
   "outputs": [],
   "source": [
    "clinical = clinical_total[['AGE', 'GENDER', 'OS_STATUS', 'OS_MONTHS']]"
   ]
  },
  {
   "cell_type": "code",
   "execution_count": 79,
   "id": "6b8e4285-a4ae-47e3-9b16-cc9073a1d56c",
   "metadata": {},
   "outputs": [
    {
     "name": "stderr",
     "output_type": "stream",
     "text": [
      "/tmp/ipykernel_54264/2028644419.py:10: SettingWithCopyWarning: \n",
      "A value is trying to be set on a copy of a slice from a DataFrame.\n",
      "Try using .loc[row_indexer,col_indexer] = value instead\n",
      "\n",
      "See the caveats in the documentation: https://pandas.pydata.org/pandas-docs/stable/user_guide/indexing.html#returning-a-view-versus-a-copy\n",
      "  clinical['OS_STATUS'] = clinical['OS_STATUS'].apply(convert_status)\n",
      "/tmp/ipykernel_54264/2028644419.py:11: SettingWithCopyWarning: \n",
      "A value is trying to be set on a copy of a slice from a DataFrame.\n",
      "Try using .loc[row_indexer,col_indexer] = value instead\n",
      "\n",
      "See the caveats in the documentation: https://pandas.pydata.org/pandas-docs/stable/user_guide/indexing.html#returning-a-view-versus-a-copy\n",
      "  clinical['OS_STATUS'] = pd.to_numeric(clinical['OS_STATUS'])\n"
     ]
    }
   ],
   "source": [
    "def convert_status(status):\n",
    "    if status == '1:DECEASED':\n",
    "        return 1\n",
    "    elif status == '0:LIVING':\n",
    "        return 0\n",
    "    else:\n",
    "        print(\"ERROR: y cannot be empty\")\n",
    "        return np.NaN\n",
    "\n",
    "clinical['OS_STATUS'] = clinical['OS_STATUS'].apply(convert_status)\n",
    "clinical['OS_STATUS'] = pd.to_numeric(clinical['OS_STATUS'])"
   ]
  },
  {
   "cell_type": "code",
   "execution_count": 148,
   "id": "2422fd62-2590-44b9-bdf0-c074add0109a",
   "metadata": {},
   "outputs": [],
   "source": [
    "# remove patients wit more than 80 yo and less than 6 months OS\n",
    "filtered_clinical = clinical[~((clinical['AGE'] >= 80) & (clinical['OS_MONTHS'] <= 6))]"
   ]
  },
  {
   "cell_type": "code",
   "execution_count": 149,
   "id": "d9c8b336-94ef-49e9-b9be-d2273ff6d9a8",
   "metadata": {},
   "outputs": [
    {
     "data": {
      "text/plain": [
       "320"
      ]
     },
     "execution_count": 149,
     "metadata": {},
     "output_type": "execute_result"
    }
   ],
   "source": [
    "len(filtered_clinical)"
   ]
  },
  {
   "cell_type": "code",
   "execution_count": 150,
   "id": "97713efd-9d77-4d69-b763-00688cabd42a",
   "metadata": {},
   "outputs": [
    {
     "data": {
      "text/plain": [
       "320"
      ]
     },
     "execution_count": 150,
     "metadata": {},
     "output_type": "execute_result"
    }
   ],
   "source": [
    "len(clinical) - len(clinical[((clinical['AGE'] >= 80) & (clinical['OS_MONTHS'] <= 6))])"
   ]
  },
  {
   "cell_type": "code",
   "execution_count": 151,
   "id": "37b7f968-0235-4bf2-aa7a-be9defd0d046",
   "metadata": {},
   "outputs": [
    {
     "data": {
      "text/plain": [
       "332"
      ]
     },
     "execution_count": 151,
     "metadata": {},
     "output_type": "execute_result"
    }
   ],
   "source": [
    "len(clinical)"
   ]
  },
  {
   "cell_type": "code",
   "execution_count": 155,
   "id": "1c463320-5b56-4919-95d2-8257f2b051b5",
   "metadata": {},
   "outputs": [
    {
     "name": "stdout",
     "output_type": "stream",
     "text": [
      "(332, 1406) (320, 4)\n"
     ]
    }
   ],
   "source": [
    "print(microbiome.shape, filtered_clinical.shape)"
   ]
  },
  {
   "cell_type": "code",
   "execution_count": 156,
   "id": "db978d41-9175-41d7-ae94-c739773abefb",
   "metadata": {},
   "outputs": [
    {
     "data": {
      "text/plain": [
       "(320, 1410)"
      ]
     },
     "execution_count": 156,
     "metadata": {},
     "output_type": "execute_result"
    }
   ],
   "source": [
    "merged = filtered_clinical.merge(microbiome, left_index=True, right_index=True)\n",
    "merged.shape"
   ]
  },
  {
   "cell_type": "code",
   "execution_count": 160,
   "id": "db880e21-625e-4fb2-b9da-8be6634fc47a",
   "metadata": {},
   "outputs": [
    {
     "data": {
      "text/plain": [
       "(320, 3817)"
      ]
     },
     "execution_count": 160,
     "metadata": {},
     "output_type": "execute_result"
    }
   ],
   "source": [
    "merged.merge(alterations, left_index=True, right_index=True)"
   ]
  },
  {
   "cell_type": "code",
   "execution_count": 161,
   "id": "42fa60fb-8943-4da0-ad77-a5c23e532c20",
   "metadata": {},
   "outputs": [],
   "source": [
    "def merge_all( omics ):\n",
    "    df = omics[0]\n",
    "    starting_indices = [0]\n",
    "    for omic in omics[1:]:\n",
    "        starting_indices.append[start[-1] + omic.shape[1]]\n",
    "        df.merge(omic, left_index=True, right_index=True)\n",
    "    return (df, starting_indices)"
   ]
  },
  {
   "cell_type": "code",
   "execution_count": null,
   "id": "331aaaf7-23b8-4ef7-9e98-431c47eb7148",
   "metadata": {},
   "outputs": [],
   "source": [
    "merge_all([filtered_clinical, rna_median, alterations, ])"
   ]
  }
 ],
 "metadata": {
  "kernelspec": {
   "display_name": "Python 3 (ipykernel)",
   "language": "python",
   "name": "python3"
  },
  "language_info": {
   "codemirror_mode": {
    "name": "ipython",
    "version": 3
   },
   "file_extension": ".py",
   "mimetype": "text/x-python",
   "name": "python",
   "nbconvert_exporter": "python",
   "pygments_lexer": "ipython3",
   "version": "3.12.0"
  }
 },
 "nbformat": 4,
 "nbformat_minor": 5
}
