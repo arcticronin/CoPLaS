{
 "cells": [
  {
   "cell_type": "code",
   "execution_count": 158,
   "id": "6718d4d5-d094-4109-859d-951543b980e5",
   "metadata": {},
   "outputs": [],
   "source": [
    "import pandas  as pd\n",
    "import numpy as np"
   ]
  },
  {
   "cell_type": "code",
   "execution_count": 159,
   "id": "a3e2ec4e-6921-4b5d-a2cc-e01ed513b200",
   "metadata": {},
   "outputs": [],
   "source": [
    "relevant_genes = pd.read_csv(\"DaniDatasets/relevant_genes.csv\")"
   ]
  },
  {
   "cell_type": "code",
   "execution_count": 160,
   "id": "28c3146e-8d99-4551-95a4-db56cc515a7b",
   "metadata": {},
   "outputs": [],
   "source": [
    "microbiome = pd.read_csv(\"DaniDatasets/BLCA_csv/microbiome_log_rna.csv\",index_col=0)\n",
    "mirna = pd.read_csv(\"DaniDatasets/BLCA_csv/miRNA.csv\",index_col=0)\n",
    "svs = pd.read_csv(\"DaniDatasets/BLCA_csv/svs.csv\", index_col=0)\n",
    "mutations = pd.read_csv(\"DaniDatasets/BLCA_csv/mutations.csv\",index_col=0)\n",
    "rna_median = pd.read_csv(\"DaniDatasets/BLCA_csv/RNA_expression_median.csv\", index_col=0)\n",
    "rppa_levels = pd.read_csv(\"DaniDatasets/BLCA_csv/rppa_levels.csv\", index_col=0)\n",
    "metilation = pd.read_csv(\"DaniDatasets/BLCA_csv/methylations.csv\", index_col=0)\n",
    "cna_log2 = pd.read_csv(\"DaniDatasets/BLCA_csv/cna_log2.csv\", index_col=0)"
   ]
  },
  {
   "cell_type": "code",
   "execution_count": 161,
   "id": "89a3b6ad-375b-4420-91df-d249c42ef12c",
   "metadata": {},
   "outputs": [
    {
     "name": "stdout",
     "output_type": "stream",
     "text": [
      "dropped 0 columns\n",
      "dropped 0 columns\n",
      "dropped 0 columns\n",
      "dropped 0 columns\n"
     ]
    }
   ],
   "source": [
    "for omic in [mutations, metilation, rna_median, cna_log2]:\n",
    "    columns_to_drop = []\n",
    "    for column_name in mutations.columns:\n",
    "        if not (relevant_genes['Gene'] == column_name).any():\n",
    "            columns_to_drop.append(column_name)\n",
    "    print(\"dropped {} columns\".format(len(columns_to_drop)))\n",
    "    omic.drop(columns=columns_to_drop, inplace=True)\n",
    "    "
   ]
  },
  {
   "cell_type": "code",
   "execution_count": 162,
   "id": "da313f71-e1a5-4c72-8ed3-df01aa378bdb",
   "metadata": {},
   "outputs": [
    {
     "data": {
      "text/plain": [
       "(332, 377)"
      ]
     },
     "execution_count": 162,
     "metadata": {},
     "output_type": "execute_result"
    }
   ],
   "source": [
    "## svs has a particular configuration\n",
    "columns_to_drop = []\n",
    "for column_name in svs.columns:\n",
    "    gene1, gene2 = column_name.split('_')\n",
    "    # Check if either gene is in genes_df\n",
    "    if not ((relevant_genes['Gene'] == gene1).any() \n",
    "            or (relevant_genes['Gene'] == gene2).any()):\n",
    "        columns_to_drop.append(column_name)\n",
    "\n",
    "# Dropping\n",
    "svs.drop(columns=columns_to_drop, inplace=True)\n",
    "svs.shape"
   ]
  },
  {
   "cell_type": "code",
   "execution_count": 163,
   "id": "15d4bdc3-365b-41a8-8d12-e8dc0a359571",
   "metadata": {},
   "outputs": [],
   "source": [
    "# check for index naming\n",
    "for i in range(0,len(svs.index)):\n",
    "    if svs.index[i] != mutations.index[i]:\n",
    "        print(\"Concatenation not Correct\")\n",
    "alterations = pd.concat([svs, mutations], axis=1)"
   ]
  },
  {
   "cell_type": "code",
   "execution_count": 164,
   "id": "3fb4cb24-9646-4a79-9832-2447ab5606c8",
   "metadata": {},
   "outputs": [],
   "source": [
    "# set unique column name\n",
    "for omic, name in zip([rna_median, metilation, mirna, cna_log2, rppa_levels, alterations, microbiome],\n",
    "                      ['rna_median', 'metilation', 'mirna', 'cna_log2', 'rppa_levels', 'alterations', 'microbiome']):\n",
    "    omic.columns = [f\"{name}_{c}\" for c in omic.columns]"
   ]
  },
  {
   "cell_type": "code",
   "execution_count": 165,
   "id": "d8d80aca-ac8f-4bb8-943e-ca175e30924f",
   "metadata": {},
   "outputs": [],
   "source": [
    "clinical_total = pd.read_csv(\"DaniDatasets/BLCA_csv/clinical_data.csv\", index_col=1)"
   ]
  },
  {
   "cell_type": "code",
   "execution_count": 166,
   "id": "12c68a36-6fd7-41c0-8238-d8973db4d0e3",
   "metadata": {},
   "outputs": [],
   "source": [
    "clinical = clinical_total[['AGE', 'GENDER', 'OS_STATUS', 'OS_MONTHS']]"
   ]
  },
  {
   "cell_type": "code",
   "execution_count": 167,
   "id": "6b8e4285-a4ae-47e3-9b16-cc9073a1d56c",
   "metadata": {},
   "outputs": [
    {
     "name": "stderr",
     "output_type": "stream",
     "text": [
      "/tmp/ipykernel_266354/2970686832.py:20: SettingWithCopyWarning: \n",
      "A value is trying to be set on a copy of a slice from a DataFrame.\n",
      "Try using .loc[row_indexer,col_indexer] = value instead\n",
      "\n",
      "See the caveats in the documentation: https://pandas.pydata.org/pandas-docs/stable/user_guide/indexing.html#returning-a-view-versus-a-copy\n",
      "  clinical['OS_STATUS'] = clinical['OS_STATUS'].apply(convert_status)\n",
      "/tmp/ipykernel_266354/2970686832.py:21: SettingWithCopyWarning: \n",
      "A value is trying to be set on a copy of a slice from a DataFrame.\n",
      "Try using .loc[row_indexer,col_indexer] = value instead\n",
      "\n",
      "See the caveats in the documentation: https://pandas.pydata.org/pandas-docs/stable/user_guide/indexing.html#returning-a-view-versus-a-copy\n",
      "  clinical['OS_STATUS'] = pd.to_numeric(clinical['OS_STATUS'])\n",
      "/tmp/ipykernel_266354/2970686832.py:24: SettingWithCopyWarning: \n",
      "A value is trying to be set on a copy of a slice from a DataFrame.\n",
      "Try using .loc[row_indexer,col_indexer] = value instead\n",
      "\n",
      "See the caveats in the documentation: https://pandas.pydata.org/pandas-docs/stable/user_guide/indexing.html#returning-a-view-versus-a-copy\n",
      "  clinical['GENDER'] = clinical['GENDER'].apply(convert_gender)\n",
      "/tmp/ipykernel_266354/2970686832.py:25: SettingWithCopyWarning: \n",
      "A value is trying to be set on a copy of a slice from a DataFrame.\n",
      "Try using .loc[row_indexer,col_indexer] = value instead\n",
      "\n",
      "See the caveats in the documentation: https://pandas.pydata.org/pandas-docs/stable/user_guide/indexing.html#returning-a-view-versus-a-copy\n",
      "  clinical['GENDER'] = pd.to_numeric(clinical['GENDER'])\n"
     ]
    }
   ],
   "source": [
    "def convert_status(status):\n",
    "    if status == '1:DECEASED':\n",
    "        return 1\n",
    "    elif status == '0:LIVING':\n",
    "        return 0\n",
    "    else:\n",
    "        print(\"ERROR: y cannot be empty\")\n",
    "        return np.NaN\n",
    "\n",
    "def convert_gender(gender):\n",
    "    if gender == 'Female':\n",
    "        return 1\n",
    "    elif gender == 'Male':\n",
    "        return 0\n",
    "    else:\n",
    "        print(\"ERROR: y cannot be empty in gender\")\n",
    "        return np.NaN\n",
    "\n",
    "\n",
    "clinical['OS_STATUS'] = clinical['OS_STATUS'].apply(convert_status)\n",
    "clinical['OS_STATUS'] = pd.to_numeric(clinical['OS_STATUS'])\n",
    "\n",
    "\n",
    "clinical['GENDER'] = clinical['GENDER'].apply(convert_gender)\n",
    "clinical['GENDER'] = pd.to_numeric(clinical['GENDER'])"
   ]
  },
  {
   "cell_type": "code",
   "execution_count": 168,
   "id": "2975d6b5-2050-462d-9496-4edf02d6d783",
   "metadata": {},
   "outputs": [
    {
     "data": {
      "text/plain": [
       "331"
      ]
     },
     "execution_count": 168,
     "metadata": {},
     "output_type": "execute_result"
    }
   ],
   "source": [
    "len(filtered_clinical) + 12"
   ]
  },
  {
   "cell_type": "code",
   "execution_count": 169,
   "id": "2422fd62-2590-44b9-bdf0-c074add0109a",
   "metadata": {},
   "outputs": [
    {
     "name": "stdout",
     "output_type": "stream",
     "text": [
      "dropped 13 rows\n"
     ]
    }
   ],
   "source": [
    "# remove patients wit more than 80 yo and less than 6 months OS\n",
    "dropped = 0\n",
    "dropped += len(clinical[((clinical['AGE'] >= 80) & \n",
    "                         (clinical['OS_MONTHS'] <= 6))])\n",
    "\n",
    "dropped += len(clinical[clinical['OS_MONTHS']\n",
    "               .isna() == True])\n",
    "\n",
    "filtered_clinical = clinical[~(\n",
    "    (clinical['AGE'] >= 80) & \n",
    "    (clinical['OS_MONTHS'] <= 6))]\n",
    "\n",
    "filtered_clinical = filtered_clinical[filtered_clinical['OS_MONTHS'].isna() == False]\n",
    "\n",
    "print(\"dropped {} rows\".format(dropped))"
   ]
  },
  {
   "cell_type": "code",
   "execution_count": 170,
   "id": "1c463320-5b56-4919-95d2-8257f2b051b5",
   "metadata": {},
   "outputs": [
    {
     "name": "stdout",
     "output_type": "stream",
     "text": [
      "(332, 1406) (319, 4)\n"
     ]
    }
   ],
   "source": [
    "print(microbiome.shape, filtered_clinical.shape)"
   ]
  },
  {
   "cell_type": "code",
   "execution_count": 171,
   "id": "42fa60fb-8943-4da0-ad77-a5c23e532c20",
   "metadata": {},
   "outputs": [],
   "source": [
    "def merge_all(omics):\n",
    "    df = omics[0]\n",
    "    starting_indices = [0,omics[0].shape[1]]\n",
    "    for omic in omics[1:]:\n",
    "        #print(omic)\n",
    "        starting_indices.append(starting_indices[-1] + omic.shape[1])\n",
    "        df = df.merge(omic, left_index=True, right_index=True)\n",
    "    return (df, starting_indices[:-1])"
   ]
  },
  {
   "cell_type": "code",
   "execution_count": 172,
   "id": "331aaaf7-23b8-4ef7-9e98-431c47eb7148",
   "metadata": {},
   "outputs": [],
   "source": [
    "final_df, indices = merge_all(\n",
    "    [filtered_clinical, \n",
    "     rna_median, \n",
    "     metilation, \n",
    "     mirna ,\n",
    "     cna_log2, \n",
    "     rppa_levels, \n",
    "     alterations,\n",
    "     microbiome])"
   ]
  },
  {
   "cell_type": "code",
   "execution_count": 173,
   "id": "61b0839d-598f-4376-9aa0-dc219831e907",
   "metadata": {},
   "outputs": [
    {
     "data": {
      "text/plain": [
       "[0, 4, 2009, 3550, 4293, 6569, 6758, 9165]"
      ]
     },
     "execution_count": 173,
     "metadata": {},
     "output_type": "execute_result"
    }
   ],
   "source": [
    "indices"
   ]
  },
  {
   "cell_type": "code",
   "execution_count": 174,
   "id": "7a107213-3327-4b30-8a59-03e8d4481ba8",
   "metadata": {},
   "outputs": [
    {
     "data": {
      "text/plain": [
       "(319, 10571)"
      ]
     },
     "execution_count": 174,
     "metadata": {},
     "output_type": "execute_result"
    }
   ],
   "source": [
    "(final_df.shape)"
   ]
  },
  {
   "cell_type": "code",
   "execution_count": 175,
   "id": "60ad2120-71e3-4698-bcf2-850341ee79cc",
   "metadata": {},
   "outputs": [],
   "source": [
    "pd.DataFrame(indices, columns=['index']).to_csv(\"DaniDatasets/indices_for_preprocessed.csv\", index=False)"
   ]
  },
  {
   "cell_type": "code",
   "execution_count": 176,
   "id": "d424f8fc-21c7-47e4-8062-4456b75d40c7",
   "metadata": {},
   "outputs": [],
   "source": [
    "final_df = final_df.rename(columns={'OS_STATUS':'event', 'OS_MONTHS': 'time'})"
   ]
  },
  {
   "cell_type": "code",
   "execution_count": 177,
   "id": "7055fc65-dc44-4e1c-941f-fa9a06cfbc73",
   "metadata": {},
   "outputs": [],
   "source": [
    "final_df.to_csv(\"DaniDatasets/preprocessed.csv\")"
   ]
  },
  {
   "cell_type": "code",
   "execution_count": 178,
   "id": "04904eca-1729-4db2-bfdd-8a5dd29273e9",
   "metadata": {},
   "outputs": [
    {
     "data": {
      "text/plain": [
       "Index(['AGE', 'GENDER', 'event', 'time', 'rna_median_A1CF', 'rna_median_ABCG2',\n",
       "       'rna_median_ABI1', 'rna_median_ABI2', 'rna_median_ABL1',\n",
       "       'rna_median_ABL2',\n",
       "       ...\n",
       "       'microbiome_Yokenella', 'microbiome_Yonghaparkia',\n",
       "       'microbiome_Youngiibacter', 'microbiome_Zavarzinella',\n",
       "       'microbiome_Zhouia', 'microbiome_Zobellia', 'microbiome_Zooshikella',\n",
       "       'microbiome_Zunongwangia', 'microbiome_Zymobacter',\n",
       "       'microbiome_Zymomonas'],\n",
       "      dtype='object', length=10571)"
      ]
     },
     "execution_count": 178,
     "metadata": {},
     "output_type": "execute_result"
    }
   ],
   "source": [
    "final_df.columns"
   ]
  },
  {
   "cell_type": "code",
   "execution_count": null,
   "id": "c2426eea-492e-4772-bb30-c7e8d1fdfcb6",
   "metadata": {},
   "outputs": [],
   "source": []
  }
 ],
 "metadata": {
  "kernelspec": {
   "display_name": "Python 3 (ipykernel)",
   "language": "python",
   "name": "python3"
  },
  "language_info": {
   "codemirror_mode": {
    "name": "ipython",
    "version": 3
   },
   "file_extension": ".py",
   "mimetype": "text/x-python",
   "name": "python",
   "nbconvert_exporter": "python",
   "pygments_lexer": "ipython3",
   "version": "3.12.0"
  }
 },
 "nbformat": 4,
 "nbformat_minor": 5
}
